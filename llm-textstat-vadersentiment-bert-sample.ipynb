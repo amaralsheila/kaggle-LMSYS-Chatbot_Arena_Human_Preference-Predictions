{
 "cells": [
  {
   "cell_type": "markdown",
   "id": "ab2271ca",
   "metadata": {
    "papermill": {
     "duration": 0.022253,
     "end_time": "2024-07-15T11:08:43.947601",
     "exception": false,
     "start_time": "2024-07-15T11:08:43.925348",
     "status": "completed"
    },
    "tags": []
   },
   "source": [
    "# LMSYS - Chatbot Arena Human Preference Predictions\n",
    "\n"
   ]
  },
  {
   "cell_type": "markdown",
   "id": "44346637",
   "metadata": {
    "papermill": {
     "duration": 0.021944,
     "end_time": "2024-07-15T11:08:43.991477",
     "exception": false,
     "start_time": "2024-07-15T11:08:43.969533",
     "status": "completed"
    },
    "tags": []
   },
   "source": [
    "**Due to the size of the train data, and I only using 0.5% of the train data!**\n",
    "\n",
    "WIP: Compute embeddings using TPU in a differente notebook to use the full train data and then load the embeddings here!"
   ]
  },
  {
   "cell_type": "markdown",
   "id": "f5962bca",
   "metadata": {
    "papermill": {
     "duration": 0.022306,
     "end_time": "2024-07-15T11:08:44.035551",
     "exception": false,
     "start_time": "2024-07-15T11:08:44.013245",
     "status": "completed"
    },
    "tags": []
   },
   "source": [
    "## Install and load libraries"
   ]
  },
  {
   "cell_type": "code",
   "execution_count": 1,
   "id": "7c20cfb3",
   "metadata": {
    "execution": {
     "iopub.execute_input": "2024-07-15T11:08:44.081502Z",
     "iopub.status.busy": "2024-07-15T11:08:44.081080Z",
     "iopub.status.idle": "2024-07-15T11:09:01.420705Z",
     "shell.execute_reply": "2024-07-15T11:09:01.419227Z"
    },
    "papermill": {
     "duration": 17.366571,
     "end_time": "2024-07-15T11:09:01.423735",
     "exception": false,
     "start_time": "2024-07-15T11:08:44.057164",
     "status": "completed"
    },
    "tags": []
   },
   "outputs": [
    {
     "name": "stdout",
     "output_type": "stream",
     "text": [
      "Collecting textstat\r\n",
      "  Downloading textstat-0.7.3-py3-none-any.whl.metadata (14 kB)\r\n",
      "Collecting SweetViz\r\n",
      "  Downloading sweetviz-2.3.1-py3-none-any.whl.metadata (24 kB)\r\n",
      "Collecting pyphen (from textstat)\r\n",
      "  Downloading pyphen-0.15.0-py3-none-any.whl.metadata (3.3 kB)\r\n",
      "Requirement already satisfied: pandas!=1.0.0,!=1.0.1,!=1.0.2,>=0.25.3 in /opt/conda/lib/python3.10/site-packages (from SweetViz) (2.2.2)\r\n",
      "Requirement already satisfied: numpy>=1.16.0 in /opt/conda/lib/python3.10/site-packages (from SweetViz) (1.26.4)\r\n",
      "Requirement already satisfied: matplotlib>=3.1.3 in /opt/conda/lib/python3.10/site-packages (from SweetViz) (3.7.5)\r\n",
      "Requirement already satisfied: tqdm>=4.43.0 in /opt/conda/lib/python3.10/site-packages (from SweetViz) (4.66.4)\r\n",
      "Requirement already satisfied: scipy>=1.3.2 in /opt/conda/lib/python3.10/site-packages (from SweetViz) (1.11.4)\r\n",
      "Requirement already satisfied: jinja2>=2.11.1 in /opt/conda/lib/python3.10/site-packages (from SweetViz) (3.1.2)\r\n",
      "Requirement already satisfied: importlib-resources>=1.2.0 in /opt/conda/lib/python3.10/site-packages (from SweetViz) (6.1.1)\r\n",
      "Requirement already satisfied: MarkupSafe>=2.0 in /opt/conda/lib/python3.10/site-packages (from jinja2>=2.11.1->SweetViz) (2.1.3)\r\n",
      "Requirement already satisfied: contourpy>=1.0.1 in /opt/conda/lib/python3.10/site-packages (from matplotlib>=3.1.3->SweetViz) (1.2.0)\r\n",
      "Requirement already satisfied: cycler>=0.10 in /opt/conda/lib/python3.10/site-packages (from matplotlib>=3.1.3->SweetViz) (0.12.1)\r\n",
      "Requirement already satisfied: fonttools>=4.22.0 in /opt/conda/lib/python3.10/site-packages (from matplotlib>=3.1.3->SweetViz) (4.47.0)\r\n",
      "Requirement already satisfied: kiwisolver>=1.0.1 in /opt/conda/lib/python3.10/site-packages (from matplotlib>=3.1.3->SweetViz) (1.4.5)\r\n",
      "Requirement already satisfied: packaging>=20.0 in /opt/conda/lib/python3.10/site-packages (from matplotlib>=3.1.3->SweetViz) (21.3)\r\n",
      "Requirement already satisfied: pillow>=6.2.0 in /opt/conda/lib/python3.10/site-packages (from matplotlib>=3.1.3->SweetViz) (9.5.0)\r\n",
      "Requirement already satisfied: pyparsing>=2.3.1 in /opt/conda/lib/python3.10/site-packages (from matplotlib>=3.1.3->SweetViz) (3.1.1)\r\n",
      "Requirement already satisfied: python-dateutil>=2.7 in /opt/conda/lib/python3.10/site-packages (from matplotlib>=3.1.3->SweetViz) (2.9.0.post0)\r\n",
      "Requirement already satisfied: pytz>=2020.1 in /opt/conda/lib/python3.10/site-packages (from pandas!=1.0.0,!=1.0.1,!=1.0.2,>=0.25.3->SweetViz) (2023.3.post1)\r\n",
      "Requirement already satisfied: tzdata>=2022.7 in /opt/conda/lib/python3.10/site-packages (from pandas!=1.0.0,!=1.0.1,!=1.0.2,>=0.25.3->SweetViz) (2023.4)\r\n",
      "Requirement already satisfied: six>=1.5 in /opt/conda/lib/python3.10/site-packages (from python-dateutil>=2.7->matplotlib>=3.1.3->SweetViz) (1.16.0)\r\n",
      "Downloading textstat-0.7.3-py3-none-any.whl (105 kB)\r\n",
      "\u001b[2K   \u001b[90m━━━━━━━━━━━━━━━━━━━━━━━━━━━━━━━━━━━━━━━━\u001b[0m \u001b[32m105.1/105.1 kB\u001b[0m \u001b[31m5.3 MB/s\u001b[0m eta \u001b[36m0:00:00\u001b[0m\r\n",
      "\u001b[?25hDownloading sweetviz-2.3.1-py3-none-any.whl (15.1 MB)\r\n",
      "\u001b[2K   \u001b[90m━━━━━━━━━━━━━━━━━━━━━━━━━━━━━━━━━━━━━━━━\u001b[0m \u001b[32m15.1/15.1 MB\u001b[0m \u001b[31m67.9 MB/s\u001b[0m eta \u001b[36m0:00:00\u001b[0m\r\n",
      "\u001b[?25hDownloading pyphen-0.15.0-py3-none-any.whl (2.1 MB)\r\n",
      "\u001b[2K   \u001b[90m━━━━━━━━━━━━━━━━━━━━━━━━━━━━━━━━━━━━━━━━\u001b[0m \u001b[32m2.1/2.1 MB\u001b[0m \u001b[31m55.5 MB/s\u001b[0m eta \u001b[36m0:00:00\u001b[0m\r\n",
      "\u001b[?25hInstalling collected packages: pyphen, textstat, SweetViz\r\n",
      "Successfully installed SweetViz-2.3.1 pyphen-0.15.0 textstat-0.7.3\r\n"
     ]
    }
   ],
   "source": [
    "!pip install textstat SweetViz"
   ]
  },
  {
   "cell_type": "code",
   "execution_count": 2,
   "id": "53178262",
   "metadata": {
    "_cell_guid": "b1076dfc-b9ad-4769-8c92-a6c4dae69d19",
    "_uuid": "8f2839f25d086af736a60e9eeb907d3b93b6e0e5",
    "execution": {
     "iopub.execute_input": "2024-07-15T11:09:01.473435Z",
     "iopub.status.busy": "2024-07-15T11:09:01.472451Z",
     "iopub.status.idle": "2024-07-15T11:09:26.011926Z",
     "shell.execute_reply": "2024-07-15T11:09:26.010823Z"
    },
    "papermill": {
     "duration": 24.56717,
     "end_time": "2024-07-15T11:09:26.014567",
     "exception": false,
     "start_time": "2024-07-15T11:09:01.447397",
     "status": "completed"
    },
    "tags": []
   },
   "outputs": [
    {
     "name": "stderr",
     "output_type": "stream",
     "text": [
      "2024-07-15 11:09:07.841778: E external/local_xla/xla/stream_executor/cuda/cuda_dnn.cc:9261] Unable to register cuDNN factory: Attempting to register factory for plugin cuDNN when one has already been registered\n",
      "2024-07-15 11:09:07.841918: E external/local_xla/xla/stream_executor/cuda/cuda_fft.cc:607] Unable to register cuFFT factory: Attempting to register factory for plugin cuFFT when one has already been registered\n",
      "2024-07-15 11:09:07.987132: E external/local_xla/xla/stream_executor/cuda/cuda_blas.cc:1515] Unable to register cuBLAS factory: Attempting to register factory for plugin cuBLAS when one has already been registered\n"
     ]
    }
   ],
   "source": [
    "import warnings\n",
    "warnings.filterwarnings('ignore')\n",
    "\n",
    "import pandas as pd\n",
    "import numpy as np\n",
    "\n",
    "import seaborn as sns\n",
    "import matplotlib.pyplot as plt\n",
    "import plotly.express as px\n",
    "import sweetviz as sv\n",
    "\n",
    "import re\n",
    "import string\n",
    "import nltk\n",
    "from nltk.corpus import stopwords\n",
    "\n",
    "import tensorflow as tf\n",
    "from tensorflow.keras.preprocessing.text import Tokenizer\n",
    "from tensorflow.keras.preprocessing.sequence import pad_sequences\n",
    "\n",
    "from nltk.sentiment.vader import SentimentIntensityAnalyzer\n",
    "\n",
    "import textstat\n",
    "from sklearn.feature_extraction.text import CountVectorizer\n",
    "\n",
    "from sklearn.model_selection import train_test_split\n",
    "\n",
    "from sklearn.metrics.pairwise import cosine_similarity\n",
    "from transformers import BertTokenizer, TFBertModel\n",
    "\n",
    "from sklearn.ensemble import RandomForestClassifier, GradientBoostingClassifier\n",
    "from sklearn.svm import SVC\n",
    "\n",
    "from tensorflow.keras.models import Sequential\n",
    "from tensorflow.keras.layers import Dense, Dropout\n",
    "from tensorflow.keras.optimizers import Adam\n",
    "\n",
    "from sklearn.metrics import accuracy_score, \\\n",
    "                            log_loss, \\\n",
    "                            confusion_matrix, \\\n",
    "                            classification_report"
   ]
  },
  {
   "cell_type": "code",
   "execution_count": 3,
   "id": "7880cffb",
   "metadata": {
    "execution": {
     "iopub.execute_input": "2024-07-15T11:09:26.064396Z",
     "iopub.status.busy": "2024-07-15T11:09:26.063501Z",
     "iopub.status.idle": "2024-07-15T11:09:26.148782Z",
     "shell.execute_reply": "2024-07-15T11:09:26.147411Z"
    },
    "papermill": {
     "duration": 0.112915,
     "end_time": "2024-07-15T11:09:26.151475",
     "exception": false,
     "start_time": "2024-07-15T11:09:26.038560",
     "status": "completed"
    },
    "tags": []
   },
   "outputs": [
    {
     "name": "stdout",
     "output_type": "stream",
     "text": [
      "[nltk_data] Downloading package stopwords to /usr/share/nltk_data...\n",
      "[nltk_data]   Package stopwords is already up-to-date!\n"
     ]
    }
   ],
   "source": [
    "nltk.download('stopwords')\n",
    "stop_words = set(stopwords.words('english'))"
   ]
  },
  {
   "cell_type": "markdown",
   "id": "95be0644",
   "metadata": {
    "papermill": {
     "duration": 0.023336,
     "end_time": "2024-07-15T11:09:26.198829",
     "exception": false,
     "start_time": "2024-07-15T11:09:26.175493",
     "status": "completed"
    },
    "tags": []
   },
   "source": [
    "## Loading data"
   ]
  },
  {
   "cell_type": "code",
   "execution_count": 4,
   "id": "da2bc90b",
   "metadata": {
    "execution": {
     "iopub.execute_input": "2024-07-15T11:09:26.247890Z",
     "iopub.status.busy": "2024-07-15T11:09:26.247068Z",
     "iopub.status.idle": "2024-07-15T11:09:30.748988Z",
     "shell.execute_reply": "2024-07-15T11:09:30.747719Z"
    },
    "papermill": {
     "duration": 4.52974,
     "end_time": "2024-07-15T11:09:30.752016",
     "exception": false,
     "start_time": "2024-07-15T11:09:26.222276",
     "status": "completed"
    },
    "tags": []
   },
   "outputs": [],
   "source": [
    "train_data = pd.read_csv('/kaggle/input/lmsys-chatbot-arena/train.csv')\n",
    "test_data = pd.read_csv('/kaggle/input/lmsys-chatbot-arena/test.csv')"
   ]
  },
  {
   "cell_type": "markdown",
   "id": "dc586bcb",
   "metadata": {
    "papermill": {
     "duration": 0.023283,
     "end_time": "2024-07-15T11:09:30.799213",
     "exception": false,
     "start_time": "2024-07-15T11:09:30.775930",
     "status": "completed"
    },
    "tags": []
   },
   "source": [
    "## Exploratory Data Analysis (EDA)"
   ]
  },
  {
   "cell_type": "code",
   "execution_count": 5,
   "id": "3101b51d",
   "metadata": {
    "execution": {
     "iopub.execute_input": "2024-07-15T11:09:30.847680Z",
     "iopub.status.busy": "2024-07-15T11:09:30.847292Z",
     "iopub.status.idle": "2024-07-15T11:09:40.060994Z",
     "shell.execute_reply": "2024-07-15T11:09:40.059419Z"
    },
    "papermill": {
     "duration": 9.243298,
     "end_time": "2024-07-15T11:09:40.066007",
     "exception": false,
     "start_time": "2024-07-15T11:09:30.822709",
     "status": "completed"
    },
    "tags": []
   },
   "outputs": [
    {
     "data": {
      "application/vnd.jupyter.widget-view+json": {
       "model_id": "ef0b3829831b4fd1941d407e6b39ddfc",
       "version_major": 2,
       "version_minor": 0
      },
      "text/plain": [
       "                                             |          | [  0%]   00:00 -> (? left)"
      ]
     },
     "metadata": {},
     "output_type": "display_data"
    }
   ],
   "source": [
    "train_analysis = sv.analyze(train_data)"
   ]
  },
  {
   "cell_type": "code",
   "execution_count": 6,
   "id": "14ad8fe3",
   "metadata": {
    "execution": {
     "iopub.execute_input": "2024-07-15T11:09:40.145696Z",
     "iopub.status.busy": "2024-07-15T11:09:40.144746Z",
     "iopub.status.idle": "2024-07-15T11:09:40.489408Z",
     "shell.execute_reply": "2024-07-15T11:09:40.488302Z"
    },
    "papermill": {
     "duration": 0.376878,
     "end_time": "2024-07-15T11:09:40.491985",
     "exception": false,
     "start_time": "2024-07-15T11:09:40.115107",
     "status": "completed"
    },
    "tags": []
   },
   "outputs": [
    {
     "name": "stdout",
     "output_type": "stream",
     "text": [
      "Report train_analysis.html was generated! NOTEBOOK/COLAB USERS: the web browser MAY not pop up, regardless, the report IS saved in your notebook/colab files.\n"
     ]
    }
   ],
   "source": [
    "train_analysis.show_html('train_analysis.html')"
   ]
  },
  {
   "cell_type": "code",
   "execution_count": 7,
   "id": "350262b6",
   "metadata": {
    "execution": {
     "iopub.execute_input": "2024-07-15T11:09:40.541634Z",
     "iopub.status.busy": "2024-07-15T11:09:40.541239Z",
     "iopub.status.idle": "2024-07-15T11:09:40.560433Z",
     "shell.execute_reply": "2024-07-15T11:09:40.559331Z"
    },
    "papermill": {
     "duration": 0.046745,
     "end_time": "2024-07-15T11:09:40.562845",
     "exception": false,
     "start_time": "2024-07-15T11:09:40.516100",
     "status": "completed"
    },
    "tags": []
   },
   "outputs": [
    {
     "data": {
      "text/html": [
       "<div>\n",
       "<style scoped>\n",
       "    .dataframe tbody tr th:only-of-type {\n",
       "        vertical-align: middle;\n",
       "    }\n",
       "\n",
       "    .dataframe tbody tr th {\n",
       "        vertical-align: top;\n",
       "    }\n",
       "\n",
       "    .dataframe thead th {\n",
       "        text-align: right;\n",
       "    }\n",
       "</style>\n",
       "<table border=\"1\" class=\"dataframe\">\n",
       "  <thead>\n",
       "    <tr style=\"text-align: right;\">\n",
       "      <th></th>\n",
       "      <th>id</th>\n",
       "      <th>model_a</th>\n",
       "      <th>model_b</th>\n",
       "      <th>prompt</th>\n",
       "      <th>response_a</th>\n",
       "      <th>response_b</th>\n",
       "      <th>winner_model_a</th>\n",
       "      <th>winner_model_b</th>\n",
       "      <th>winner_tie</th>\n",
       "    </tr>\n",
       "  </thead>\n",
       "  <tbody>\n",
       "    <tr>\n",
       "      <th>0</th>\n",
       "      <td>30192</td>\n",
       "      <td>gpt-4-1106-preview</td>\n",
       "      <td>gpt-4-0613</td>\n",
       "      <td>[\"Is it morally right to try to have a certain...</td>\n",
       "      <td>[\"The question of whether it is morally right ...</td>\n",
       "      <td>[\"As an AI, I don't have personal beliefs or o...</td>\n",
       "      <td>1</td>\n",
       "      <td>0</td>\n",
       "      <td>0</td>\n",
       "    </tr>\n",
       "    <tr>\n",
       "      <th>1</th>\n",
       "      <td>53567</td>\n",
       "      <td>koala-13b</td>\n",
       "      <td>gpt-4-0613</td>\n",
       "      <td>[\"What is the difference between marriage lice...</td>\n",
       "      <td>[\"A marriage license is a legal document that ...</td>\n",
       "      <td>[\"A marriage license and a marriage certificat...</td>\n",
       "      <td>0</td>\n",
       "      <td>1</td>\n",
       "      <td>0</td>\n",
       "    </tr>\n",
       "    <tr>\n",
       "      <th>2</th>\n",
       "      <td>65089</td>\n",
       "      <td>gpt-3.5-turbo-0613</td>\n",
       "      <td>mistral-medium</td>\n",
       "      <td>[\"explain function calling. how would you call...</td>\n",
       "      <td>[\"Function calling is the process of invoking ...</td>\n",
       "      <td>[\"Function calling is the process of invoking ...</td>\n",
       "      <td>0</td>\n",
       "      <td>0</td>\n",
       "      <td>1</td>\n",
       "    </tr>\n",
       "    <tr>\n",
       "      <th>3</th>\n",
       "      <td>96401</td>\n",
       "      <td>llama-2-13b-chat</td>\n",
       "      <td>mistral-7b-instruct</td>\n",
       "      <td>[\"How can I create a test set for a very rare ...</td>\n",
       "      <td>[\"Creating a test set for a very rare category...</td>\n",
       "      <td>[\"When building a classifier for a very rare c...</td>\n",
       "      <td>1</td>\n",
       "      <td>0</td>\n",
       "      <td>0</td>\n",
       "    </tr>\n",
       "    <tr>\n",
       "      <th>4</th>\n",
       "      <td>198779</td>\n",
       "      <td>koala-13b</td>\n",
       "      <td>gpt-3.5-turbo-0314</td>\n",
       "      <td>[\"What is the best way to travel from Tel-Aviv...</td>\n",
       "      <td>[\"The best way to travel from Tel Aviv to Jeru...</td>\n",
       "      <td>[\"The best way to travel from Tel-Aviv to Jeru...</td>\n",
       "      <td>0</td>\n",
       "      <td>1</td>\n",
       "      <td>0</td>\n",
       "    </tr>\n",
       "  </tbody>\n",
       "</table>\n",
       "</div>"
      ],
      "text/plain": [
       "       id             model_a              model_b  \\\n",
       "0   30192  gpt-4-1106-preview           gpt-4-0613   \n",
       "1   53567           koala-13b           gpt-4-0613   \n",
       "2   65089  gpt-3.5-turbo-0613       mistral-medium   \n",
       "3   96401    llama-2-13b-chat  mistral-7b-instruct   \n",
       "4  198779           koala-13b   gpt-3.5-turbo-0314   \n",
       "\n",
       "                                              prompt  \\\n",
       "0  [\"Is it morally right to try to have a certain...   \n",
       "1  [\"What is the difference between marriage lice...   \n",
       "2  [\"explain function calling. how would you call...   \n",
       "3  [\"How can I create a test set for a very rare ...   \n",
       "4  [\"What is the best way to travel from Tel-Aviv...   \n",
       "\n",
       "                                          response_a  \\\n",
       "0  [\"The question of whether it is morally right ...   \n",
       "1  [\"A marriage license is a legal document that ...   \n",
       "2  [\"Function calling is the process of invoking ...   \n",
       "3  [\"Creating a test set for a very rare category...   \n",
       "4  [\"The best way to travel from Tel Aviv to Jeru...   \n",
       "\n",
       "                                          response_b  winner_model_a  \\\n",
       "0  [\"As an AI, I don't have personal beliefs or o...               1   \n",
       "1  [\"A marriage license and a marriage certificat...               0   \n",
       "2  [\"Function calling is the process of invoking ...               0   \n",
       "3  [\"When building a classifier for a very rare c...               1   \n",
       "4  [\"The best way to travel from Tel-Aviv to Jeru...               0   \n",
       "\n",
       "   winner_model_b  winner_tie  \n",
       "0               0           0  \n",
       "1               1           0  \n",
       "2               0           1  \n",
       "3               0           0  \n",
       "4               1           0  "
      ]
     },
     "execution_count": 7,
     "metadata": {},
     "output_type": "execute_result"
    }
   ],
   "source": [
    "train_data.head()"
   ]
  },
  {
   "cell_type": "code",
   "execution_count": 8,
   "id": "47a5a761",
   "metadata": {
    "execution": {
     "iopub.execute_input": "2024-07-15T11:09:40.613185Z",
     "iopub.status.busy": "2024-07-15T11:09:40.612755Z",
     "iopub.status.idle": "2024-07-15T11:09:40.619328Z",
     "shell.execute_reply": "2024-07-15T11:09:40.618136Z"
    },
    "papermill": {
     "duration": 0.034649,
     "end_time": "2024-07-15T11:09:40.621667",
     "exception": false,
     "start_time": "2024-07-15T11:09:40.587018",
     "status": "completed"
    },
    "tags": []
   },
   "outputs": [
    {
     "name": "stdout",
     "output_type": "stream",
     "text": [
      "Training Data - (57477, 9)\n",
      "Test Data - (3, 4)\n"
     ]
    }
   ],
   "source": [
    "print(\"Training Data -\", train_data.shape)\n",
    "print(\"Test Data -\", test_data.shape)"
   ]
  },
  {
   "cell_type": "code",
   "execution_count": 9,
   "id": "200c4fca",
   "metadata": {
    "execution": {
     "iopub.execute_input": "2024-07-15T11:09:40.672198Z",
     "iopub.status.busy": "2024-07-15T11:09:40.671758Z",
     "iopub.status.idle": "2024-07-15T11:09:40.915568Z",
     "shell.execute_reply": "2024-07-15T11:09:40.914365Z"
    },
    "papermill": {
     "duration": 0.272095,
     "end_time": "2024-07-15T11:09:40.918111",
     "exception": false,
     "start_time": "2024-07-15T11:09:40.646016",
     "status": "completed"
    },
    "tags": []
   },
   "outputs": [
    {
     "data": {
      "text/html": [
       "<div>\n",
       "<style scoped>\n",
       "    .dataframe tbody tr th:only-of-type {\n",
       "        vertical-align: middle;\n",
       "    }\n",
       "\n",
       "    .dataframe tbody tr th {\n",
       "        vertical-align: top;\n",
       "    }\n",
       "\n",
       "    .dataframe thead th {\n",
       "        text-align: right;\n",
       "    }\n",
       "</style>\n",
       "<table border=\"1\" class=\"dataframe\">\n",
       "  <thead>\n",
       "    <tr style=\"text-align: right;\">\n",
       "      <th></th>\n",
       "      <th>model_a</th>\n",
       "      <th>model_b</th>\n",
       "      <th>prompt</th>\n",
       "      <th>response_a</th>\n",
       "      <th>response_b</th>\n",
       "    </tr>\n",
       "  </thead>\n",
       "  <tbody>\n",
       "    <tr>\n",
       "      <th>count</th>\n",
       "      <td>57477</td>\n",
       "      <td>57477</td>\n",
       "      <td>57477</td>\n",
       "      <td>57477</td>\n",
       "      <td>57477</td>\n",
       "    </tr>\n",
       "    <tr>\n",
       "      <th>unique</th>\n",
       "      <td>64</td>\n",
       "      <td>64</td>\n",
       "      <td>51734</td>\n",
       "      <td>56566</td>\n",
       "      <td>56609</td>\n",
       "    </tr>\n",
       "    <tr>\n",
       "      <th>top</th>\n",
       "      <td>gpt-4-1106-preview</td>\n",
       "      <td>gpt-4-1106-preview</td>\n",
       "      <td>[\"Answer the following statements with \\\"Agree...</td>\n",
       "      <td>[\"Hello! How can I assist you today?\"]</td>\n",
       "      <td>[\"Hello! How can I assist you today?\"]</td>\n",
       "    </tr>\n",
       "    <tr>\n",
       "      <th>freq</th>\n",
       "      <td>3678</td>\n",
       "      <td>3709</td>\n",
       "      <td>101</td>\n",
       "      <td>109</td>\n",
       "      <td>100</td>\n",
       "    </tr>\n",
       "  </tbody>\n",
       "</table>\n",
       "</div>"
      ],
      "text/plain": [
       "                   model_a             model_b  \\\n",
       "count                57477               57477   \n",
       "unique                  64                  64   \n",
       "top     gpt-4-1106-preview  gpt-4-1106-preview   \n",
       "freq                  3678                3709   \n",
       "\n",
       "                                                   prompt  \\\n",
       "count                                               57477   \n",
       "unique                                              51734   \n",
       "top     [\"Answer the following statements with \\\"Agree...   \n",
       "freq                                                  101   \n",
       "\n",
       "                                    response_a  \\\n",
       "count                                    57477   \n",
       "unique                                   56566   \n",
       "top     [\"Hello! How can I assist you today?\"]   \n",
       "freq                                       109   \n",
       "\n",
       "                                    response_b  \n",
       "count                                    57477  \n",
       "unique                                   56609  \n",
       "top     [\"Hello! How can I assist you today?\"]  \n",
       "freq                                       100  "
      ]
     },
     "execution_count": 9,
     "metadata": {},
     "output_type": "execute_result"
    }
   ],
   "source": [
    "train_data.describe(include=['O'])"
   ]
  },
  {
   "cell_type": "code",
   "execution_count": 10,
   "id": "08d9e4b3",
   "metadata": {
    "execution": {
     "iopub.execute_input": "2024-07-15T11:09:40.969155Z",
     "iopub.status.busy": "2024-07-15T11:09:40.968720Z",
     "iopub.status.idle": "2024-07-15T11:09:41.022186Z",
     "shell.execute_reply": "2024-07-15T11:09:41.020728Z"
    },
    "papermill": {
     "duration": 0.082054,
     "end_time": "2024-07-15T11:09:41.024778",
     "exception": false,
     "start_time": "2024-07-15T11:09:40.942724",
     "status": "completed"
    },
    "tags": []
   },
   "outputs": [
    {
     "name": "stdout",
     "output_type": "stream",
     "text": [
      "<class 'pandas.core.frame.DataFrame'>\n",
      "RangeIndex: 57477 entries, 0 to 57476\n",
      "Data columns (total 9 columns):\n",
      " #   Column          Non-Null Count  Dtype \n",
      "---  ------          --------------  ----- \n",
      " 0   id              57477 non-null  int64 \n",
      " 1   model_a         57477 non-null  object\n",
      " 2   model_b         57477 non-null  object\n",
      " 3   prompt          57477 non-null  object\n",
      " 4   response_a      57477 non-null  object\n",
      " 5   response_b      57477 non-null  object\n",
      " 6   winner_model_a  57477 non-null  int64 \n",
      " 7   winner_model_b  57477 non-null  int64 \n",
      " 8   winner_tie      57477 non-null  int64 \n",
      "dtypes: int64(4), object(5)\n",
      "memory usage: 3.9+ MB\n",
      "None\n"
     ]
    }
   ],
   "source": [
    "print(train_data.info())"
   ]
  },
  {
   "cell_type": "code",
   "execution_count": 11,
   "id": "40f19f39",
   "metadata": {
    "execution": {
     "iopub.execute_input": "2024-07-15T11:09:41.075784Z",
     "iopub.status.busy": "2024-07-15T11:09:41.075393Z",
     "iopub.status.idle": "2024-07-15T11:09:41.578749Z",
     "shell.execute_reply": "2024-07-15T11:09:41.577514Z"
    },
    "papermill": {
     "duration": 0.532064,
     "end_time": "2024-07-15T11:09:41.581544",
     "exception": false,
     "start_time": "2024-07-15T11:09:41.049480",
     "status": "completed"
    },
    "tags": []
   },
   "outputs": [
    {
     "data": {
      "text/plain": [
       "7"
      ]
     },
     "execution_count": 11,
     "metadata": {},
     "output_type": "execute_result"
    }
   ],
   "source": [
    "train_data.drop(\"id\", axis=1).duplicated().sum()"
   ]
  },
  {
   "cell_type": "markdown",
   "id": "f8c884f3",
   "metadata": {
    "papermill": {
     "duration": 0.024657,
     "end_time": "2024-07-15T11:09:41.631797",
     "exception": false,
     "start_time": "2024-07-15T11:09:41.607140",
     "status": "completed"
    },
    "tags": []
   },
   "source": [
    "There exist 14 duplicated rows forming 7 groups, I will just keep one row per group."
   ]
  },
  {
   "cell_type": "code",
   "execution_count": 12,
   "id": "a6551382",
   "metadata": {
    "execution": {
     "iopub.execute_input": "2024-07-15T11:09:41.683853Z",
     "iopub.status.busy": "2024-07-15T11:09:41.683457Z",
     "iopub.status.idle": "2024-07-15T11:09:42.176680Z",
     "shell.execute_reply": "2024-07-15T11:09:42.175541Z"
    },
    "papermill": {
     "duration": 0.522394,
     "end_time": "2024-07-15T11:09:42.179603",
     "exception": false,
     "start_time": "2024-07-15T11:09:41.657209",
     "status": "completed"
    },
    "tags": []
   },
   "outputs": [],
   "source": [
    "train_data = train_data.drop_duplicates(keep=\"first\", ignore_index=True)"
   ]
  },
  {
   "cell_type": "markdown",
   "id": "ab43f9f5",
   "metadata": {
    "papermill": {
     "duration": 0.024499,
     "end_time": "2024-07-15T11:09:42.229043",
     "exception": false,
     "start_time": "2024-07-15T11:09:42.204544",
     "status": "completed"
    },
    "tags": []
   },
   "source": [
    "Checking the quality of the train data with respect the `id` column."
   ]
  },
  {
   "cell_type": "code",
   "execution_count": 13,
   "id": "5e248b10",
   "metadata": {
    "execution": {
     "iopub.execute_input": "2024-07-15T11:09:42.281035Z",
     "iopub.status.busy": "2024-07-15T11:09:42.279853Z",
     "iopub.status.idle": "2024-07-15T11:09:42.792444Z",
     "shell.execute_reply": "2024-07-15T11:09:42.791229Z"
    },
    "papermill": {
     "duration": 0.541574,
     "end_time": "2024-07-15T11:09:42.795353",
     "exception": false,
     "start_time": "2024-07-15T11:09:42.253779",
     "status": "completed"
    },
    "tags": []
   },
   "outputs": [
    {
     "data": {
      "text/plain": [
       "id                57477\n",
       "model_a              64\n",
       "model_b              64\n",
       "prompt            51734\n",
       "response_a        56566\n",
       "response_b        56609\n",
       "winner_model_a        2\n",
       "winner_model_b        2\n",
       "winner_tie            2\n",
       "dtype: int64"
      ]
     },
     "execution_count": 13,
     "metadata": {},
     "output_type": "execute_result"
    }
   ],
   "source": [
    "train_data.nunique()"
   ]
  },
  {
   "cell_type": "code",
   "execution_count": 14,
   "id": "cc615526",
   "metadata": {
    "execution": {
     "iopub.execute_input": "2024-07-15T11:09:42.907994Z",
     "iopub.status.busy": "2024-07-15T11:09:42.907595Z",
     "iopub.status.idle": "2024-07-15T11:09:42.915848Z",
     "shell.execute_reply": "2024-07-15T11:09:42.914622Z"
    },
    "papermill": {
     "duration": 0.097731,
     "end_time": "2024-07-15T11:09:42.918368",
     "exception": false,
     "start_time": "2024-07-15T11:09:42.820637",
     "status": "completed"
    },
    "tags": []
   },
   "outputs": [],
   "source": [
    "assert train_data[\"id\"].nunique() == len(train_data)"
   ]
  },
  {
   "cell_type": "code",
   "execution_count": 15,
   "id": "b9cc77ff",
   "metadata": {
    "execution": {
     "iopub.execute_input": "2024-07-15T11:09:42.970549Z",
     "iopub.status.busy": "2024-07-15T11:09:42.970162Z",
     "iopub.status.idle": "2024-07-15T11:09:43.017460Z",
     "shell.execute_reply": "2024-07-15T11:09:43.016360Z"
    },
    "papermill": {
     "duration": 0.076631,
     "end_time": "2024-07-15T11:09:43.020056",
     "exception": false,
     "start_time": "2024-07-15T11:09:42.943425",
     "status": "completed"
    },
    "tags": []
   },
   "outputs": [
    {
     "data": {
      "text/plain": [
       "id                0\n",
       "model_a           0\n",
       "model_b           0\n",
       "prompt            0\n",
       "response_a        0\n",
       "response_b        0\n",
       "winner_model_a    0\n",
       "winner_model_b    0\n",
       "winner_tie        0\n",
       "dtype: int64"
      ]
     },
     "execution_count": 15,
     "metadata": {},
     "output_type": "execute_result"
    }
   ],
   "source": [
    "train_data.isna().sum()"
   ]
  },
  {
   "cell_type": "markdown",
   "id": "e36a13e7",
   "metadata": {
    "papermill": {
     "duration": 0.025009,
     "end_time": "2024-07-15T11:09:43.071178",
     "exception": false,
     "start_time": "2024-07-15T11:09:43.046169",
     "status": "completed"
    },
    "tags": []
   },
   "source": [
    "### Distribution"
   ]
  },
  {
   "cell_type": "code",
   "execution_count": 16,
   "id": "5e74635c",
   "metadata": {
    "execution": {
     "iopub.execute_input": "2024-07-15T11:09:43.123633Z",
     "iopub.status.busy": "2024-07-15T11:09:43.123187Z",
     "iopub.status.idle": "2024-07-15T11:09:45.063516Z",
     "shell.execute_reply": "2024-07-15T11:09:45.062342Z"
    },
    "papermill": {
     "duration": 1.969638,
     "end_time": "2024-07-15T11:09:45.066155",
     "exception": false,
     "start_time": "2024-07-15T11:09:43.096517",
     "status": "completed"
    },
    "tags": []
   },
   "outputs": [
    {
     "data": {
      "text/html": [
       "        <script type=\"text/javascript\">\n",
       "        window.PlotlyConfig = {MathJaxConfig: 'local'};\n",
       "        if (window.MathJax && window.MathJax.Hub && window.MathJax.Hub.Config) {window.MathJax.Hub.Config({SVG: {font: \"STIX-Web\"}});}\n",
       "        if (typeof require !== 'undefined') {\n",
       "        require.undef(\"plotly\");\n",
       "        requirejs.config({\n",
       "            paths: {\n",
       "                'plotly': ['https://cdn.plot.ly/plotly-2.27.0.min']\n",
       "            }\n",
       "        });\n",
       "        require(['plotly'], function(Plotly) {\n",
       "            window._Plotly = Plotly;\n",
       "        });\n",
       "        }\n",
       "        </script>\n",
       "        "
      ]
     },
     "metadata": {},
     "output_type": "display_data"
    },
    {
     "data": {
      "text/html": [
       "<div>                            <div id=\"df575c66-0685-445c-9be4-13e7fd656743\" class=\"plotly-graph-div\" style=\"height:525px; width:100%;\"></div>            <script type=\"text/javascript\">                require([\"plotly\"], function(Plotly) {                    window.PLOTLYENV=window.PLOTLYENV || {};                                    if (document.getElementById(\"df575c66-0685-445c-9be4-13e7fd656743\")) {                    Plotly.newPlot(                        \"df575c66-0685-445c-9be4-13e7fd656743\",                        [{\"alignmentgroup\":\"True\",\"hovertemplate\":\"LLM=%{x}\\u003cbr\\u003eCount=%{marker.color}\\u003cextra\\u003e\\u003c\\u002fextra\\u003e\",\"legendgroup\":\"\",\"marker\":{\"color\":[7387,7083,6165,5583,4136,4122,3978,3720,3545,3448,3428,3352,3315,2607,2456,2401,1977,1793,1644,1632,1617,1598,1591,1580,1494,1486,1474,1447,1438,1420,1403,1302,1261,1250,1200,1160,1158,1134,1072,1021,989,952,928,914,899,861,800,795,771,684,667,598,564,551,547,412,408,373,325,286,244,208,200,100],\"coloraxis\":\"coloraxis\",\"pattern\":{\"shape\":\"\"}},\"name\":\"\",\"offsetgroup\":\"\",\"orientation\":\"v\",\"showlegend\":false,\"textposition\":\"auto\",\"x\":[\"gpt-4-1106-preview\",\"gpt-3.5-turbo-0613\",\"gpt-4-0613\",\"claude-2.1\",\"claude-instant-1\",\"gpt-4-0314\",\"claude-1\",\"vicuna-33b\",\"mixtral-8x7b-instruct-v0.1\",\"vicuna-13b\",\"llama-2-70b-chat\",\"gpt-3.5-turbo-1106\",\"mistral-medium\",\"llama-2-13b-chat\",\"claude-2.0\",\"zephyr-7b-beta\",\"palm-2\",\"llama-2-7b-chat\",\"wizardlm-70b\",\"openchat-3.5\",\"mistral-7b-instruct\",\"koala-13b\",\"vicuna-7b\",\"wizardlm-13b\",\"oasst-pythia-12b\",\"gemini-pro-dev-api\",\"codellama-34b-instruct\",\"yi-34b-chat\",\"gemini-pro\",\"pplx-70b-online\",\"alpaca-13b\",\"gpt-3.5-turbo-0314\",\"chatglm-6b\",\"pplx-7b-online\",\"tulu-2-dpo-70b\",\"gpt-4-0125-preview\",\"RWKV-4-Raven-14B\",\"starling-lm-7b-alpha\",\"qwen-14b-chat\",\"fastchat-t5-3b\",\"chatglm3-6b\",\"openhermes-2.5-mistral-7b\",\"mpt-7b-chat\",\"stripedhyena-nous-7b\",\"solar-10.7b-instruct-v1.0\",\"gpt-3.5-turbo-0125\",\"dolly-v2-12b\",\"deepseek-llm-67b-chat\",\"stablelm-tuned-alpha-7b\",\"guanaco-33b\",\"llama2-70b-steerlm-chat\",\"mpt-30b-chat\",\"chatglm2-6b\",\"qwen1.5-72b-chat\",\"llama-13b\",\"zephyr-7b-alpha\",\"gpt4all-13b-snoozy\",\"dolphin-2.2.1-mistral-7b\",\"nous-hermes-2-mixtral-8x7b-dpo\",\"falcon-180b-chat\",\"openchat-3.5-0106\",\"qwen1.5-7b-chat\",\"qwen1.5-4b-chat\",\"mistral-7b-instruct-v0.2\"],\"xaxis\":\"x\",\"y\":[7387,7083,6165,5583,4136,4122,3978,3720,3545,3448,3428,3352,3315,2607,2456,2401,1977,1793,1644,1632,1617,1598,1591,1580,1494,1486,1474,1447,1438,1420,1403,1302,1261,1250,1200,1160,1158,1134,1072,1021,989,952,928,914,899,861,800,795,771,684,667,598,564,551,547,412,408,373,325,286,244,208,200,100],\"yaxis\":\"y\",\"type\":\"bar\"}],                        {\"template\":{\"data\":{\"histogram2dcontour\":[{\"type\":\"histogram2dcontour\",\"colorbar\":{\"outlinewidth\":0,\"ticks\":\"\"},\"colorscale\":[[0.0,\"#0d0887\"],[0.1111111111111111,\"#46039f\"],[0.2222222222222222,\"#7201a8\"],[0.3333333333333333,\"#9c179e\"],[0.4444444444444444,\"#bd3786\"],[0.5555555555555556,\"#d8576b\"],[0.6666666666666666,\"#ed7953\"],[0.7777777777777778,\"#fb9f3a\"],[0.8888888888888888,\"#fdca26\"],[1.0,\"#f0f921\"]]}],\"choropleth\":[{\"type\":\"choropleth\",\"colorbar\":{\"outlinewidth\":0,\"ticks\":\"\"}}],\"histogram2d\":[{\"type\":\"histogram2d\",\"colorbar\":{\"outlinewidth\":0,\"ticks\":\"\"},\"colorscale\":[[0.0,\"#0d0887\"],[0.1111111111111111,\"#46039f\"],[0.2222222222222222,\"#7201a8\"],[0.3333333333333333,\"#9c179e\"],[0.4444444444444444,\"#bd3786\"],[0.5555555555555556,\"#d8576b\"],[0.6666666666666666,\"#ed7953\"],[0.7777777777777778,\"#fb9f3a\"],[0.8888888888888888,\"#fdca26\"],[1.0,\"#f0f921\"]]}],\"heatmap\":[{\"type\":\"heatmap\",\"colorbar\":{\"outlinewidth\":0,\"ticks\":\"\"},\"colorscale\":[[0.0,\"#0d0887\"],[0.1111111111111111,\"#46039f\"],[0.2222222222222222,\"#7201a8\"],[0.3333333333333333,\"#9c179e\"],[0.4444444444444444,\"#bd3786\"],[0.5555555555555556,\"#d8576b\"],[0.6666666666666666,\"#ed7953\"],[0.7777777777777778,\"#fb9f3a\"],[0.8888888888888888,\"#fdca26\"],[1.0,\"#f0f921\"]]}],\"heatmapgl\":[{\"type\":\"heatmapgl\",\"colorbar\":{\"outlinewidth\":0,\"ticks\":\"\"},\"colorscale\":[[0.0,\"#0d0887\"],[0.1111111111111111,\"#46039f\"],[0.2222222222222222,\"#7201a8\"],[0.3333333333333333,\"#9c179e\"],[0.4444444444444444,\"#bd3786\"],[0.5555555555555556,\"#d8576b\"],[0.6666666666666666,\"#ed7953\"],[0.7777777777777778,\"#fb9f3a\"],[0.8888888888888888,\"#fdca26\"],[1.0,\"#f0f921\"]]}],\"contourcarpet\":[{\"type\":\"contourcarpet\",\"colorbar\":{\"outlinewidth\":0,\"ticks\":\"\"}}],\"contour\":[{\"type\":\"contour\",\"colorbar\":{\"outlinewidth\":0,\"ticks\":\"\"},\"colorscale\":[[0.0,\"#0d0887\"],[0.1111111111111111,\"#46039f\"],[0.2222222222222222,\"#7201a8\"],[0.3333333333333333,\"#9c179e\"],[0.4444444444444444,\"#bd3786\"],[0.5555555555555556,\"#d8576b\"],[0.6666666666666666,\"#ed7953\"],[0.7777777777777778,\"#fb9f3a\"],[0.8888888888888888,\"#fdca26\"],[1.0,\"#f0f921\"]]}],\"surface\":[{\"type\":\"surface\",\"colorbar\":{\"outlinewidth\":0,\"ticks\":\"\"},\"colorscale\":[[0.0,\"#0d0887\"],[0.1111111111111111,\"#46039f\"],[0.2222222222222222,\"#7201a8\"],[0.3333333333333333,\"#9c179e\"],[0.4444444444444444,\"#bd3786\"],[0.5555555555555556,\"#d8576b\"],[0.6666666666666666,\"#ed7953\"],[0.7777777777777778,\"#fb9f3a\"],[0.8888888888888888,\"#fdca26\"],[1.0,\"#f0f921\"]]}],\"mesh3d\":[{\"type\":\"mesh3d\",\"colorbar\":{\"outlinewidth\":0,\"ticks\":\"\"}}],\"scatter\":[{\"fillpattern\":{\"fillmode\":\"overlay\",\"size\":10,\"solidity\":0.2},\"type\":\"scatter\"}],\"parcoords\":[{\"type\":\"parcoords\",\"line\":{\"colorbar\":{\"outlinewidth\":0,\"ticks\":\"\"}}}],\"scatterpolargl\":[{\"type\":\"scatterpolargl\",\"marker\":{\"colorbar\":{\"outlinewidth\":0,\"ticks\":\"\"}}}],\"bar\":[{\"error_x\":{\"color\":\"#2a3f5f\"},\"error_y\":{\"color\":\"#2a3f5f\"},\"marker\":{\"line\":{\"color\":\"#E5ECF6\",\"width\":0.5},\"pattern\":{\"fillmode\":\"overlay\",\"size\":10,\"solidity\":0.2}},\"type\":\"bar\"}],\"scattergeo\":[{\"type\":\"scattergeo\",\"marker\":{\"colorbar\":{\"outlinewidth\":0,\"ticks\":\"\"}}}],\"scatterpolar\":[{\"type\":\"scatterpolar\",\"marker\":{\"colorbar\":{\"outlinewidth\":0,\"ticks\":\"\"}}}],\"histogram\":[{\"marker\":{\"pattern\":{\"fillmode\":\"overlay\",\"size\":10,\"solidity\":0.2}},\"type\":\"histogram\"}],\"scattergl\":[{\"type\":\"scattergl\",\"marker\":{\"colorbar\":{\"outlinewidth\":0,\"ticks\":\"\"}}}],\"scatter3d\":[{\"type\":\"scatter3d\",\"line\":{\"colorbar\":{\"outlinewidth\":0,\"ticks\":\"\"}},\"marker\":{\"colorbar\":{\"outlinewidth\":0,\"ticks\":\"\"}}}],\"scattermapbox\":[{\"type\":\"scattermapbox\",\"marker\":{\"colorbar\":{\"outlinewidth\":0,\"ticks\":\"\"}}}],\"scatterternary\":[{\"type\":\"scatterternary\",\"marker\":{\"colorbar\":{\"outlinewidth\":0,\"ticks\":\"\"}}}],\"scattercarpet\":[{\"type\":\"scattercarpet\",\"marker\":{\"colorbar\":{\"outlinewidth\":0,\"ticks\":\"\"}}}],\"carpet\":[{\"aaxis\":{\"endlinecolor\":\"#2a3f5f\",\"gridcolor\":\"white\",\"linecolor\":\"white\",\"minorgridcolor\":\"white\",\"startlinecolor\":\"#2a3f5f\"},\"baxis\":{\"endlinecolor\":\"#2a3f5f\",\"gridcolor\":\"white\",\"linecolor\":\"white\",\"minorgridcolor\":\"white\",\"startlinecolor\":\"#2a3f5f\"},\"type\":\"carpet\"}],\"table\":[{\"cells\":{\"fill\":{\"color\":\"#EBF0F8\"},\"line\":{\"color\":\"white\"}},\"header\":{\"fill\":{\"color\":\"#C8D4E3\"},\"line\":{\"color\":\"white\"}},\"type\":\"table\"}],\"barpolar\":[{\"marker\":{\"line\":{\"color\":\"#E5ECF6\",\"width\":0.5},\"pattern\":{\"fillmode\":\"overlay\",\"size\":10,\"solidity\":0.2}},\"type\":\"barpolar\"}],\"pie\":[{\"automargin\":true,\"type\":\"pie\"}]},\"layout\":{\"autotypenumbers\":\"strict\",\"colorway\":[\"#636efa\",\"#EF553B\",\"#00cc96\",\"#ab63fa\",\"#FFA15A\",\"#19d3f3\",\"#FF6692\",\"#B6E880\",\"#FF97FF\",\"#FECB52\"],\"font\":{\"color\":\"#2a3f5f\"},\"hovermode\":\"closest\",\"hoverlabel\":{\"align\":\"left\"},\"paper_bgcolor\":\"white\",\"plot_bgcolor\":\"#E5ECF6\",\"polar\":{\"bgcolor\":\"#E5ECF6\",\"angularaxis\":{\"gridcolor\":\"white\",\"linecolor\":\"white\",\"ticks\":\"\"},\"radialaxis\":{\"gridcolor\":\"white\",\"linecolor\":\"white\",\"ticks\":\"\"}},\"ternary\":{\"bgcolor\":\"#E5ECF6\",\"aaxis\":{\"gridcolor\":\"white\",\"linecolor\":\"white\",\"ticks\":\"\"},\"baxis\":{\"gridcolor\":\"white\",\"linecolor\":\"white\",\"ticks\":\"\"},\"caxis\":{\"gridcolor\":\"white\",\"linecolor\":\"white\",\"ticks\":\"\"}},\"coloraxis\":{\"colorbar\":{\"outlinewidth\":0,\"ticks\":\"\"}},\"colorscale\":{\"sequential\":[[0.0,\"#0d0887\"],[0.1111111111111111,\"#46039f\"],[0.2222222222222222,\"#7201a8\"],[0.3333333333333333,\"#9c179e\"],[0.4444444444444444,\"#bd3786\"],[0.5555555555555556,\"#d8576b\"],[0.6666666666666666,\"#ed7953\"],[0.7777777777777778,\"#fb9f3a\"],[0.8888888888888888,\"#fdca26\"],[1.0,\"#f0f921\"]],\"sequentialminus\":[[0.0,\"#0d0887\"],[0.1111111111111111,\"#46039f\"],[0.2222222222222222,\"#7201a8\"],[0.3333333333333333,\"#9c179e\"],[0.4444444444444444,\"#bd3786\"],[0.5555555555555556,\"#d8576b\"],[0.6666666666666666,\"#ed7953\"],[0.7777777777777778,\"#fb9f3a\"],[0.8888888888888888,\"#fdca26\"],[1.0,\"#f0f921\"]],\"diverging\":[[0,\"#8e0152\"],[0.1,\"#c51b7d\"],[0.2,\"#de77ae\"],[0.3,\"#f1b6da\"],[0.4,\"#fde0ef\"],[0.5,\"#f7f7f7\"],[0.6,\"#e6f5d0\"],[0.7,\"#b8e186\"],[0.8,\"#7fbc41\"],[0.9,\"#4d9221\"],[1,\"#276419\"]]},\"xaxis\":{\"gridcolor\":\"white\",\"linecolor\":\"white\",\"ticks\":\"\",\"title\":{\"standoff\":15},\"zerolinecolor\":\"white\",\"automargin\":true,\"zerolinewidth\":2},\"yaxis\":{\"gridcolor\":\"white\",\"linecolor\":\"white\",\"ticks\":\"\",\"title\":{\"standoff\":15},\"zerolinecolor\":\"white\",\"automargin\":true,\"zerolinewidth\":2},\"scene\":{\"xaxis\":{\"backgroundcolor\":\"#E5ECF6\",\"gridcolor\":\"white\",\"linecolor\":\"white\",\"showbackground\":true,\"ticks\":\"\",\"zerolinecolor\":\"white\",\"gridwidth\":2},\"yaxis\":{\"backgroundcolor\":\"#E5ECF6\",\"gridcolor\":\"white\",\"linecolor\":\"white\",\"showbackground\":true,\"ticks\":\"\",\"zerolinecolor\":\"white\",\"gridwidth\":2},\"zaxis\":{\"backgroundcolor\":\"#E5ECF6\",\"gridcolor\":\"white\",\"linecolor\":\"white\",\"showbackground\":true,\"ticks\":\"\",\"zerolinecolor\":\"white\",\"gridwidth\":2}},\"shapedefaults\":{\"line\":{\"color\":\"#2a3f5f\"}},\"annotationdefaults\":{\"arrowcolor\":\"#2a3f5f\",\"arrowhead\":0,\"arrowwidth\":1},\"geo\":{\"bgcolor\":\"white\",\"landcolor\":\"#E5ECF6\",\"subunitcolor\":\"white\",\"showland\":true,\"showlakes\":true,\"lakecolor\":\"white\"},\"title\":{\"x\":0.05},\"mapbox\":{\"style\":\"light\"}}},\"xaxis\":{\"anchor\":\"y\",\"domain\":[0.0,1.0],\"title\":{\"text\":\"LLM\"},\"tickangle\":-45},\"yaxis\":{\"anchor\":\"x\",\"domain\":[0.0,1.0],\"title\":{\"text\":\"Count\"}},\"coloraxis\":{\"colorbar\":{\"title\":{\"text\":\"Count\"}},\"colorscale\":[[0.0,\"#0d0887\"],[0.1111111111111111,\"#46039f\"],[0.2222222222222222,\"#7201a8\"],[0.3333333333333333,\"#9c179e\"],[0.4444444444444444,\"#bd3786\"],[0.5555555555555556,\"#d8576b\"],[0.6666666666666666,\"#ed7953\"],[0.7777777777777778,\"#fb9f3a\"],[0.8888888888888888,\"#fdca26\"],[1.0,\"#f0f921\"]]},\"legend\":{\"tracegroupgap\":0},\"title\":{\"text\":\"Distribution of LLMs\"},\"barmode\":\"relative\"},                        {\"responsive\": true}                    ).then(function(){\n",
       "                            \n",
       "var gd = document.getElementById('df575c66-0685-445c-9be4-13e7fd656743');\n",
       "var x = new MutationObserver(function (mutations, observer) {{\n",
       "        var display = window.getComputedStyle(gd).display;\n",
       "        if (!display || display === 'none') {{\n",
       "            console.log([gd, 'removed!']);\n",
       "            Plotly.purge(gd);\n",
       "            observer.disconnect();\n",
       "        }}\n",
       "}});\n",
       "\n",
       "// Listen for the removal of the full notebook cells\n",
       "var notebookContainer = gd.closest('#notebook-container');\n",
       "if (notebookContainer) {{\n",
       "    x.observe(notebookContainer, {childList: true});\n",
       "}}\n",
       "\n",
       "// Listen for the clearing of the current output cell\n",
       "var outputEl = gd.closest('.output');\n",
       "if (outputEl) {{\n",
       "    x.observe(outputEl, {childList: true});\n",
       "}}\n",
       "\n",
       "                        })                };                });            </script>        </div>"
      ]
     },
     "metadata": {},
     "output_type": "display_data"
    }
   ],
   "source": [
    "model_df = pd.concat([train_data.model_a, train_data.model_b])\n",
    "counts = model_df.value_counts().reset_index()\n",
    "counts.columns = ['LLM', 'Count']\n",
    "\n",
    "# Create a bar plot with custom styling using Plotly\n",
    "fig = px.bar(counts, x='LLM', y='Count',\n",
    "             title='Distribution of LLMs',\n",
    "             color='Count')\n",
    "\n",
    "fig.update_layout(xaxis_tickangle=-45)  # Rotate x-axis labels for better readability\n",
    "\n",
    "fig.show()"
   ]
  },
  {
   "cell_type": "code",
   "execution_count": 17,
   "id": "ac1d7c4f",
   "metadata": {
    "execution": {
     "iopub.execute_input": "2024-07-15T11:09:45.122182Z",
     "iopub.status.busy": "2024-07-15T11:09:45.121249Z",
     "iopub.status.idle": "2024-07-15T11:09:45.236285Z",
     "shell.execute_reply": "2024-07-15T11:09:45.234954Z"
    },
    "papermill": {
     "duration": 0.145365,
     "end_time": "2024-07-15T11:09:45.238776",
     "exception": false,
     "start_time": "2024-07-15T11:09:45.093411",
     "status": "completed"
    },
    "tags": []
   },
   "outputs": [
    {
     "data": {
      "text/html": [
       "<div>                            <div id=\"1c0b69d3-3638-4382-a258-045763227ffc\" class=\"plotly-graph-div\" style=\"height:525px; width:100%;\"></div>            <script type=\"text/javascript\">                require([\"plotly\"], function(Plotly) {                    window.PLOTLYENV=window.PLOTLYENV || {};                                    if (document.getElementById(\"1c0b69d3-3638-4382-a258-045763227ffc\")) {                    Plotly.newPlot(                        \"1c0b69d3-3638-4382-a258-045763227ffc\",                        [{\"alignmentgroup\":\"True\",\"hovertemplate\":\"Model=%{x}\\u003cbr\\u003eWin Count=%{y}\\u003cextra\\u003e\\u003c\\u002fextra\\u003e\",\"legendgroup\":\"Model A\",\"marker\":{\"color\":\"#636efa\",\"pattern\":{\"shape\":\"\"}},\"name\":\"Model A\",\"offsetgroup\":\"Model A\",\"orientation\":\"v\",\"showlegend\":true,\"textposition\":\"auto\",\"x\":[\"Model A\",\"Model A\"],\"xaxis\":\"x\",\"y\":[37413,20064],\"yaxis\":\"y\",\"type\":\"bar\"},{\"alignmentgroup\":\"True\",\"hovertemplate\":\"Model=%{x}\\u003cbr\\u003eWin Count=%{y}\\u003cextra\\u003e\\u003c\\u002fextra\\u003e\",\"legendgroup\":\"Model B\",\"marker\":{\"color\":\"#EF553B\",\"pattern\":{\"shape\":\"\"}},\"name\":\"Model B\",\"offsetgroup\":\"Model B\",\"orientation\":\"v\",\"showlegend\":true,\"textposition\":\"auto\",\"x\":[\"Model B\",\"Model B\"],\"xaxis\":\"x\",\"y\":[37825,19652],\"yaxis\":\"y\",\"type\":\"bar\"},{\"alignmentgroup\":\"True\",\"hovertemplate\":\"Model=%{x}\\u003cbr\\u003eWin Count=%{y}\\u003cextra\\u003e\\u003c\\u002fextra\\u003e\",\"legendgroup\":\"Tie\",\"marker\":{\"color\":\"#00cc96\",\"pattern\":{\"shape\":\"\"}},\"name\":\"Tie\",\"offsetgroup\":\"Tie\",\"orientation\":\"v\",\"showlegend\":true,\"textposition\":\"auto\",\"x\":[\"Tie\",\"Tie\"],\"xaxis\":\"x\",\"y\":[39716,17761],\"yaxis\":\"y\",\"type\":\"bar\"}],                        {\"template\":{\"data\":{\"histogram2dcontour\":[{\"type\":\"histogram2dcontour\",\"colorbar\":{\"outlinewidth\":0,\"ticks\":\"\"},\"colorscale\":[[0.0,\"#0d0887\"],[0.1111111111111111,\"#46039f\"],[0.2222222222222222,\"#7201a8\"],[0.3333333333333333,\"#9c179e\"],[0.4444444444444444,\"#bd3786\"],[0.5555555555555556,\"#d8576b\"],[0.6666666666666666,\"#ed7953\"],[0.7777777777777778,\"#fb9f3a\"],[0.8888888888888888,\"#fdca26\"],[1.0,\"#f0f921\"]]}],\"choropleth\":[{\"type\":\"choropleth\",\"colorbar\":{\"outlinewidth\":0,\"ticks\":\"\"}}],\"histogram2d\":[{\"type\":\"histogram2d\",\"colorbar\":{\"outlinewidth\":0,\"ticks\":\"\"},\"colorscale\":[[0.0,\"#0d0887\"],[0.1111111111111111,\"#46039f\"],[0.2222222222222222,\"#7201a8\"],[0.3333333333333333,\"#9c179e\"],[0.4444444444444444,\"#bd3786\"],[0.5555555555555556,\"#d8576b\"],[0.6666666666666666,\"#ed7953\"],[0.7777777777777778,\"#fb9f3a\"],[0.8888888888888888,\"#fdca26\"],[1.0,\"#f0f921\"]]}],\"heatmap\":[{\"type\":\"heatmap\",\"colorbar\":{\"outlinewidth\":0,\"ticks\":\"\"},\"colorscale\":[[0.0,\"#0d0887\"],[0.1111111111111111,\"#46039f\"],[0.2222222222222222,\"#7201a8\"],[0.3333333333333333,\"#9c179e\"],[0.4444444444444444,\"#bd3786\"],[0.5555555555555556,\"#d8576b\"],[0.6666666666666666,\"#ed7953\"],[0.7777777777777778,\"#fb9f3a\"],[0.8888888888888888,\"#fdca26\"],[1.0,\"#f0f921\"]]}],\"heatmapgl\":[{\"type\":\"heatmapgl\",\"colorbar\":{\"outlinewidth\":0,\"ticks\":\"\"},\"colorscale\":[[0.0,\"#0d0887\"],[0.1111111111111111,\"#46039f\"],[0.2222222222222222,\"#7201a8\"],[0.3333333333333333,\"#9c179e\"],[0.4444444444444444,\"#bd3786\"],[0.5555555555555556,\"#d8576b\"],[0.6666666666666666,\"#ed7953\"],[0.7777777777777778,\"#fb9f3a\"],[0.8888888888888888,\"#fdca26\"],[1.0,\"#f0f921\"]]}],\"contourcarpet\":[{\"type\":\"contourcarpet\",\"colorbar\":{\"outlinewidth\":0,\"ticks\":\"\"}}],\"contour\":[{\"type\":\"contour\",\"colorbar\":{\"outlinewidth\":0,\"ticks\":\"\"},\"colorscale\":[[0.0,\"#0d0887\"],[0.1111111111111111,\"#46039f\"],[0.2222222222222222,\"#7201a8\"],[0.3333333333333333,\"#9c179e\"],[0.4444444444444444,\"#bd3786\"],[0.5555555555555556,\"#d8576b\"],[0.6666666666666666,\"#ed7953\"],[0.7777777777777778,\"#fb9f3a\"],[0.8888888888888888,\"#fdca26\"],[1.0,\"#f0f921\"]]}],\"surface\":[{\"type\":\"surface\",\"colorbar\":{\"outlinewidth\":0,\"ticks\":\"\"},\"colorscale\":[[0.0,\"#0d0887\"],[0.1111111111111111,\"#46039f\"],[0.2222222222222222,\"#7201a8\"],[0.3333333333333333,\"#9c179e\"],[0.4444444444444444,\"#bd3786\"],[0.5555555555555556,\"#d8576b\"],[0.6666666666666666,\"#ed7953\"],[0.7777777777777778,\"#fb9f3a\"],[0.8888888888888888,\"#fdca26\"],[1.0,\"#f0f921\"]]}],\"mesh3d\":[{\"type\":\"mesh3d\",\"colorbar\":{\"outlinewidth\":0,\"ticks\":\"\"}}],\"scatter\":[{\"fillpattern\":{\"fillmode\":\"overlay\",\"size\":10,\"solidity\":0.2},\"type\":\"scatter\"}],\"parcoords\":[{\"type\":\"parcoords\",\"line\":{\"colorbar\":{\"outlinewidth\":0,\"ticks\":\"\"}}}],\"scatterpolargl\":[{\"type\":\"scatterpolargl\",\"marker\":{\"colorbar\":{\"outlinewidth\":0,\"ticks\":\"\"}}}],\"bar\":[{\"error_x\":{\"color\":\"#2a3f5f\"},\"error_y\":{\"color\":\"#2a3f5f\"},\"marker\":{\"line\":{\"color\":\"#E5ECF6\",\"width\":0.5},\"pattern\":{\"fillmode\":\"overlay\",\"size\":10,\"solidity\":0.2}},\"type\":\"bar\"}],\"scattergeo\":[{\"type\":\"scattergeo\",\"marker\":{\"colorbar\":{\"outlinewidth\":0,\"ticks\":\"\"}}}],\"scatterpolar\":[{\"type\":\"scatterpolar\",\"marker\":{\"colorbar\":{\"outlinewidth\":0,\"ticks\":\"\"}}}],\"histogram\":[{\"marker\":{\"pattern\":{\"fillmode\":\"overlay\",\"size\":10,\"solidity\":0.2}},\"type\":\"histogram\"}],\"scattergl\":[{\"type\":\"scattergl\",\"marker\":{\"colorbar\":{\"outlinewidth\":0,\"ticks\":\"\"}}}],\"scatter3d\":[{\"type\":\"scatter3d\",\"line\":{\"colorbar\":{\"outlinewidth\":0,\"ticks\":\"\"}},\"marker\":{\"colorbar\":{\"outlinewidth\":0,\"ticks\":\"\"}}}],\"scattermapbox\":[{\"type\":\"scattermapbox\",\"marker\":{\"colorbar\":{\"outlinewidth\":0,\"ticks\":\"\"}}}],\"scatterternary\":[{\"type\":\"scatterternary\",\"marker\":{\"colorbar\":{\"outlinewidth\":0,\"ticks\":\"\"}}}],\"scattercarpet\":[{\"type\":\"scattercarpet\",\"marker\":{\"colorbar\":{\"outlinewidth\":0,\"ticks\":\"\"}}}],\"carpet\":[{\"aaxis\":{\"endlinecolor\":\"#2a3f5f\",\"gridcolor\":\"white\",\"linecolor\":\"white\",\"minorgridcolor\":\"white\",\"startlinecolor\":\"#2a3f5f\"},\"baxis\":{\"endlinecolor\":\"#2a3f5f\",\"gridcolor\":\"white\",\"linecolor\":\"white\",\"minorgridcolor\":\"white\",\"startlinecolor\":\"#2a3f5f\"},\"type\":\"carpet\"}],\"table\":[{\"cells\":{\"fill\":{\"color\":\"#EBF0F8\"},\"line\":{\"color\":\"white\"}},\"header\":{\"fill\":{\"color\":\"#C8D4E3\"},\"line\":{\"color\":\"white\"}},\"type\":\"table\"}],\"barpolar\":[{\"marker\":{\"line\":{\"color\":\"#E5ECF6\",\"width\":0.5},\"pattern\":{\"fillmode\":\"overlay\",\"size\":10,\"solidity\":0.2}},\"type\":\"barpolar\"}],\"pie\":[{\"automargin\":true,\"type\":\"pie\"}]},\"layout\":{\"autotypenumbers\":\"strict\",\"colorway\":[\"#636efa\",\"#EF553B\",\"#00cc96\",\"#ab63fa\",\"#FFA15A\",\"#19d3f3\",\"#FF6692\",\"#B6E880\",\"#FF97FF\",\"#FECB52\"],\"font\":{\"color\":\"#2a3f5f\"},\"hovermode\":\"closest\",\"hoverlabel\":{\"align\":\"left\"},\"paper_bgcolor\":\"white\",\"plot_bgcolor\":\"#E5ECF6\",\"polar\":{\"bgcolor\":\"#E5ECF6\",\"angularaxis\":{\"gridcolor\":\"white\",\"linecolor\":\"white\",\"ticks\":\"\"},\"radialaxis\":{\"gridcolor\":\"white\",\"linecolor\":\"white\",\"ticks\":\"\"}},\"ternary\":{\"bgcolor\":\"#E5ECF6\",\"aaxis\":{\"gridcolor\":\"white\",\"linecolor\":\"white\",\"ticks\":\"\"},\"baxis\":{\"gridcolor\":\"white\",\"linecolor\":\"white\",\"ticks\":\"\"},\"caxis\":{\"gridcolor\":\"white\",\"linecolor\":\"white\",\"ticks\":\"\"}},\"coloraxis\":{\"colorbar\":{\"outlinewidth\":0,\"ticks\":\"\"}},\"colorscale\":{\"sequential\":[[0.0,\"#0d0887\"],[0.1111111111111111,\"#46039f\"],[0.2222222222222222,\"#7201a8\"],[0.3333333333333333,\"#9c179e\"],[0.4444444444444444,\"#bd3786\"],[0.5555555555555556,\"#d8576b\"],[0.6666666666666666,\"#ed7953\"],[0.7777777777777778,\"#fb9f3a\"],[0.8888888888888888,\"#fdca26\"],[1.0,\"#f0f921\"]],\"sequentialminus\":[[0.0,\"#0d0887\"],[0.1111111111111111,\"#46039f\"],[0.2222222222222222,\"#7201a8\"],[0.3333333333333333,\"#9c179e\"],[0.4444444444444444,\"#bd3786\"],[0.5555555555555556,\"#d8576b\"],[0.6666666666666666,\"#ed7953\"],[0.7777777777777778,\"#fb9f3a\"],[0.8888888888888888,\"#fdca26\"],[1.0,\"#f0f921\"]],\"diverging\":[[0,\"#8e0152\"],[0.1,\"#c51b7d\"],[0.2,\"#de77ae\"],[0.3,\"#f1b6da\"],[0.4,\"#fde0ef\"],[0.5,\"#f7f7f7\"],[0.6,\"#e6f5d0\"],[0.7,\"#b8e186\"],[0.8,\"#7fbc41\"],[0.9,\"#4d9221\"],[1,\"#276419\"]]},\"xaxis\":{\"gridcolor\":\"white\",\"linecolor\":\"white\",\"ticks\":\"\",\"title\":{\"standoff\":15},\"zerolinecolor\":\"white\",\"automargin\":true,\"zerolinewidth\":2},\"yaxis\":{\"gridcolor\":\"white\",\"linecolor\":\"white\",\"ticks\":\"\",\"title\":{\"standoff\":15},\"zerolinecolor\":\"white\",\"automargin\":true,\"zerolinewidth\":2},\"scene\":{\"xaxis\":{\"backgroundcolor\":\"#E5ECF6\",\"gridcolor\":\"white\",\"linecolor\":\"white\",\"showbackground\":true,\"ticks\":\"\",\"zerolinecolor\":\"white\",\"gridwidth\":2},\"yaxis\":{\"backgroundcolor\":\"#E5ECF6\",\"gridcolor\":\"white\",\"linecolor\":\"white\",\"showbackground\":true,\"ticks\":\"\",\"zerolinecolor\":\"white\",\"gridwidth\":2},\"zaxis\":{\"backgroundcolor\":\"#E5ECF6\",\"gridcolor\":\"white\",\"linecolor\":\"white\",\"showbackground\":true,\"ticks\":\"\",\"zerolinecolor\":\"white\",\"gridwidth\":2}},\"shapedefaults\":{\"line\":{\"color\":\"#2a3f5f\"}},\"annotationdefaults\":{\"arrowcolor\":\"#2a3f5f\",\"arrowhead\":0,\"arrowwidth\":1},\"geo\":{\"bgcolor\":\"white\",\"landcolor\":\"#E5ECF6\",\"subunitcolor\":\"white\",\"showland\":true,\"showlakes\":true,\"lakecolor\":\"white\"},\"title\":{\"x\":0.05},\"mapbox\":{\"style\":\"light\"}}},\"xaxis\":{\"anchor\":\"y\",\"domain\":[0.0,1.0],\"title\":{\"text\":\"Model\"},\"categoryorder\":\"array\",\"categoryarray\":[\"Model A\",\"Model B\",\"Tie\"]},\"yaxis\":{\"anchor\":\"x\",\"domain\":[0.0,1.0],\"title\":{\"text\":\"Win Count\"}},\"legend\":{\"title\":{\"text\":\"Model\"},\"tracegroupgap\":0},\"title\":{\"text\":\"Winner Distribution for Train Data\"},\"barmode\":\"relative\"},                        {\"responsive\": true}                    ).then(function(){\n",
       "                            \n",
       "var gd = document.getElementById('1c0b69d3-3638-4382-a258-045763227ffc');\n",
       "var x = new MutationObserver(function (mutations, observer) {{\n",
       "        var display = window.getComputedStyle(gd).display;\n",
       "        if (!display || display === 'none') {{\n",
       "            console.log([gd, 'removed!']);\n",
       "            Plotly.purge(gd);\n",
       "            observer.disconnect();\n",
       "        }}\n",
       "}});\n",
       "\n",
       "// Listen for the removal of the full notebook cells\n",
       "var notebookContainer = gd.closest('#notebook-container');\n",
       "if (notebookContainer) {{\n",
       "    x.observe(notebookContainer, {childList: true});\n",
       "}}\n",
       "\n",
       "// Listen for the clearing of the current output cell\n",
       "var outputEl = gd.closest('.output');\n",
       "if (outputEl) {{\n",
       "    x.observe(outputEl, {childList: true});\n",
       "}}\n",
       "\n",
       "                        })                };                });            </script>        </div>"
      ]
     },
     "metadata": {},
     "output_type": "display_data"
    }
   ],
   "source": [
    "counts_a = train_data['winner_model_a'].value_counts().reset_index()\n",
    "counts_b = train_data['winner_model_b'].value_counts().reset_index()\n",
    "counts_tie = train_data['winner_tie'].value_counts().reset_index()\n",
    "\n",
    "# Renaming columns for convinience\n",
    "counts_a.columns = ['Winner', 'Count']\n",
    "counts_b.columns = ['Winner', 'Count']\n",
    "counts_tie.columns = ['Winner', 'Count']\n",
    "\n",
    "# Adding column to identify the model\n",
    "counts_a['Model'] = 'Model A'\n",
    "counts_b['Model'] = 'Model B'\n",
    "counts_tie['Model'] = 'Tie'\n",
    "\n",
    "counts = pd.concat([counts_a, counts_b, counts_tie])\n",
    "\n",
    "fig = px.bar(counts, x='Model', y='Count', \n",
    "             color='Model',\n",
    "             title='Winner Distribution for Train Data',\n",
    "             labels={'Model': 'Model', 'Count': 'Win Count', 'Winner': 'Winner'})\n",
    "\n",
    "fig.update_layout(xaxis_title=\"Model\", yaxis_title=\"Win Count\")\n",
    "\n",
    "fig.show()"
   ]
  },
  {
   "cell_type": "markdown",
   "id": "c499b60a",
   "metadata": {
    "papermill": {
     "duration": 0.025949,
     "end_time": "2024-07-15T11:09:45.291061",
     "exception": false,
     "start_time": "2024-07-15T11:09:45.265112",
     "status": "completed"
    },
    "tags": []
   },
   "source": [
    "Conclusions:\n",
    "\n",
    "* There are 57477 training rows and 3 test rows.\n",
    "    * Note: Test data will be replaced with the full test set (~25k rows, 70% for private LB) during scoring phase.\n",
    "* The column `id` has no duplicated values.\n",
    "* Model identities aren't revealed in the test set.\n",
    "* Strings in columns prompt, `response_a`, and `response_a` are wrapped in a list. \n",
    "    * The reason is that each chat can contains more than one prompt/response pairs.\n",
    "* After dropping `id` column, there exist 14 duplicated rows forming 7 groups, we just keep one row per group and shape of the training DataFrame becomes (57470, 8)."
   ]
  },
  {
   "cell_type": "markdown",
   "id": "37753712",
   "metadata": {
    "papermill": {
     "duration": 0.025637,
     "end_time": "2024-07-15T11:09:45.342796",
     "exception": false,
     "start_time": "2024-07-15T11:09:45.317159",
     "status": "completed"
    },
    "tags": []
   },
   "source": [
    "## Data preparation and Feature Engineering\n",
    "\n",
    "* Cleaning data: clean text, such as removing special characters, normalizing to lowercase, removing stopwords and tokenizing.\n",
    "* Tokenize Inputs: using the TensorFlow/Kerar tokenizer by training on training data and fitting on both training and test data.\n",
    "* Padding sequences to `max_len`.\n",
    "* Create BERT embeddings.\n",
    "* Compute Similarity Features using BERT between the prompt and responses for each model. \n",
    "* Compute word count, character count, and lexical diversity for each response.\n",
    "* Tokenize the text inputs for the BERT model."
   ]
  },
  {
   "cell_type": "code",
   "execution_count": 18,
   "id": "2bead938",
   "metadata": {
    "execution": {
     "iopub.execute_input": "2024-07-15T11:09:45.398791Z",
     "iopub.status.busy": "2024-07-15T11:09:45.397808Z",
     "iopub.status.idle": "2024-07-15T11:09:47.595806Z",
     "shell.execute_reply": "2024-07-15T11:09:47.594765Z"
    },
    "papermill": {
     "duration": 2.229489,
     "end_time": "2024-07-15T11:09:47.598552",
     "exception": false,
     "start_time": "2024-07-15T11:09:45.369063",
     "status": "completed"
    },
    "tags": []
   },
   "outputs": [],
   "source": [
    "train_data = pd.read_csv('/kaggle/input/lmsys-chatbot-arena/train.csv').sample(frac=0.001)"
   ]
  },
  {
   "cell_type": "markdown",
   "id": "a432eb12",
   "metadata": {
    "papermill": {
     "duration": 0.025736,
     "end_time": "2024-07-15T11:09:47.650608",
     "exception": false,
     "start_time": "2024-07-15T11:09:47.624872",
     "status": "completed"
    },
    "tags": []
   },
   "source": [
    "### Cleaning data\n",
    "\n",
    "Clean text, such as removing special characters, normalizing to lowercase and removing stopwords."
   ]
  },
  {
   "cell_type": "code",
   "execution_count": 19,
   "id": "bc53bb50",
   "metadata": {
    "execution": {
     "iopub.execute_input": "2024-07-15T11:09:47.704722Z",
     "iopub.status.busy": "2024-07-15T11:09:47.704304Z",
     "iopub.status.idle": "2024-07-15T11:09:47.712256Z",
     "shell.execute_reply": "2024-07-15T11:09:47.711080Z"
    },
    "papermill": {
     "duration": 0.0379,
     "end_time": "2024-07-15T11:09:47.714559",
     "exception": false,
     "start_time": "2024-07-15T11:09:47.676659",
     "status": "completed"
    },
    "tags": []
   },
   "outputs": [],
   "source": [
    "def clean_text(text):\n",
    "    text = text.lower()\n",
    "    text = re.sub(r'\\[.*?\\]', '', text)\n",
    "    text = re.sub(r'https?://\\S+|www\\.\\S+', '', text)\n",
    "    text = re.sub(r'<.*?>+', '', text)\n",
    "    text = re.sub(r'[%s]' % re.escape(string.punctuation), '', text)\n",
    "    text = re.sub(r'\\n', '', text)\n",
    "    text = re.sub(r'\\w*\\d\\w*', '', text)\n",
    "    text = ' '.join(word for word in text.split() if word not in stop_words)\n",
    "    return text"
   ]
  },
  {
   "cell_type": "code",
   "execution_count": 20,
   "id": "68692c2c",
   "metadata": {
    "execution": {
     "iopub.execute_input": "2024-07-15T11:09:47.768946Z",
     "iopub.status.busy": "2024-07-15T11:09:47.767864Z",
     "iopub.status.idle": "2024-07-15T11:09:47.786933Z",
     "shell.execute_reply": "2024-07-15T11:09:47.785668Z"
    },
    "papermill": {
     "duration": 0.048639,
     "end_time": "2024-07-15T11:09:47.789289",
     "exception": false,
     "start_time": "2024-07-15T11:09:47.740650",
     "status": "completed"
    },
    "tags": []
   },
   "outputs": [],
   "source": [
    "# Cleaning texts\n",
    "train_data['prompt_clean'] = train_data['prompt'].apply(clean_text)\n",
    "train_data['response_a_clean'] = train_data['response_a'].apply(clean_text)\n",
    "train_data['response_b_clean'] = train_data['response_b'].apply(clean_text)"
   ]
  },
  {
   "cell_type": "markdown",
   "id": "0fc8015f",
   "metadata": {
    "papermill": {
     "duration": 0.02845,
     "end_time": "2024-07-15T11:09:47.843784",
     "exception": false,
     "start_time": "2024-07-15T11:09:47.815334",
     "status": "completed"
    },
    "tags": []
   },
   "source": [
    "### Tokenize Inputs\n",
    "\n",
    "Using the TensorFlow/Kerar tokenizer on both training and test data. Padding sequences to `max_len`."
   ]
  },
  {
   "cell_type": "code",
   "execution_count": 21,
   "id": "d4595f7b",
   "metadata": {
    "execution": {
     "iopub.execute_input": "2024-07-15T11:09:47.897819Z",
     "iopub.status.busy": "2024-07-15T11:09:47.897042Z",
     "iopub.status.idle": "2024-07-15T11:09:47.902087Z",
     "shell.execute_reply": "2024-07-15T11:09:47.900888Z"
    },
    "papermill": {
     "duration": 0.034918,
     "end_time": "2024-07-15T11:09:47.904640",
     "exception": false,
     "start_time": "2024-07-15T11:09:47.869722",
     "status": "completed"
    },
    "tags": []
   },
   "outputs": [],
   "source": [
    "max_len = 512"
   ]
  },
  {
   "cell_type": "code",
   "execution_count": 22,
   "id": "e7f2469d",
   "metadata": {
    "execution": {
     "iopub.execute_input": "2024-07-15T11:09:47.958971Z",
     "iopub.status.busy": "2024-07-15T11:09:47.958537Z",
     "iopub.status.idle": "2024-07-15T11:09:47.963572Z",
     "shell.execute_reply": "2024-07-15T11:09:47.962493Z"
    },
    "papermill": {
     "duration": 0.035085,
     "end_time": "2024-07-15T11:09:47.966000",
     "exception": false,
     "start_time": "2024-07-15T11:09:47.930915",
     "status": "completed"
    },
    "tags": []
   },
   "outputs": [],
   "source": [
    "tokenizer = Tokenizer(num_words=20000)"
   ]
  },
  {
   "cell_type": "code",
   "execution_count": 23,
   "id": "1237bc49",
   "metadata": {
    "execution": {
     "iopub.execute_input": "2024-07-15T11:09:48.020614Z",
     "iopub.status.busy": "2024-07-15T11:09:48.020160Z",
     "iopub.status.idle": "2024-07-15T11:09:48.030290Z",
     "shell.execute_reply": "2024-07-15T11:09:48.028861Z"
    },
    "papermill": {
     "duration": 0.040172,
     "end_time": "2024-07-15T11:09:48.032876",
     "exception": false,
     "start_time": "2024-07-15T11:09:47.992704",
     "status": "completed"
    },
    "tags": []
   },
   "outputs": [],
   "source": [
    "tokenizer.fit_on_texts(pd.concat([train_data['prompt_clean'], train_data['response_a_clean'], train_data['response_b_clean']]))"
   ]
  },
  {
   "cell_type": "code",
   "execution_count": 24,
   "id": "0718b619",
   "metadata": {
    "execution": {
     "iopub.execute_input": "2024-07-15T11:09:48.087850Z",
     "iopub.status.busy": "2024-07-15T11:09:48.087446Z",
     "iopub.status.idle": "2024-07-15T11:09:48.095748Z",
     "shell.execute_reply": "2024-07-15T11:09:48.094519Z"
    },
    "papermill": {
     "duration": 0.038885,
     "end_time": "2024-07-15T11:09:48.098244",
     "exception": false,
     "start_time": "2024-07-15T11:09:48.059359",
     "status": "completed"
    },
    "tags": []
   },
   "outputs": [],
   "source": [
    "train_sequences = tokenizer.texts_to_sequences(train_data['prompt_clean'])\n",
    "response_a_sequences = tokenizer.texts_to_sequences(train_data['response_a_clean'])\n",
    "response_b_sequences = tokenizer.texts_to_sequences(train_data['response_b_clean'])"
   ]
  },
  {
   "cell_type": "code",
   "execution_count": 25,
   "id": "15077893",
   "metadata": {
    "execution": {
     "iopub.execute_input": "2024-07-15T11:09:48.153063Z",
     "iopub.status.busy": "2024-07-15T11:09:48.151931Z",
     "iopub.status.idle": "2024-07-15T11:09:48.159392Z",
     "shell.execute_reply": "2024-07-15T11:09:48.158374Z"
    },
    "papermill": {
     "duration": 0.037819,
     "end_time": "2024-07-15T11:09:48.162148",
     "exception": false,
     "start_time": "2024-07-15T11:09:48.124329",
     "status": "completed"
    },
    "tags": []
   },
   "outputs": [],
   "source": [
    "# Padding\n",
    "train_sequences = pad_sequences(train_sequences, maxlen=max_len, padding='post')\n",
    "response_a_sequences = pad_sequences(response_a_sequences, maxlen=max_len, padding='post')\n",
    "response_b_sequences = pad_sequences(response_b_sequences, maxlen=max_len, padding='post')"
   ]
  },
  {
   "cell_type": "markdown",
   "id": "4ae6450b",
   "metadata": {
    "papermill": {
     "duration": 0.025689,
     "end_time": "2024-07-15T11:09:48.214316",
     "exception": false,
     "start_time": "2024-07-15T11:09:48.188627",
     "status": "completed"
    },
    "tags": []
   },
   "source": [
    "### Sentiment Analysis\n",
    "\n",
    "Sentiment analysis using `vaderSentiment`. VADER (Valence Aware Dictionary and sEntiment Reasoner) is a lexicon and rule-based sentiment analysis tool that is specifically attuned to sentiments expressed in social media"
   ]
  },
  {
   "cell_type": "code",
   "execution_count": 26,
   "id": "aade6570",
   "metadata": {
    "execution": {
     "iopub.execute_input": "2024-07-15T11:09:48.268091Z",
     "iopub.status.busy": "2024-07-15T11:09:48.267628Z",
     "iopub.status.idle": "2024-07-15T11:09:48.289761Z",
     "shell.execute_reply": "2024-07-15T11:09:48.288603Z"
    },
    "papermill": {
     "duration": 0.052333,
     "end_time": "2024-07-15T11:09:48.292721",
     "exception": false,
     "start_time": "2024-07-15T11:09:48.240388",
     "status": "completed"
    },
    "tags": []
   },
   "outputs": [],
   "source": [
    "analyzer = SentimentIntensityAnalyzer()"
   ]
  },
  {
   "cell_type": "code",
   "execution_count": 27,
   "id": "c3a5e44a",
   "metadata": {
    "execution": {
     "iopub.execute_input": "2024-07-15T11:09:48.347327Z",
     "iopub.status.busy": "2024-07-15T11:09:48.346885Z",
     "iopub.status.idle": "2024-07-15T11:09:48.352414Z",
     "shell.execute_reply": "2024-07-15T11:09:48.351210Z"
    },
    "papermill": {
     "duration": 0.035795,
     "end_time": "2024-07-15T11:09:48.354943",
     "exception": false,
     "start_time": "2024-07-15T11:09:48.319148",
     "status": "completed"
    },
    "tags": []
   },
   "outputs": [],
   "source": [
    "def sentiment_analysis(text):\n",
    "    return analyzer.polarity_scores(text)['compound']"
   ]
  },
  {
   "cell_type": "code",
   "execution_count": 28,
   "id": "bd831869",
   "metadata": {
    "execution": {
     "iopub.execute_input": "2024-07-15T11:09:48.410658Z",
     "iopub.status.busy": "2024-07-15T11:09:48.410239Z",
     "iopub.status.idle": "2024-07-15T11:09:48.431485Z",
     "shell.execute_reply": "2024-07-15T11:09:48.430273Z"
    },
    "papermill": {
     "duration": 0.052825,
     "end_time": "2024-07-15T11:09:48.433892",
     "exception": false,
     "start_time": "2024-07-15T11:09:48.381067",
     "status": "completed"
    },
    "tags": []
   },
   "outputs": [],
   "source": [
    "train_data['sentiment_prompt'] = train_data['prompt_clean'].apply(sentiment_analysis)\n",
    "train_data['sentiment_response_a'] = train_data['response_a_clean'].apply(sentiment_analysis)\n",
    "train_data['sentiment_response_b'] = train_data['response_b_clean'].apply(sentiment_analysis)"
   ]
  },
  {
   "cell_type": "markdown",
   "id": "4156f930",
   "metadata": {
    "papermill": {
     "duration": 0.025947,
     "end_time": "2024-07-15T11:09:48.486070",
     "exception": false,
     "start_time": "2024-07-15T11:09:48.460123",
     "status": "completed"
    },
    "tags": []
   },
   "source": [
    "### Text Features\n",
    "\n",
    "Calculate text features such as word count, character count, \n",
    "lexical diversity, syllable count, sentence count and \n",
    "calculating the Flesch Reading Ease score (quantitative \n",
    "measurement of how readable a piece of text is) for each response. \n",
    "\n",
    "I am using `textstat` library that analyze text statistics."
   ]
  },
  {
   "cell_type": "code",
   "execution_count": 29,
   "id": "9551be27",
   "metadata": {
    "execution": {
     "iopub.execute_input": "2024-07-15T11:09:48.540742Z",
     "iopub.status.busy": "2024-07-15T11:09:48.539463Z",
     "iopub.status.idle": "2024-07-15T11:09:48.547525Z",
     "shell.execute_reply": "2024-07-15T11:09:48.546405Z"
    },
    "papermill": {
     "duration": 0.037775,
     "end_time": "2024-07-15T11:09:48.549989",
     "exception": false,
     "start_time": "2024-07-15T11:09:48.512214",
     "status": "completed"
    },
    "tags": []
   },
   "outputs": [],
   "source": [
    "def word_count(text):\n",
    "    return len(text.split())\n",
    "\n",
    "def char_count(text):\n",
    "    return len(text)\n",
    "\n",
    "def lexical_diversity(text):\n",
    "    words = text.split()\n",
    "    return len(set(words)) / len(words) if words else 0\n",
    "\n",
    "def syllable_count(text):\n",
    "    return textstat.syllable_count(text)\n",
    "\n",
    "def sentence_count(text):\n",
    "    return textstat.sentence_count(text)\n",
    "\n",
    "def flesch_reading_ease(text):\n",
    "    return textstat.flesch_reading_ease(text)"
   ]
  },
  {
   "cell_type": "code",
   "execution_count": 30,
   "id": "a07ba8a9",
   "metadata": {
    "execution": {
     "iopub.execute_input": "2024-07-15T11:09:48.605380Z",
     "iopub.status.busy": "2024-07-15T11:09:48.604939Z",
     "iopub.status.idle": "2024-07-15T11:09:48.654594Z",
     "shell.execute_reply": "2024-07-15T11:09:48.653280Z"
    },
    "papermill": {
     "duration": 0.081131,
     "end_time": "2024-07-15T11:09:48.657284",
     "exception": false,
     "start_time": "2024-07-15T11:09:48.576153",
     "status": "completed"
    },
    "tags": []
   },
   "outputs": [],
   "source": [
    "train_data['word_count_prompt'] = train_data['prompt_clean'].apply(word_count)\n",
    "train_data['word_count_response_a'] = train_data['response_a_clean'].apply(word_count)\n",
    "train_data['word_count_response_b'] = train_data['response_b_clean'].apply(word_count)\n",
    "train_data['char_count_prompt'] = train_data['prompt_clean'].apply(char_count)\n",
    "train_data['char_count_response_a'] = train_data['response_a_clean'].apply(char_count)\n",
    "train_data['char_count_response_b'] = train_data['response_b_clean'].apply(char_count)\n",
    "train_data['lexical_diversity_prompt'] = train_data['prompt_clean'].apply(lexical_diversity)\n",
    "train_data['lexical_diversity_response_a'] = train_data['response_a_clean'].apply(lexical_diversity)\n",
    "train_data['lexical_diversity_response_b'] = train_data['response_b_clean'].apply(lexical_diversity)\n",
    "train_data['syllable_count_prompt'] = train_data['prompt_clean'].apply(syllable_count)\n",
    "train_data['syllable_count_response_a'] = train_data['response_a_clean'].apply(syllable_count)\n",
    "train_data['syllable_count_response_b'] = train_data['response_b_clean'].apply(syllable_count)\n",
    "train_data['sentence_count_prompt'] = train_data['prompt_clean'].apply(sentence_count)\n",
    "train_data['sentence_count_response_a'] = train_data['response_a_clean'].apply(sentence_count)\n",
    "train_data['sentence_count_response_b'] = train_data['response_b_clean'].apply(sentence_count)\n",
    "train_data['flesch_reading_ease_prompt'] = train_data['prompt_clean'].apply(flesch_reading_ease)\n",
    "train_data['flesch_reading_ease_response_a'] = train_data['response_a_clean'].apply(flesch_reading_ease)\n",
    "train_data['flesch_reading_ease_response_b'] = train_data['response_b_clean'].apply(flesch_reading_ease)"
   ]
  },
  {
   "cell_type": "markdown",
   "id": "c8efab61",
   "metadata": {
    "papermill": {
     "duration": 0.025679,
     "end_time": "2024-07-15T11:09:48.709266",
     "exception": false,
     "start_time": "2024-07-15T11:09:48.683587",
     "status": "completed"
    },
    "tags": []
   },
   "source": [
    "### Create BERT embeddings\n",
    "\n",
    "Compute BERT embeddings for prompt and response for both train and test data.\n",
    "Also compute Cosine Similarity features using BERT between the prompt and responses for each model. \n",
    "\n",
    "I will use `tf.data.Dataset` to create an efficient pipeline, and process the features in batches using GPU. Also I am going to save the intermediate embeddings using `joblib` library"
   ]
  },
  {
   "cell_type": "code",
   "execution_count": 31,
   "id": "cfb0b314",
   "metadata": {
    "execution": {
     "iopub.execute_input": "2024-07-15T11:09:48.763893Z",
     "iopub.status.busy": "2024-07-15T11:09:48.762790Z",
     "iopub.status.idle": "2024-07-15T11:09:55.709642Z",
     "shell.execute_reply": "2024-07-15T11:09:55.708095Z"
    },
    "papermill": {
     "duration": 6.977738,
     "end_time": "2024-07-15T11:09:55.713046",
     "exception": false,
     "start_time": "2024-07-15T11:09:48.735308",
     "status": "completed"
    },
    "tags": []
   },
   "outputs": [
    {
     "data": {
      "application/vnd.jupyter.widget-view+json": {
       "model_id": "d9a016234fa74790ab8530f9dee4a0ad",
       "version_major": 2,
       "version_minor": 0
      },
      "text/plain": [
       "tokenizer_config.json:   0%|          | 0.00/48.0 [00:00<?, ?B/s]"
      ]
     },
     "metadata": {},
     "output_type": "display_data"
    },
    {
     "data": {
      "application/vnd.jupyter.widget-view+json": {
       "model_id": "507ad5347d9b439ab00a9234f2ce4da9",
       "version_major": 2,
       "version_minor": 0
      },
      "text/plain": [
       "vocab.txt:   0%|          | 0.00/232k [00:00<?, ?B/s]"
      ]
     },
     "metadata": {},
     "output_type": "display_data"
    },
    {
     "data": {
      "application/vnd.jupyter.widget-view+json": {
       "model_id": "0765eb3c75f3463e84e8be5535d31782",
       "version_major": 2,
       "version_minor": 0
      },
      "text/plain": [
       "tokenizer.json:   0%|          | 0.00/466k [00:00<?, ?B/s]"
      ]
     },
     "metadata": {},
     "output_type": "display_data"
    },
    {
     "data": {
      "application/vnd.jupyter.widget-view+json": {
       "model_id": "619a8f742d37460084c41222a6be5aac",
       "version_major": 2,
       "version_minor": 0
      },
      "text/plain": [
       "config.json:   0%|          | 0.00/570 [00:00<?, ?B/s]"
      ]
     },
     "metadata": {},
     "output_type": "display_data"
    },
    {
     "data": {
      "application/vnd.jupyter.widget-view+json": {
       "model_id": "7177338a566a4f74a236aed4a30775a9",
       "version_major": 2,
       "version_minor": 0
      },
      "text/plain": [
       "model.safetensors:   0%|          | 0.00/440M [00:00<?, ?B/s]"
      ]
     },
     "metadata": {},
     "output_type": "display_data"
    },
    {
     "name": "stderr",
     "output_type": "stream",
     "text": [
      "Some weights of the PyTorch model were not used when initializing the TF 2.0 model TFBertModel: ['cls.predictions.transform.LayerNorm.bias', 'cls.predictions.transform.dense.weight', 'cls.predictions.bias', 'cls.predictions.transform.dense.bias', 'cls.predictions.transform.LayerNorm.weight', 'cls.seq_relationship.weight', 'cls.seq_relationship.bias']\n",
      "- This IS expected if you are initializing TFBertModel from a PyTorch model trained on another task or with another architecture (e.g. initializing a TFBertForSequenceClassification model from a BertForPreTraining model).\n",
      "- This IS NOT expected if you are initializing TFBertModel from a PyTorch model that you expect to be exactly identical (e.g. initializing a TFBertForSequenceClassification model from a BertForSequenceClassification model).\n",
      "All the weights of TFBertModel were initialized from the PyTorch model.\n",
      "If your task is similar to the task the model of the checkpoint was trained on, you can already use TFBertModel for predictions without further training.\n"
     ]
    }
   ],
   "source": [
    "# Load BERT\n",
    "bert_model_name = 'bert-base-uncased'\n",
    "bert_tokenizer = BertTokenizer.from_pretrained(bert_model_name)\n",
    "bert_model = TFBertModel.from_pretrained(bert_model_name)"
   ]
  },
  {
   "cell_type": "code",
   "execution_count": 32,
   "id": "0edd4be0",
   "metadata": {
    "execution": {
     "iopub.execute_input": "2024-07-15T11:09:55.782401Z",
     "iopub.status.busy": "2024-07-15T11:09:55.781821Z",
     "iopub.status.idle": "2024-07-15T11:09:55.791257Z",
     "shell.execute_reply": "2024-07-15T11:09:55.790006Z"
    },
    "papermill": {
     "duration": 0.043087,
     "end_time": "2024-07-15T11:09:55.794907",
     "exception": false,
     "start_time": "2024-07-15T11:09:55.751820",
     "status": "completed"
    },
    "tags": []
   },
   "outputs": [],
   "source": [
    "@tf.function\n",
    "def get_bert_embeddings(texts):\n",
    "    inputs = bert_tokenizer(texts, \n",
    "                       return_tensors='tf', \n",
    "                       padding=True, \n",
    "                       truncation=True, \n",
    "                       max_length=512)\n",
    "    outputs = bert_model(inputs)\n",
    "    return outputs.last_hidden_state[:, 0, :]"
   ]
  },
  {
   "cell_type": "code",
   "execution_count": 33,
   "id": "15a149ea",
   "metadata": {
    "execution": {
     "iopub.execute_input": "2024-07-15T11:09:55.873245Z",
     "iopub.status.busy": "2024-07-15T11:09:55.872768Z",
     "iopub.status.idle": "2024-07-15T11:09:55.880448Z",
     "shell.execute_reply": "2024-07-15T11:09:55.879346Z"
    },
    "papermill": {
     "duration": 0.042841,
     "end_time": "2024-07-15T11:09:55.882955",
     "exception": false,
     "start_time": "2024-07-15T11:09:55.840114",
     "status": "completed"
    },
    "tags": []
   },
   "outputs": [],
   "source": [
    "def process_column(column_data):\n",
    "    column_data = column_data.dropna().tolist()\n",
    "    column_data = [str(text) for text in column_data]  \n",
    "    dataset = tf.data.Dataset.from_tensor_slices(column_data)\n",
    "    dataset = dataset.batch(8)  \n",
    "    \n",
    "    embeddings = []\n",
    "    for batch in dataset:\n",
    "        batch_list = [str(text) for text in batch.numpy().tolist()]  \n",
    "        batch_embeddings = get_bert_embeddings(batch_list)\n",
    "        embeddings.append(batch_embeddings)\n",
    "    \n",
    "    return np.concatenate(embeddings, axis=0)"
   ]
  },
  {
   "cell_type": "code",
   "execution_count": 34,
   "id": "20df0654",
   "metadata": {
    "execution": {
     "iopub.execute_input": "2024-07-15T11:09:55.939561Z",
     "iopub.status.busy": "2024-07-15T11:09:55.939141Z",
     "iopub.status.idle": "2024-07-15T11:09:55.945042Z",
     "shell.execute_reply": "2024-07-15T11:09:55.944070Z"
    },
    "papermill": {
     "duration": 0.036916,
     "end_time": "2024-07-15T11:09:55.947401",
     "exception": false,
     "start_time": "2024-07-15T11:09:55.910485",
     "status": "completed"
    },
    "tags": []
   },
   "outputs": [],
   "source": [
    "def add_embeddings_to_dataframe(df, column_names):\n",
    "    for column in column_names:\n",
    "        print(f\"Processing column: {column}\")\n",
    "        embeddings = process_column(df[column])\n",
    "        df[f'{column}_embedding'] = list(embeddings)\n",
    "    return df"
   ]
  },
  {
   "cell_type": "code",
   "execution_count": 35,
   "id": "505cf210",
   "metadata": {
    "execution": {
     "iopub.execute_input": "2024-07-15T11:09:56.003392Z",
     "iopub.status.busy": "2024-07-15T11:09:56.002965Z",
     "iopub.status.idle": "2024-07-15T11:09:56.008206Z",
     "shell.execute_reply": "2024-07-15T11:09:56.007089Z"
    },
    "papermill": {
     "duration": 0.035843,
     "end_time": "2024-07-15T11:09:56.010517",
     "exception": false,
     "start_time": "2024-07-15T11:09:55.974674",
     "status": "completed"
    },
    "tags": []
   },
   "outputs": [],
   "source": [
    "columns_to_embed = ['prompt_clean', 'response_a_clean', 'response_b_clean']"
   ]
  },
  {
   "cell_type": "code",
   "execution_count": 36,
   "id": "58ce126d",
   "metadata": {
    "execution": {
     "iopub.execute_input": "2024-07-15T11:09:56.067449Z",
     "iopub.status.busy": "2024-07-15T11:09:56.067014Z",
     "iopub.status.idle": "2024-07-15T11:13:19.672657Z",
     "shell.execute_reply": "2024-07-15T11:13:19.671313Z"
    },
    "papermill": {
     "duration": 203.637235,
     "end_time": "2024-07-15T11:13:19.675711",
     "exception": false,
     "start_time": "2024-07-15T11:09:56.038476",
     "status": "completed"
    },
    "tags": []
   },
   "outputs": [
    {
     "name": "stdout",
     "output_type": "stream",
     "text": [
      "Processing column: prompt_clean\n",
      "Processing column: response_a_clean\n",
      "Processing column: response_b_clean\n"
     ]
    }
   ],
   "source": [
    "train_data = add_embeddings_to_dataframe(train_data, columns_to_embed)"
   ]
  },
  {
   "cell_type": "code",
   "execution_count": 37,
   "id": "1ff22814",
   "metadata": {
    "execution": {
     "iopub.execute_input": "2024-07-15T11:13:19.735126Z",
     "iopub.status.busy": "2024-07-15T11:13:19.734630Z",
     "iopub.status.idle": "2024-07-15T11:13:19.804125Z",
     "shell.execute_reply": "2024-07-15T11:13:19.802820Z"
    },
    "papermill": {
     "duration": 0.103,
     "end_time": "2024-07-15T11:13:19.807090",
     "exception": false,
     "start_time": "2024-07-15T11:13:19.704090",
     "status": "completed"
    },
    "tags": []
   },
   "outputs": [],
   "source": [
    "train_data['similarity_prompt_response_a'] = train_data.apply(\n",
    "    lambda x: cosine_similarity(np.array(x['prompt_clean_embedding']).reshape(1, -1),\n",
    "                                np.array(x['response_a_clean_embedding']).reshape(1, -1))[0][0], axis=1)\n",
    "\n",
    "train_data['similarity_prompt_response_b'] = train_data.apply(\n",
    "    lambda x: cosine_similarity(np.array(x['prompt_clean_embedding']).reshape(1, -1),\n",
    "                                np.array(x['response_b_clean_embedding']).reshape(1, -1))[0][0], axis=1)"
   ]
  },
  {
   "cell_type": "markdown",
   "id": "44807310",
   "metadata": {
    "papermill": {
     "duration": 0.028281,
     "end_time": "2024-07-15T11:13:19.863618",
     "exception": false,
     "start_time": "2024-07-15T11:13:19.835337",
     "status": "completed"
    },
    "tags": []
   },
   "source": [
    "### Prepare Data"
   ]
  },
  {
   "cell_type": "code",
   "execution_count": 38,
   "id": "806d1aac",
   "metadata": {
    "execution": {
     "iopub.execute_input": "2024-07-15T11:13:19.923454Z",
     "iopub.status.busy": "2024-07-15T11:13:19.922010Z",
     "iopub.status.idle": "2024-07-15T11:13:19.932651Z",
     "shell.execute_reply": "2024-07-15T11:13:19.931342Z"
    },
    "papermill": {
     "duration": 0.043162,
     "end_time": "2024-07-15T11:13:19.935229",
     "exception": false,
     "start_time": "2024-07-15T11:13:19.892067",
     "status": "completed"
    },
    "tags": []
   },
   "outputs": [],
   "source": [
    "X = train_data[['word_count_prompt', 'word_count_response_a', 'word_count_response_b',\n",
    "                'char_count_prompt', 'char_count_response_a', 'char_count_response_b',\n",
    "                'lexical_diversity_prompt', 'lexical_diversity_response_a', 'lexical_diversity_response_b',\n",
    "                'syllable_count_prompt', 'syllable_count_response_a', 'syllable_count_response_b',\n",
    "                'sentence_count_prompt', 'sentence_count_response_a', 'sentence_count_response_b',\n",
    "                'flesch_reading_ease_prompt', 'flesch_reading_ease_response_a', 'flesch_reading_ease_response_b',\n",
    "                'similarity_prompt_response_a', 'similarity_prompt_response_b', \n",
    "                'sentiment_prompt', 'sentiment_response_a', 'sentiment_response_b']]\n"
   ]
  },
  {
   "cell_type": "code",
   "execution_count": 39,
   "id": "79c2c8fa",
   "metadata": {
    "execution": {
     "iopub.execute_input": "2024-07-15T11:13:19.994511Z",
     "iopub.status.busy": "2024-07-15T11:13:19.994084Z",
     "iopub.status.idle": "2024-07-15T11:13:20.003973Z",
     "shell.execute_reply": "2024-07-15T11:13:20.002520Z"
    },
    "papermill": {
     "duration": 0.043903,
     "end_time": "2024-07-15T11:13:20.006778",
     "exception": false,
     "start_time": "2024-07-15T11:13:19.962875",
     "status": "completed"
    },
    "tags": []
   },
   "outputs": [],
   "source": [
    "# Definindo a coluna alvo\n",
    "train_data['winner'] = train_data.apply(lambda x: 0 if x['winner_model_a'] == 1 else (1 if x['winner_model_b'] == 1 else 2), axis=1)"
   ]
  },
  {
   "cell_type": "code",
   "execution_count": 40,
   "id": "68e81f51",
   "metadata": {
    "execution": {
     "iopub.execute_input": "2024-07-15T11:13:20.066519Z",
     "iopub.status.busy": "2024-07-15T11:13:20.065959Z",
     "iopub.status.idle": "2024-07-15T11:13:20.072772Z",
     "shell.execute_reply": "2024-07-15T11:13:20.071199Z"
    },
    "papermill": {
     "duration": 0.041545,
     "end_time": "2024-07-15T11:13:20.076365",
     "exception": false,
     "start_time": "2024-07-15T11:13:20.034820",
     "status": "completed"
    },
    "tags": []
   },
   "outputs": [],
   "source": [
    "y = train_data['winner']"
   ]
  },
  {
   "cell_type": "markdown",
   "id": "e3f16437",
   "metadata": {
    "papermill": {
     "duration": 0.028841,
     "end_time": "2024-07-15T11:13:20.132825",
     "exception": false,
     "start_time": "2024-07-15T11:13:20.103984",
     "status": "completed"
    },
    "tags": []
   },
   "source": [
    "### Splitting training and validation data"
   ]
  },
  {
   "cell_type": "code",
   "execution_count": 41,
   "id": "66ab8f6b",
   "metadata": {
    "execution": {
     "iopub.execute_input": "2024-07-15T11:13:20.190782Z",
     "iopub.status.busy": "2024-07-15T11:13:20.190367Z",
     "iopub.status.idle": "2024-07-15T11:13:20.199472Z",
     "shell.execute_reply": "2024-07-15T11:13:20.198352Z"
    },
    "papermill": {
     "duration": 0.040272,
     "end_time": "2024-07-15T11:13:20.201931",
     "exception": false,
     "start_time": "2024-07-15T11:13:20.161659",
     "status": "completed"
    },
    "tags": []
   },
   "outputs": [],
   "source": [
    "X_train, X_val, y_train, y_val = train_test_split(X, y, test_size=0.2, \n",
    "                                                  random_state=42)"
   ]
  },
  {
   "cell_type": "markdown",
   "id": "72336ef2",
   "metadata": {
    "papermill": {
     "duration": 0.028866,
     "end_time": "2024-07-15T11:13:20.259163",
     "exception": false,
     "start_time": "2024-07-15T11:13:20.230297",
     "status": "completed"
    },
    "tags": []
   },
   "source": [
    "## Defining Models\n",
    "\n",
    "* Random Forest\n",
    "* Logistic Regression\n",
    "* Support Vector Machin\n",
    "* Gradient Boosting\n",
    "* Neural Network"
   ]
  },
  {
   "cell_type": "code",
   "execution_count": 42,
   "id": "9be87725",
   "metadata": {
    "execution": {
     "iopub.execute_input": "2024-07-15T11:13:20.316234Z",
     "iopub.status.busy": "2024-07-15T11:13:20.315787Z",
     "iopub.status.idle": "2024-07-15T11:13:20.321616Z",
     "shell.execute_reply": "2024-07-15T11:13:20.320469Z"
    },
    "papermill": {
     "duration": 0.037349,
     "end_time": "2024-07-15T11:13:20.324065",
     "exception": false,
     "start_time": "2024-07-15T11:13:20.286716",
     "status": "completed"
    },
    "tags": []
   },
   "outputs": [],
   "source": [
    "models = {\n",
    "    'Random Forest': RandomForestClassifier(),\n",
    "    'SVM': SVC(probability=True),\n",
    "    'Gradient Boosting': GradientBoostingClassifier()\n",
    "}"
   ]
  },
  {
   "cell_type": "code",
   "execution_count": 43,
   "id": "3d4a5030",
   "metadata": {
    "execution": {
     "iopub.execute_input": "2024-07-15T11:13:20.380941Z",
     "iopub.status.busy": "2024-07-15T11:13:20.380477Z",
     "iopub.status.idle": "2024-07-15T11:13:20.388867Z",
     "shell.execute_reply": "2024-07-15T11:13:20.387663Z"
    },
    "papermill": {
     "duration": 0.039796,
     "end_time": "2024-07-15T11:13:20.391452",
     "exception": false,
     "start_time": "2024-07-15T11:13:20.351656",
     "status": "completed"
    },
    "tags": []
   },
   "outputs": [],
   "source": [
    "# Creating Neural Network\n",
    "def create_nn_model(input_shape):\n",
    "    model = Sequential()\n",
    "    model.add(Dense(128, input_shape=(input_shape,), activation='relu'))\n",
    "    model.add(Dropout(0.2))\n",
    "    model.add(Dense(64, activation='relu'))\n",
    "    model.add(Dropout(0.2))\n",
    "    model.add(Dense(3, activation='softmax'))\n",
    "    model.compile(optimizer=Adam(learning_rate=0.001), loss='sparse_categorical_crossentropy', metrics=['accuracy'])\n",
    "    return model"
   ]
  },
  {
   "cell_type": "code",
   "execution_count": 44,
   "id": "eaad3cef",
   "metadata": {
    "execution": {
     "iopub.execute_input": "2024-07-15T11:13:20.448824Z",
     "iopub.status.busy": "2024-07-15T11:13:20.448398Z",
     "iopub.status.idle": "2024-07-15T11:13:20.532063Z",
     "shell.execute_reply": "2024-07-15T11:13:20.530811Z"
    },
    "papermill": {
     "duration": 0.115403,
     "end_time": "2024-07-15T11:13:20.534878",
     "exception": false,
     "start_time": "2024-07-15T11:13:20.419475",
     "status": "completed"
    },
    "tags": []
   },
   "outputs": [],
   "source": [
    "nn_model = create_nn_model(X_train.shape[1])\n",
    "models['Neural Network'] = nn_model"
   ]
  },
  {
   "cell_type": "markdown",
   "id": "48dd4dab",
   "metadata": {
    "papermill": {
     "duration": 0.027555,
     "end_time": "2024-07-15T11:13:20.589979",
     "exception": false,
     "start_time": "2024-07-15T11:13:20.562424",
     "status": "completed"
    },
    "tags": []
   },
   "source": [
    "Training models and evaluating:"
   ]
  },
  {
   "cell_type": "code",
   "execution_count": 45,
   "id": "81c2d2dd",
   "metadata": {
    "execution": {
     "iopub.execute_input": "2024-07-15T11:13:20.648230Z",
     "iopub.status.busy": "2024-07-15T11:13:20.647749Z",
     "iopub.status.idle": "2024-07-15T11:13:24.192868Z",
     "shell.execute_reply": "2024-07-15T11:13:24.191516Z"
    },
    "papermill": {
     "duration": 3.577469,
     "end_time": "2024-07-15T11:13:24.195559",
     "exception": false,
     "start_time": "2024-07-15T11:13:20.618090",
     "status": "completed"
    },
    "tags": []
   },
   "outputs": [
    {
     "name": "stdout",
     "output_type": "stream",
     "text": [
      "Treinando e avaliando Random Forest...\n",
      "Acurácia de Random Forest: 0.4166666666666667\n",
      "Log Loss de Random Forest: 1.053750582481741\n",
      "Relatório de Classificação de Random Forest:\n",
      "              precision    recall  f1-score   support\n",
      "\n",
      "           0       0.45      1.00      0.62         5\n",
      "           1       0.00      0.00      0.00         2\n",
      "           2       0.00      0.00      0.00         5\n",
      "\n",
      "    accuracy                           0.42        12\n",
      "   macro avg       0.15      0.33      0.21        12\n",
      "weighted avg       0.19      0.42      0.26        12\n",
      "\n",
      "Matriz de Confusão de Random Forest:\n",
      "[[5 0 0]\n",
      " [2 0 0]\n",
      " [4 1 0]]\n",
      "\n",
      "Treinando e avaliando SVM...\n",
      "Acurácia de SVM: 0.4166666666666667\n",
      "Log Loss de SVM: 1.124281411652986\n",
      "Relatório de Classificação de SVM:\n",
      "              precision    recall  f1-score   support\n",
      "\n",
      "           0       0.42      1.00      0.59         5\n",
      "           1       0.00      0.00      0.00         2\n",
      "           2       0.00      0.00      0.00         5\n",
      "\n",
      "    accuracy                           0.42        12\n",
      "   macro avg       0.14      0.33      0.20        12\n",
      "weighted avg       0.17      0.42      0.25        12\n",
      "\n",
      "Matriz de Confusão de SVM:\n",
      "[[5 0 0]\n",
      " [2 0 0]\n",
      " [5 0 0]]\n",
      "\n",
      "Treinando e avaliando Gradient Boosting...\n",
      "Acurácia de Gradient Boosting: 0.4166666666666667\n",
      "Log Loss de Gradient Boosting: 1.2322875838332057\n",
      "Relatório de Classificação de Gradient Boosting:\n",
      "              precision    recall  f1-score   support\n",
      "\n",
      "           0       0.42      1.00      0.59         5\n",
      "           1       0.00      0.00      0.00         2\n",
      "           2       0.00      0.00      0.00         5\n",
      "\n",
      "    accuracy                           0.42        12\n",
      "   macro avg       0.14      0.33      0.20        12\n",
      "weighted avg       0.17      0.42      0.25        12\n",
      "\n",
      "Matriz de Confusão de Gradient Boosting:\n",
      "[[5 0 0]\n",
      " [2 0 0]\n",
      " [5 0 0]]\n",
      "\n",
      "Treinando e avaliando Neural Network...\n",
      "Epoch 1/10\n",
      "2/2 - 2s - 779ms/step - accuracy: 0.2667 - loss: 50.0512 - val_accuracy: 0.5000 - val_loss: 19.9323\n",
      "Epoch 2/10\n",
      "2/2 - 0s - 26ms/step - accuracy: 0.3556 - loss: 40.0263 - val_accuracy: 0.5000 - val_loss: 17.8727\n",
      "Epoch 3/10\n",
      "2/2 - 0s - 26ms/step - accuracy: 0.3111 - loss: 30.7284 - val_accuracy: 0.5000 - val_loss: 12.9085\n",
      "Epoch 4/10\n",
      "2/2 - 0s - 27ms/step - accuracy: 0.3333 - loss: 36.4296 - val_accuracy: 0.5000 - val_loss: 5.9805\n",
      "Epoch 5/10\n",
      "2/2 - 0s - 27ms/step - accuracy: 0.3556 - loss: 28.6579 - val_accuracy: 0.4167 - val_loss: 9.3234\n",
      "Epoch 6/10\n",
      "2/2 - 0s - 27ms/step - accuracy: 0.5111 - loss: 16.0090 - val_accuracy: 0.3333 - val_loss: 15.3215\n",
      "Epoch 7/10\n",
      "2/2 - 0s - 28ms/step - accuracy: 0.3556 - loss: 21.8335 - val_accuracy: 0.3333 - val_loss: 18.8538\n",
      "Epoch 8/10\n",
      "2/2 - 0s - 27ms/step - accuracy: 0.2889 - loss: 21.8033 - val_accuracy: 0.3333 - val_loss: 19.4728\n",
      "Epoch 9/10\n",
      "2/2 - 0s - 27ms/step - accuracy: 0.3111 - loss: 23.7520 - val_accuracy: 0.3333 - val_loss: 18.0996\n",
      "Epoch 10/10\n",
      "2/2 - 0s - 27ms/step - accuracy: 0.3333 - loss: 17.6281 - val_accuracy: 0.3333 - val_loss: 15.5067\n",
      "\u001b[1m1/1\u001b[0m \u001b[32m━━━━━━━━━━━━━━━━━━━━\u001b[0m\u001b[37m\u001b[0m \u001b[1m0s\u001b[0m 63ms/step\n",
      "\u001b[1m1/1\u001b[0m \u001b[32m━━━━━━━━━━━━━━━━━━━━\u001b[0m\u001b[37m\u001b[0m \u001b[1m0s\u001b[0m 22ms/step\n",
      "Acurácia de Neural Network: 0.3333333333333333\n",
      "Log Loss de Neural Network: 8.888220478901813\n",
      "Relatório de Classificação de Neural Network:\n",
      "              precision    recall  f1-score   support\n",
      "\n",
      "           0       0.00      0.00      0.00         5\n",
      "           1       0.00      0.00      0.00         2\n",
      "           2       0.36      0.80      0.50         5\n",
      "\n",
      "    accuracy                           0.33        12\n",
      "   macro avg       0.12      0.27      0.17        12\n",
      "weighted avg       0.15      0.33      0.21        12\n",
      "\n",
      "Matriz de Confusão de Neural Network:\n",
      "[[0 0 5]\n",
      " [0 0 2]\n",
      " [1 0 4]]\n",
      "\n"
     ]
    }
   ],
   "source": [
    "results = {}\n",
    "\n",
    "for name, model in models.items():\n",
    "    print(f\"Treinando e avaliando {name}...\")\n",
    "    \n",
    "    if name == 'Neural Network':\n",
    "        model.fit(X_train, y_train, epochs=10, batch_size=32, validation_data=(X_val, y_val), verbose=2)\n",
    "        y_pred = np.argmax(model.predict(X_val), axis=1)\n",
    "        y_pred_proba = model.predict(X_val)\n",
    "    else:\n",
    "        model.fit(X_train, y_train)\n",
    "        y_pred = model.predict(X_val)\n",
    "        y_pred_proba = model.predict_proba(X_val)\n",
    "\n",
    "    accuracy = accuracy_score(y_val, y_pred)\n",
    "    logloss = log_loss(y_val, y_pred_proba)\n",
    "\n",
    "    results[name] = {\n",
    "        'Acurácia': accuracy,\n",
    "        'Log Loss': logloss,\n",
    "        'Relatório de Classificação': classification_report(y_val, y_pred),\n",
    "        'Matriz de Confusão': confusion_matrix(y_val, y_pred)\n",
    "    }\n",
    "\n",
    "    print(f\"Acurácia de {name}: {accuracy}\")\n",
    "    print(f\"Log Loss de {name}: {logloss}\")\n",
    "    print(f\"Relatório de Classificação de {name}:\\n{classification_report(y_val, y_pred)}\")\n",
    "    print(f\"Matriz de Confusão de {name}:\\n{confusion_matrix(y_val, y_pred)}\\n\")"
   ]
  },
  {
   "cell_type": "markdown",
   "id": "b09ab268",
   "metadata": {
    "papermill": {
     "duration": 0.031405,
     "end_time": "2024-07-15T11:13:24.257742",
     "exception": false,
     "start_time": "2024-07-15T11:13:24.226337",
     "status": "completed"
    },
    "tags": []
   },
   "source": [
    "Selecting the best model with respect the Log Loss"
   ]
  },
  {
   "cell_type": "code",
   "execution_count": 46,
   "id": "4d550610",
   "metadata": {
    "execution": {
     "iopub.execute_input": "2024-07-15T11:13:24.320507Z",
     "iopub.status.busy": "2024-07-15T11:13:24.320065Z",
     "iopub.status.idle": "2024-07-15T11:13:24.325942Z",
     "shell.execute_reply": "2024-07-15T11:13:24.324702Z"
    },
    "papermill": {
     "duration": 0.040159,
     "end_time": "2024-07-15T11:13:24.328540",
     "exception": false,
     "start_time": "2024-07-15T11:13:24.288381",
     "status": "completed"
    },
    "tags": []
   },
   "outputs": [],
   "source": [
    "best_model_name = max(results, key=lambda name: results[name]['Log Loss'])\n",
    "best_model = models[best_model_name]"
   ]
  },
  {
   "cell_type": "markdown",
   "id": "7c9ee247",
   "metadata": {
    "papermill": {
     "duration": 0.030304,
     "end_time": "2024-07-15T11:13:24.389296",
     "exception": false,
     "start_time": "2024-07-15T11:13:24.358992",
     "status": "completed"
    },
    "tags": []
   },
   "source": [
    "## Prediction and Submission\n",
    "\n",
    "Preparing test data, predicting on test data and creating submission data."
   ]
  },
  {
   "cell_type": "code",
   "execution_count": 47,
   "id": "519a889d",
   "metadata": {
    "execution": {
     "iopub.execute_input": "2024-07-15T11:13:24.452524Z",
     "iopub.status.busy": "2024-07-15T11:13:24.452060Z",
     "iopub.status.idle": "2024-07-15T11:13:24.462135Z",
     "shell.execute_reply": "2024-07-15T11:13:24.460711Z"
    },
    "papermill": {
     "duration": 0.045126,
     "end_time": "2024-07-15T11:13:24.464732",
     "exception": false,
     "start_time": "2024-07-15T11:13:24.419606",
     "status": "completed"
    },
    "tags": []
   },
   "outputs": [],
   "source": [
    "# Cleaning text from test data\n",
    "test_data['prompt_clean'] = test_data['prompt'].apply(clean_text)\n",
    "test_data['response_a_clean'] = test_data['response_a'].apply(clean_text)\n",
    "test_data['response_b_clean'] = test_data['response_b'].apply(clean_text)"
   ]
  },
  {
   "cell_type": "code",
   "execution_count": 48,
   "id": "6130a4ea",
   "metadata": {
    "execution": {
     "iopub.execute_input": "2024-07-15T11:13:24.527834Z",
     "iopub.status.busy": "2024-07-15T11:13:24.527399Z",
     "iopub.status.idle": "2024-07-15T11:13:24.534414Z",
     "shell.execute_reply": "2024-07-15T11:13:24.533038Z"
    },
    "papermill": {
     "duration": 0.041657,
     "end_time": "2024-07-15T11:13:24.537117",
     "exception": false,
     "start_time": "2024-07-15T11:13:24.495460",
     "status": "completed"
    },
    "tags": []
   },
   "outputs": [],
   "source": [
    "# Tokenize text from test data\n",
    "test_sequences = tokenizer.texts_to_sequences(test_data['prompt_clean'])\n",
    "response_a_test_sequences = tokenizer.texts_to_sequences(test_data['response_a_clean'])\n",
    "response_b_test_sequences = tokenizer.texts_to_sequences(test_data['response_b_clean'])"
   ]
  },
  {
   "cell_type": "code",
   "execution_count": 49,
   "id": "d97f0e5b",
   "metadata": {
    "execution": {
     "iopub.execute_input": "2024-07-15T11:13:24.600289Z",
     "iopub.status.busy": "2024-07-15T11:13:24.599819Z",
     "iopub.status.idle": "2024-07-15T11:13:24.606862Z",
     "shell.execute_reply": "2024-07-15T11:13:24.605593Z"
    },
    "papermill": {
     "duration": 0.041974,
     "end_time": "2024-07-15T11:13:24.609372",
     "exception": false,
     "start_time": "2024-07-15T11:13:24.567398",
     "status": "completed"
    },
    "tags": []
   },
   "outputs": [],
   "source": [
    "# Padding sequences from test data\n",
    "test_sequences = pad_sequences(test_sequences, maxlen=max_len, padding='post')\n",
    "response_a_test_sequences = pad_sequences(response_a_test_sequences, maxlen=max_len, padding='post')\n",
    "response_b_test_sequences = pad_sequences(response_b_test_sequences, maxlen=max_len, padding='post')"
   ]
  },
  {
   "cell_type": "code",
   "execution_count": 50,
   "id": "74c7d286",
   "metadata": {
    "execution": {
     "iopub.execute_input": "2024-07-15T11:13:24.672226Z",
     "iopub.status.busy": "2024-07-15T11:13:24.671728Z",
     "iopub.status.idle": "2024-07-15T11:13:24.680779Z",
     "shell.execute_reply": "2024-07-15T11:13:24.679607Z"
    },
    "papermill": {
     "duration": 0.043758,
     "end_time": "2024-07-15T11:13:24.683461",
     "exception": false,
     "start_time": "2024-07-15T11:13:24.639703",
     "status": "completed"
    },
    "tags": []
   },
   "outputs": [],
   "source": [
    "# Sentiment analysis for test data\n",
    "test_data['sentiment_prompt'] = test_data['prompt_clean'].apply(sentiment_analysis)\n",
    "test_data['sentiment_response_a'] = test_data['response_a_clean'].apply(sentiment_analysis)\n",
    "test_data['sentiment_response_b'] = test_data['response_b_clean'].apply(sentiment_analysis)"
   ]
  },
  {
   "cell_type": "code",
   "execution_count": 51,
   "id": "ed905a3a",
   "metadata": {
    "execution": {
     "iopub.execute_input": "2024-07-15T11:13:24.748511Z",
     "iopub.status.busy": "2024-07-15T11:13:24.747649Z",
     "iopub.status.idle": "2024-07-15T11:13:24.770989Z",
     "shell.execute_reply": "2024-07-15T11:13:24.769613Z"
    },
    "papermill": {
     "duration": 0.058175,
     "end_time": "2024-07-15T11:13:24.773789",
     "exception": false,
     "start_time": "2024-07-15T11:13:24.715614",
     "status": "completed"
    },
    "tags": []
   },
   "outputs": [],
   "source": [
    "# Creating features of text structure from test data\n",
    "test_data['word_count_prompt'] = test_data['prompt_clean'].apply(word_count)\n",
    "test_data['word_count_response_a'] = test_data['response_a_clean'].apply(word_count)\n",
    "test_data['word_count_response_b'] = test_data['response_b_clean'].apply(word_count)\n",
    "test_data['char_count_prompt'] = test_data['prompt_clean'].apply(char_count)\n",
    "test_data['char_count_response_a'] = test_data['response_a_clean'].apply(char_count)\n",
    "test_data['char_count_response_b'] = test_data['response_b_clean'].apply(char_count)\n",
    "test_data['lexical_diversity_prompt'] = test_data['prompt_clean'].apply(lexical_diversity)\n",
    "test_data['lexical_diversity_response_a'] = test_data['response_a_clean'].apply(lexical_diversity)\n",
    "test_data['lexical_diversity_response_b'] = test_data['response_b_clean'].apply(lexical_diversity)\n",
    "test_data['syllable_count_prompt'] = test_data['prompt_clean'].apply(syllable_count)\n",
    "test_data['syllable_count_response_a'] = test_data['response_a_clean'].apply(syllable_count)\n",
    "test_data['syllable_count_response_b'] = test_data['response_b_clean'].apply(syllable_count)\n",
    "test_data['sentence_count_prompt'] = test_data['prompt_clean'].apply(sentence_count)\n",
    "test_data['sentence_count_response_a'] = test_data['response_a_clean'].apply(sentence_count)\n",
    "test_data['sentence_count_response_b'] = test_data['response_b_clean'].apply(sentence_count)\n",
    "test_data['flesch_reading_ease_prompt'] = test_data['prompt_clean'].apply(flesch_reading_ease)\n",
    "test_data['flesch_reading_ease_response_a'] = test_data['response_a_clean'].apply(flesch_reading_ease)\n",
    "test_data['flesch_reading_ease_response_b'] = test_data['response_b_clean'].apply(flesch_reading_ease)"
   ]
  },
  {
   "cell_type": "code",
   "execution_count": 52,
   "id": "81a03b2e",
   "metadata": {
    "execution": {
     "iopub.execute_input": "2024-07-15T11:13:24.837244Z",
     "iopub.status.busy": "2024-07-15T11:13:24.836767Z",
     "iopub.status.idle": "2024-07-15T11:13:35.428482Z",
     "shell.execute_reply": "2024-07-15T11:13:35.427115Z"
    },
    "papermill": {
     "duration": 10.626235,
     "end_time": "2024-07-15T11:13:35.430916",
     "exception": false,
     "start_time": "2024-07-15T11:13:24.804681",
     "status": "completed"
    },
    "tags": []
   },
   "outputs": [
    {
     "name": "stdout",
     "output_type": "stream",
     "text": [
      "Processing column: prompt_clean\n",
      "Processing column: response_a_clean\n",
      "Processing column: response_b_clean\n"
     ]
    }
   ],
   "source": [
    "# Embedding from test data\n",
    "test_data = add_embeddings_to_dataframe(test_data, columns_to_embed)"
   ]
  },
  {
   "cell_type": "code",
   "execution_count": 53,
   "id": "3a5d874b",
   "metadata": {
    "execution": {
     "iopub.execute_input": "2024-07-15T11:13:35.493505Z",
     "iopub.status.busy": "2024-07-15T11:13:35.493069Z",
     "iopub.status.idle": "2024-07-15T11:13:35.509790Z",
     "shell.execute_reply": "2024-07-15T11:13:35.508602Z"
    },
    "papermill": {
     "duration": 0.051123,
     "end_time": "2024-07-15T11:13:35.512406",
     "exception": false,
     "start_time": "2024-07-15T11:13:35.461283",
     "status": "completed"
    },
    "tags": []
   },
   "outputs": [],
   "source": [
    "# Cosine similarity from test data\n",
    "test_data['similarity_prompt_response_a'] = test_data.apply(\n",
    "    lambda x: cosine_similarity(np.array(x['prompt_clean_embedding']).reshape(1, -1),\n",
    "                                np.array(x['response_a_clean_embedding']).reshape(1, -1))[0][0], axis=1)\n",
    "\n",
    "test_data['similarity_prompt_response_b'] = test_data.apply(\n",
    "    lambda x: cosine_similarity(np.array(x['prompt_clean_embedding']).reshape(1, -1),\n",
    "                                np.array(x['response_b_clean_embedding']).reshape(1, -1))[0][0], axis=1)"
   ]
  },
  {
   "cell_type": "code",
   "execution_count": 54,
   "id": "4fa26e18",
   "metadata": {
    "execution": {
     "iopub.execute_input": "2024-07-15T11:13:35.575045Z",
     "iopub.status.busy": "2024-07-15T11:13:35.574618Z",
     "iopub.status.idle": "2024-07-15T11:13:35.583722Z",
     "shell.execute_reply": "2024-07-15T11:13:35.582695Z"
    },
    "papermill": {
     "duration": 0.043561,
     "end_time": "2024-07-15T11:13:35.586437",
     "exception": false,
     "start_time": "2024-07-15T11:13:35.542876",
     "status": "completed"
    },
    "tags": []
   },
   "outputs": [],
   "source": [
    "X_test = test_data[['word_count_prompt', 'word_count_response_a', 'word_count_response_b',\n",
    "                    'char_count_prompt', 'char_count_response_a', 'char_count_response_b',\n",
    "                    'lexical_diversity_prompt', 'lexical_diversity_response_a', 'lexical_diversity_response_b',\n",
    "                    'syllable_count_prompt', 'syllable_count_response_a', 'syllable_count_response_b',\n",
    "                    'sentence_count_prompt', 'sentence_count_response_a', 'sentence_count_response_b',\n",
    "                    'flesch_reading_ease_prompt', 'flesch_reading_ease_response_a', 'flesch_reading_ease_response_b',\n",
    "                    'similarity_prompt_response_a', 'similarity_prompt_response_b', \n",
    "                    'sentiment_prompt', 'sentiment_response_a', 'sentiment_response_b']]"
   ]
  },
  {
   "cell_type": "code",
   "execution_count": 55,
   "id": "bf6271da",
   "metadata": {
    "execution": {
     "iopub.execute_input": "2024-07-15T11:13:35.649640Z",
     "iopub.status.busy": "2024-07-15T11:13:35.649212Z",
     "iopub.status.idle": "2024-07-15T11:13:35.770583Z",
     "shell.execute_reply": "2024-07-15T11:13:35.769548Z"
    },
    "papermill": {
     "duration": 0.156199,
     "end_time": "2024-07-15T11:13:35.773329",
     "exception": false,
     "start_time": "2024-07-15T11:13:35.617130",
     "status": "completed"
    },
    "tags": []
   },
   "outputs": [
    {
     "name": "stdout",
     "output_type": "stream",
     "text": [
      "\u001b[1m1/1\u001b[0m \u001b[32m━━━━━━━━━━━━━━━━━━━━\u001b[0m\u001b[37m\u001b[0m \u001b[1m0s\u001b[0m 58ms/step\n"
     ]
    }
   ],
   "source": [
    "test_pred_proba = best_model.predict(X_test)"
   ]
  },
  {
   "cell_type": "code",
   "execution_count": 56,
   "id": "25ee3750",
   "metadata": {
    "execution": {
     "iopub.execute_input": "2024-07-15T11:13:35.837133Z",
     "iopub.status.busy": "2024-07-15T11:13:35.836673Z",
     "iopub.status.idle": "2024-07-15T11:13:35.849426Z",
     "shell.execute_reply": "2024-07-15T11:13:35.848067Z"
    },
    "papermill": {
     "duration": 0.047727,
     "end_time": "2024-07-15T11:13:35.852308",
     "exception": false,
     "start_time": "2024-07-15T11:13:35.804581",
     "status": "completed"
    },
    "tags": []
   },
   "outputs": [],
   "source": [
    "submission = pd.DataFrame(test_data['id'])\n",
    "submission['winner_model_a'] = test_pred_proba[:, 0]\n",
    "submission['winner_model_b'] = test_pred_proba[:, 1]\n",
    "submission['winner_tie'] = test_pred_proba[:, 2]\n",
    "\n",
    "submission.to_csv('submission.csv', index=False)"
   ]
  },
  {
   "cell_type": "code",
   "execution_count": 57,
   "id": "d1ccfe69",
   "metadata": {
    "execution": {
     "iopub.execute_input": "2024-07-15T11:13:35.917232Z",
     "iopub.status.busy": "2024-07-15T11:13:35.916809Z",
     "iopub.status.idle": "2024-07-15T11:13:35.931353Z",
     "shell.execute_reply": "2024-07-15T11:13:35.930214Z"
    },
    "papermill": {
     "duration": 0.048934,
     "end_time": "2024-07-15T11:13:35.933899",
     "exception": false,
     "start_time": "2024-07-15T11:13:35.884965",
     "status": "completed"
    },
    "tags": []
   },
   "outputs": [
    {
     "data": {
      "text/html": [
       "<div>\n",
       "<style scoped>\n",
       "    .dataframe tbody tr th:only-of-type {\n",
       "        vertical-align: middle;\n",
       "    }\n",
       "\n",
       "    .dataframe tbody tr th {\n",
       "        vertical-align: top;\n",
       "    }\n",
       "\n",
       "    .dataframe thead th {\n",
       "        text-align: right;\n",
       "    }\n",
       "</style>\n",
       "<table border=\"1\" class=\"dataframe\">\n",
       "  <thead>\n",
       "    <tr style=\"text-align: right;\">\n",
       "      <th></th>\n",
       "      <th>id</th>\n",
       "      <th>winner_model_a</th>\n",
       "      <th>winner_model_b</th>\n",
       "      <th>winner_tie</th>\n",
       "    </tr>\n",
       "  </thead>\n",
       "  <tbody>\n",
       "    <tr>\n",
       "      <th>0</th>\n",
       "      <td>136060</td>\n",
       "      <td>0.000008</td>\n",
       "      <td>8.252964e-08</td>\n",
       "      <td>0.999992</td>\n",
       "    </tr>\n",
       "    <tr>\n",
       "      <th>1</th>\n",
       "      <td>211333</td>\n",
       "      <td>0.000008</td>\n",
       "      <td>8.252964e-08</td>\n",
       "      <td>0.999992</td>\n",
       "    </tr>\n",
       "    <tr>\n",
       "      <th>2</th>\n",
       "      <td>1233961</td>\n",
       "      <td>0.000008</td>\n",
       "      <td>8.252964e-08</td>\n",
       "      <td>0.999992</td>\n",
       "    </tr>\n",
       "  </tbody>\n",
       "</table>\n",
       "</div>"
      ],
      "text/plain": [
       "        id  winner_model_a  winner_model_b  winner_tie\n",
       "0   136060        0.000008    8.252964e-08    0.999992\n",
       "1   211333        0.000008    8.252964e-08    0.999992\n",
       "2  1233961        0.000008    8.252964e-08    0.999992"
      ]
     },
     "execution_count": 57,
     "metadata": {},
     "output_type": "execute_result"
    }
   ],
   "source": [
    "submission"
   ]
  }
 ],
 "metadata": {
  "kaggle": {
   "accelerator": "none",
   "dataSources": [
    {
     "databundleVersionId": 8346466,
     "sourceId": 66631,
     "sourceType": "competition"
    }
   ],
   "dockerImageVersionId": 30746,
   "isGpuEnabled": false,
   "isInternetEnabled": true,
   "language": "python",
   "sourceType": "notebook"
  },
  "kernelspec": {
   "display_name": "Python 3",
   "language": "python",
   "name": "python3"
  },
  "language_info": {
   "codemirror_mode": {
    "name": "ipython",
    "version": 3
   },
   "file_extension": ".py",
   "mimetype": "text/x-python",
   "name": "python",
   "nbconvert_exporter": "python",
   "pygments_lexer": "ipython3",
   "version": "3.10.13"
  },
  "papermill": {
   "default_parameters": {},
   "duration": 298.33777,
   "end_time": "2024-07-15T11:13:39.162834",
   "environment_variables": {},
   "exception": null,
   "input_path": "__notebook__.ipynb",
   "output_path": "__notebook__.ipynb",
   "parameters": {},
   "start_time": "2024-07-15T11:08:40.825064",
   "version": "2.5.0"
  },
  "widgets": {
   "application/vnd.jupyter.widget-state+json": {
    "state": {
     "01556579e51744d6b8531dbbf1ab34b9": {
      "model_module": "@jupyter-widgets/base",
      "model_module_version": "1.2.0",
      "model_name": "LayoutModel",
      "state": {
       "_model_module": "@jupyter-widgets/base",
       "_model_module_version": "1.2.0",
       "_model_name": "LayoutModel",
       "_view_count": null,
       "_view_module": "@jupyter-widgets/base",
       "_view_module_version": "1.2.0",
       "_view_name": "LayoutView",
       "align_content": null,
       "align_items": null,
       "align_self": null,
       "border": null,
       "bottom": null,
       "display": null,
       "flex": null,
       "flex_flow": null,
       "grid_area": null,
       "grid_auto_columns": null,
       "grid_auto_flow": null,
       "grid_auto_rows": null,
       "grid_column": null,
       "grid_gap": null,
       "grid_row": null,
       "grid_template_areas": null,
       "grid_template_columns": null,
       "grid_template_rows": null,
       "height": null,
       "justify_content": null,
       "justify_items": null,
       "left": null,
       "margin": null,
       "max_height": null,
       "max_width": null,
       "min_height": null,
       "min_width": null,
       "object_fit": null,
       "object_position": null,
       "order": null,
       "overflow": null,
       "overflow_x": null,
       "overflow_y": null,
       "padding": null,
       "right": null,
       "top": null,
       "visibility": null,
       "width": null
      }
     },
     "0765eb3c75f3463e84e8be5535d31782": {
      "model_module": "@jupyter-widgets/controls",
      "model_module_version": "1.5.0",
      "model_name": "HBoxModel",
      "state": {
       "_dom_classes": [],
       "_model_module": "@jupyter-widgets/controls",
       "_model_module_version": "1.5.0",
       "_model_name": "HBoxModel",
       "_view_count": null,
       "_view_module": "@jupyter-widgets/controls",
       "_view_module_version": "1.5.0",
       "_view_name": "HBoxView",
       "box_style": "",
       "children": [
        "IPY_MODEL_8099edc5fd7c4a6794afdaafe668b6b6",
        "IPY_MODEL_ffaae6a5456c401894d74325b6bf2d84",
        "IPY_MODEL_1c4ffcab4de147699333703ed3bd34a5"
       ],
       "layout": "IPY_MODEL_4c066e86d14c4998b093a2aaec41e0c0"
      }
     },
     "0cebd052cc2e40449159d115a1f4878a": {
      "model_module": "@jupyter-widgets/controls",
      "model_module_version": "1.5.0",
      "model_name": "DescriptionStyleModel",
      "state": {
       "_model_module": "@jupyter-widgets/controls",
       "_model_module_version": "1.5.0",
       "_model_name": "DescriptionStyleModel",
       "_view_count": null,
       "_view_module": "@jupyter-widgets/base",
       "_view_module_version": "1.2.0",
       "_view_name": "StyleView",
       "description_width": ""
      }
     },
     "134572781c3749cf88676bf056a1b68b": {
      "model_module": "@jupyter-widgets/controls",
      "model_module_version": "1.5.0",
      "model_name": "HTMLModel",
      "state": {
       "_dom_classes": [],
       "_model_module": "@jupyter-widgets/controls",
       "_model_module_version": "1.5.0",
       "_model_name": "HTMLModel",
       "_view_count": null,
       "_view_module": "@jupyter-widgets/controls",
       "_view_module_version": "1.5.0",
       "_view_name": "HTMLView",
       "description": "",
       "description_tooltip": null,
       "layout": "IPY_MODEL_9f5a3a73de9c4973853d9febd41fb866",
       "placeholder": "​",
       "style": "IPY_MODEL_0cebd052cc2e40449159d115a1f4878a",
       "value": "vocab.txt: 100%"
      }
     },
     "16df65359e3441649effad8ae4fc378a": {
      "model_module": "@jupyter-widgets/base",
      "model_module_version": "1.2.0",
      "model_name": "LayoutModel",
      "state": {
       "_model_module": "@jupyter-widgets/base",
       "_model_module_version": "1.2.0",
       "_model_name": "LayoutModel",
       "_view_count": null,
       "_view_module": "@jupyter-widgets/base",
       "_view_module_version": "1.2.0",
       "_view_name": "LayoutView",
       "align_content": null,
       "align_items": null,
       "align_self": null,
       "border": null,
       "bottom": null,
       "display": null,
       "flex": null,
       "flex_flow": null,
       "grid_area": null,
       "grid_auto_columns": null,
       "grid_auto_flow": null,
       "grid_auto_rows": null,
       "grid_column": null,
       "grid_gap": null,
       "grid_row": null,
       "grid_template_areas": null,
       "grid_template_columns": null,
       "grid_template_rows": null,
       "height": null,
       "justify_content": null,
       "justify_items": null,
       "left": null,
       "margin": null,
       "max_height": null,
       "max_width": null,
       "min_height": null,
       "min_width": null,
       "object_fit": null,
       "object_position": null,
       "order": null,
       "overflow": null,
       "overflow_x": null,
       "overflow_y": null,
       "padding": null,
       "right": null,
       "top": null,
       "visibility": null,
       "width": null
      }
     },
     "1c4ffcab4de147699333703ed3bd34a5": {
      "model_module": "@jupyter-widgets/controls",
      "model_module_version": "1.5.0",
      "model_name": "HTMLModel",
      "state": {
       "_dom_classes": [],
       "_model_module": "@jupyter-widgets/controls",
       "_model_module_version": "1.5.0",
       "_model_name": "HTMLModel",
       "_view_count": null,
       "_view_module": "@jupyter-widgets/controls",
       "_view_module_version": "1.5.0",
       "_view_name": "HTMLView",
       "description": "",
       "description_tooltip": null,
       "layout": "IPY_MODEL_01556579e51744d6b8531dbbf1ab34b9",
       "placeholder": "​",
       "style": "IPY_MODEL_b138aa37ee6e4daa9b4c6e082282dc16",
       "value": " 466k/466k [00:00&lt;00:00, 2.51MB/s]"
      }
     },
     "2251af3aeeb04d1cabb8ebab8b8cdcfc": {
      "model_module": "@jupyter-widgets/base",
      "model_module_version": "1.2.0",
      "model_name": "LayoutModel",
      "state": {
       "_model_module": "@jupyter-widgets/base",
       "_model_module_version": "1.2.0",
       "_model_name": "LayoutModel",
       "_view_count": null,
       "_view_module": "@jupyter-widgets/base",
       "_view_module_version": "1.2.0",
       "_view_name": "LayoutView",
       "align_content": null,
       "align_items": null,
       "align_self": null,
       "border": null,
       "bottom": null,
       "display": null,
       "flex": null,
       "flex_flow": null,
       "grid_area": null,
       "grid_auto_columns": null,
       "grid_auto_flow": null,
       "grid_auto_rows": null,
       "grid_column": null,
       "grid_gap": null,
       "grid_row": null,
       "grid_template_areas": null,
       "grid_template_columns": null,
       "grid_template_rows": null,
       "height": null,
       "justify_content": null,
       "justify_items": null,
       "left": null,
       "margin": null,
       "max_height": null,
       "max_width": null,
       "min_height": null,
       "min_width": null,
       "object_fit": null,
       "object_position": null,
       "order": null,
       "overflow": null,
       "overflow_x": null,
       "overflow_y": null,
       "padding": null,
       "right": null,
       "top": null,
       "visibility": null,
       "width": null
      }
     },
     "297c9ad7973d4129aa609ec90e4d89ff": {
      "model_module": "@jupyter-widgets/controls",
      "model_module_version": "1.5.0",
      "model_name": "HTMLModel",
      "state": {
       "_dom_classes": [],
       "_model_module": "@jupyter-widgets/controls",
       "_model_module_version": "1.5.0",
       "_model_name": "HTMLModel",
       "_view_count": null,
       "_view_module": "@jupyter-widgets/controls",
       "_view_module_version": "1.5.0",
       "_view_name": "HTMLView",
       "description": "",
       "description_tooltip": null,
       "layout": "IPY_MODEL_4099c9097a4a4a338504b44cbaf80c0a",
       "placeholder": "​",
       "style": "IPY_MODEL_a02fc1651c4e49c1be254eced5a0f7ef",
       "value": "model.safetensors: 100%"
      }
     },
     "2afd995706e04cdb8f178da99e5dacab": {
      "model_module": "@jupyter-widgets/controls",
      "model_module_version": "1.5.0",
      "model_name": "HTMLModel",
      "state": {
       "_dom_classes": [],
       "_model_module": "@jupyter-widgets/controls",
       "_model_module_version": "1.5.0",
       "_model_name": "HTMLModel",
       "_view_count": null,
       "_view_module": "@jupyter-widgets/controls",
       "_view_module_version": "1.5.0",
       "_view_name": "HTMLView",
       "description": "",
       "description_tooltip": null,
       "layout": "IPY_MODEL_dc6619daaac14bbe8afe0fad7c571c48",
       "placeholder": "​",
       "style": "IPY_MODEL_69035d9642db4c64b808aca52b20af92",
       "value": " 570/570 [00:00&lt;00:00, 38.4kB/s]"
      }
     },
     "342fdfba11764d86b3b4ebbcdb48966d": {
      "model_module": "@jupyter-widgets/controls",
      "model_module_version": "1.5.0",
      "model_name": "DescriptionStyleModel",
      "state": {
       "_model_module": "@jupyter-widgets/controls",
       "_model_module_version": "1.5.0",
       "_model_name": "DescriptionStyleModel",
       "_view_count": null,
       "_view_module": "@jupyter-widgets/base",
       "_view_module_version": "1.2.0",
       "_view_name": "StyleView",
       "description_width": ""
      }
     },
     "4099c9097a4a4a338504b44cbaf80c0a": {
      "model_module": "@jupyter-widgets/base",
      "model_module_version": "1.2.0",
      "model_name": "LayoutModel",
      "state": {
       "_model_module": "@jupyter-widgets/base",
       "_model_module_version": "1.2.0",
       "_model_name": "LayoutModel",
       "_view_count": null,
       "_view_module": "@jupyter-widgets/base",
       "_view_module_version": "1.2.0",
       "_view_name": "LayoutView",
       "align_content": null,
       "align_items": null,
       "align_self": null,
       "border": null,
       "bottom": null,
       "display": null,
       "flex": null,
       "flex_flow": null,
       "grid_area": null,
       "grid_auto_columns": null,
       "grid_auto_flow": null,
       "grid_auto_rows": null,
       "grid_column": null,
       "grid_gap": null,
       "grid_row": null,
       "grid_template_areas": null,
       "grid_template_columns": null,
       "grid_template_rows": null,
       "height": null,
       "justify_content": null,
       "justify_items": null,
       "left": null,
       "margin": null,
       "max_height": null,
       "max_width": null,
       "min_height": null,
       "min_width": null,
       "object_fit": null,
       "object_position": null,
       "order": null,
       "overflow": null,
       "overflow_x": null,
       "overflow_y": null,
       "padding": null,
       "right": null,
       "top": null,
       "visibility": null,
       "width": null
      }
     },
     "44b5eef1b1a04acd954452d6e3097608": {
      "model_module": "@jupyter-widgets/base",
      "model_module_version": "1.2.0",
      "model_name": "LayoutModel",
      "state": {
       "_model_module": "@jupyter-widgets/base",
       "_model_module_version": "1.2.0",
       "_model_name": "LayoutModel",
       "_view_count": null,
       "_view_module": "@jupyter-widgets/base",
       "_view_module_version": "1.2.0",
       "_view_name": "LayoutView",
       "align_content": null,
       "align_items": null,
       "align_self": null,
       "border": null,
       "bottom": null,
       "display": null,
       "flex": null,
       "flex_flow": null,
       "grid_area": null,
       "grid_auto_columns": null,
       "grid_auto_flow": null,
       "grid_auto_rows": null,
       "grid_column": null,
       "grid_gap": null,
       "grid_row": null,
       "grid_template_areas": null,
       "grid_template_columns": null,
       "grid_template_rows": null,
       "height": null,
       "justify_content": null,
       "justify_items": null,
       "left": null,
       "margin": null,
       "max_height": null,
       "max_width": null,
       "min_height": null,
       "min_width": null,
       "object_fit": null,
       "object_position": null,
       "order": null,
       "overflow": null,
       "overflow_x": null,
       "overflow_y": null,
       "padding": null,
       "right": null,
       "top": null,
       "visibility": null,
       "width": null
      }
     },
     "46dc4ad032174e429c666154313c63f8": {
      "model_module": "@jupyter-widgets/base",
      "model_module_version": "1.2.0",
      "model_name": "LayoutModel",
      "state": {
       "_model_module": "@jupyter-widgets/base",
       "_model_module_version": "1.2.0",
       "_model_name": "LayoutModel",
       "_view_count": null,
       "_view_module": "@jupyter-widgets/base",
       "_view_module_version": "1.2.0",
       "_view_name": "LayoutView",
       "align_content": null,
       "align_items": null,
       "align_self": null,
       "border": null,
       "bottom": null,
       "display": null,
       "flex": null,
       "flex_flow": null,
       "grid_area": null,
       "grid_auto_columns": null,
       "grid_auto_flow": null,
       "grid_auto_rows": null,
       "grid_column": null,
       "grid_gap": null,
       "grid_row": null,
       "grid_template_areas": null,
       "grid_template_columns": null,
       "grid_template_rows": null,
       "height": null,
       "justify_content": null,
       "justify_items": null,
       "left": null,
       "margin": null,
       "max_height": null,
       "max_width": null,
       "min_height": null,
       "min_width": null,
       "object_fit": null,
       "object_position": null,
       "order": null,
       "overflow": null,
       "overflow_x": null,
       "overflow_y": null,
       "padding": null,
       "right": null,
       "top": null,
       "visibility": null,
       "width": null
      }
     },
     "4a37cdcc75c143e395a72eb9633add9f": {
      "model_module": "@jupyter-widgets/base",
      "model_module_version": "1.2.0",
      "model_name": "LayoutModel",
      "state": {
       "_model_module": "@jupyter-widgets/base",
       "_model_module_version": "1.2.0",
       "_model_name": "LayoutModel",
       "_view_count": null,
       "_view_module": "@jupyter-widgets/base",
       "_view_module_version": "1.2.0",
       "_view_name": "LayoutView",
       "align_content": null,
       "align_items": null,
       "align_self": null,
       "border": null,
       "bottom": null,
       "display": null,
       "flex": null,
       "flex_flow": null,
       "grid_area": null,
       "grid_auto_columns": null,
       "grid_auto_flow": null,
       "grid_auto_rows": null,
       "grid_column": null,
       "grid_gap": null,
       "grid_row": null,
       "grid_template_areas": null,
       "grid_template_columns": null,
       "grid_template_rows": null,
       "height": null,
       "justify_content": null,
       "justify_items": null,
       "left": null,
       "margin": null,
       "max_height": null,
       "max_width": null,
       "min_height": null,
       "min_width": null,
       "object_fit": null,
       "object_position": null,
       "order": null,
       "overflow": null,
       "overflow_x": null,
       "overflow_y": null,
       "padding": null,
       "right": null,
       "top": null,
       "visibility": null,
       "width": null
      }
     },
     "4c066e86d14c4998b093a2aaec41e0c0": {
      "model_module": "@jupyter-widgets/base",
      "model_module_version": "1.2.0",
      "model_name": "LayoutModel",
      "state": {
       "_model_module": "@jupyter-widgets/base",
       "_model_module_version": "1.2.0",
       "_model_name": "LayoutModel",
       "_view_count": null,
       "_view_module": "@jupyter-widgets/base",
       "_view_module_version": "1.2.0",
       "_view_name": "LayoutView",
       "align_content": null,
       "align_items": null,
       "align_self": null,
       "border": null,
       "bottom": null,
       "display": null,
       "flex": null,
       "flex_flow": null,
       "grid_area": null,
       "grid_auto_columns": null,
       "grid_auto_flow": null,
       "grid_auto_rows": null,
       "grid_column": null,
       "grid_gap": null,
       "grid_row": null,
       "grid_template_areas": null,
       "grid_template_columns": null,
       "grid_template_rows": null,
       "height": null,
       "justify_content": null,
       "justify_items": null,
       "left": null,
       "margin": null,
       "max_height": null,
       "max_width": null,
       "min_height": null,
       "min_width": null,
       "object_fit": null,
       "object_position": null,
       "order": null,
       "overflow": null,
       "overflow_x": null,
       "overflow_y": null,
       "padding": null,
       "right": null,
       "top": null,
       "visibility": null,
       "width": null
      }
     },
     "507ad5347d9b439ab00a9234f2ce4da9": {
      "model_module": "@jupyter-widgets/controls",
      "model_module_version": "1.5.0",
      "model_name": "HBoxModel",
      "state": {
       "_dom_classes": [],
       "_model_module": "@jupyter-widgets/controls",
       "_model_module_version": "1.5.0",
       "_model_name": "HBoxModel",
       "_view_count": null,
       "_view_module": "@jupyter-widgets/controls",
       "_view_module_version": "1.5.0",
       "_view_name": "HBoxView",
       "box_style": "",
       "children": [
        "IPY_MODEL_134572781c3749cf88676bf056a1b68b",
        "IPY_MODEL_b6fc9be188ff4b2ca10c567a7409253a",
        "IPY_MODEL_da6aade4d9cc40939c2e8e2f924f5b2b"
       ],
       "layout": "IPY_MODEL_5f879626efd44255b25fedb7a6a4c894"
      }
     },
     "51d4c9f2506e4e0aa1dd6f1bd66bb449": {
      "model_module": "@jupyter-widgets/controls",
      "model_module_version": "1.5.0",
      "model_name": "HTMLModel",
      "state": {
       "_dom_classes": [],
       "_model_module": "@jupyter-widgets/controls",
       "_model_module_version": "1.5.0",
       "_model_name": "HTMLModel",
       "_view_count": null,
       "_view_module": "@jupyter-widgets/controls",
       "_view_module_version": "1.5.0",
       "_view_name": "HTMLView",
       "description": "",
       "description_tooltip": null,
       "layout": "IPY_MODEL_b68fb6f6af5b44e99c0213a47e220cec",
       "placeholder": "​",
       "style": "IPY_MODEL_a710e5eec21145e9b412b529353cb998",
       "value": " [100%]   00:00 -&gt; (00:00 left)"
      }
     },
     "54882e5969894126ba8b8456fab233d8": {
      "model_module": "@jupyter-widgets/controls",
      "model_module_version": "1.5.0",
      "model_name": "DescriptionStyleModel",
      "state": {
       "_model_module": "@jupyter-widgets/controls",
       "_model_module_version": "1.5.0",
       "_model_name": "DescriptionStyleModel",
       "_view_count": null,
       "_view_module": "@jupyter-widgets/base",
       "_view_module_version": "1.2.0",
       "_view_name": "StyleView",
       "description_width": ""
      }
     },
     "559a9f615e2b43a4985f53bb00614e32": {
      "model_module": "@jupyter-widgets/controls",
      "model_module_version": "1.5.0",
      "model_name": "ProgressStyleModel",
      "state": {
       "_model_module": "@jupyter-widgets/controls",
       "_model_module_version": "1.5.0",
       "_model_name": "ProgressStyleModel",
       "_view_count": null,
       "_view_module": "@jupyter-widgets/base",
       "_view_module_version": "1.2.0",
       "_view_name": "StyleView",
       "bar_color": null,
       "description_width": ""
      }
     },
     "58d7664422824c9f88de6f967c855d68": {
      "model_module": "@jupyter-widgets/base",
      "model_module_version": "1.2.0",
      "model_name": "LayoutModel",
      "state": {
       "_model_module": "@jupyter-widgets/base",
       "_model_module_version": "1.2.0",
       "_model_name": "LayoutModel",
       "_view_count": null,
       "_view_module": "@jupyter-widgets/base",
       "_view_module_version": "1.2.0",
       "_view_name": "LayoutView",
       "align_content": null,
       "align_items": null,
       "align_self": null,
       "border": null,
       "bottom": null,
       "display": null,
       "flex": null,
       "flex_flow": null,
       "grid_area": null,
       "grid_auto_columns": null,
       "grid_auto_flow": null,
       "grid_auto_rows": null,
       "grid_column": null,
       "grid_gap": null,
       "grid_row": null,
       "grid_template_areas": null,
       "grid_template_columns": null,
       "grid_template_rows": null,
       "height": null,
       "justify_content": null,
       "justify_items": null,
       "left": null,
       "margin": null,
       "max_height": null,
       "max_width": null,
       "min_height": null,
       "min_width": null,
       "object_fit": null,
       "object_position": null,
       "order": null,
       "overflow": null,
       "overflow_x": null,
       "overflow_y": null,
       "padding": null,
       "right": null,
       "top": null,
       "visibility": null,
       "width": null
      }
     },
     "5f879626efd44255b25fedb7a6a4c894": {
      "model_module": "@jupyter-widgets/base",
      "model_module_version": "1.2.0",
      "model_name": "LayoutModel",
      "state": {
       "_model_module": "@jupyter-widgets/base",
       "_model_module_version": "1.2.0",
       "_model_name": "LayoutModel",
       "_view_count": null,
       "_view_module": "@jupyter-widgets/base",
       "_view_module_version": "1.2.0",
       "_view_name": "LayoutView",
       "align_content": null,
       "align_items": null,
       "align_self": null,
       "border": null,
       "bottom": null,
       "display": null,
       "flex": null,
       "flex_flow": null,
       "grid_area": null,
       "grid_auto_columns": null,
       "grid_auto_flow": null,
       "grid_auto_rows": null,
       "grid_column": null,
       "grid_gap": null,
       "grid_row": null,
       "grid_template_areas": null,
       "grid_template_columns": null,
       "grid_template_rows": null,
       "height": null,
       "justify_content": null,
       "justify_items": null,
       "left": null,
       "margin": null,
       "max_height": null,
       "max_width": null,
       "min_height": null,
       "min_width": null,
       "object_fit": null,
       "object_position": null,
       "order": null,
       "overflow": null,
       "overflow_x": null,
       "overflow_y": null,
       "padding": null,
       "right": null,
       "top": null,
       "visibility": null,
       "width": null
      }
     },
     "619a8f742d37460084c41222a6be5aac": {
      "model_module": "@jupyter-widgets/controls",
      "model_module_version": "1.5.0",
      "model_name": "HBoxModel",
      "state": {
       "_dom_classes": [],
       "_model_module": "@jupyter-widgets/controls",
       "_model_module_version": "1.5.0",
       "_model_name": "HBoxModel",
       "_view_count": null,
       "_view_module": "@jupyter-widgets/controls",
       "_view_module_version": "1.5.0",
       "_view_name": "HBoxView",
       "box_style": "",
       "children": [
        "IPY_MODEL_74ef585921d848359b4abd6aede3b3b7",
        "IPY_MODEL_af763249c34f4df5943ec4f65e7d96e8",
        "IPY_MODEL_2afd995706e04cdb8f178da99e5dacab"
       ],
       "layout": "IPY_MODEL_8d98a55ac3eb48098c678f9c581466d8"
      }
     },
     "6766f1d6976247b49aae2852244d67e4": {
      "model_module": "@jupyter-widgets/controls",
      "model_module_version": "1.5.0",
      "model_name": "ProgressStyleModel",
      "state": {
       "_model_module": "@jupyter-widgets/controls",
       "_model_module_version": "1.5.0",
       "_model_name": "ProgressStyleModel",
       "_view_count": null,
       "_view_module": "@jupyter-widgets/base",
       "_view_module_version": "1.2.0",
       "_view_name": "StyleView",
       "bar_color": null,
       "description_width": ""
      }
     },
     "688e9070fecd47e0b165dfbfa5f0f975": {
      "model_module": "@jupyter-widgets/controls",
      "model_module_version": "1.5.0",
      "model_name": "HTMLModel",
      "state": {
       "_dom_classes": [],
       "_model_module": "@jupyter-widgets/controls",
       "_model_module_version": "1.5.0",
       "_model_name": "HTMLModel",
       "_view_count": null,
       "_view_module": "@jupyter-widgets/controls",
       "_view_module_version": "1.5.0",
       "_view_name": "HTMLView",
       "description": "",
       "description_tooltip": null,
       "layout": "IPY_MODEL_96215fef4b01429aba53f55d37146531",
       "placeholder": "​",
       "style": "IPY_MODEL_54882e5969894126ba8b8456fab233d8",
       "value": "Done! Use &#x27;show&#x27; commands to display/save.   "
      }
     },
     "69035d9642db4c64b808aca52b20af92": {
      "model_module": "@jupyter-widgets/controls",
      "model_module_version": "1.5.0",
      "model_name": "DescriptionStyleModel",
      "state": {
       "_model_module": "@jupyter-widgets/controls",
       "_model_module_version": "1.5.0",
       "_model_name": "DescriptionStyleModel",
       "_view_count": null,
       "_view_module": "@jupyter-widgets/base",
       "_view_module_version": "1.2.0",
       "_view_name": "StyleView",
       "description_width": ""
      }
     },
     "6cf7ab5a0d0449579550ce751a7e1e2c": {
      "model_module": "@jupyter-widgets/base",
      "model_module_version": "1.2.0",
      "model_name": "LayoutModel",
      "state": {
       "_model_module": "@jupyter-widgets/base",
       "_model_module_version": "1.2.0",
       "_model_name": "LayoutModel",
       "_view_count": null,
       "_view_module": "@jupyter-widgets/base",
       "_view_module_version": "1.2.0",
       "_view_name": "LayoutView",
       "align_content": null,
       "align_items": null,
       "align_self": null,
       "border": null,
       "bottom": null,
       "display": null,
       "flex": null,
       "flex_flow": null,
       "grid_area": null,
       "grid_auto_columns": null,
       "grid_auto_flow": null,
       "grid_auto_rows": null,
       "grid_column": null,
       "grid_gap": null,
       "grid_row": null,
       "grid_template_areas": null,
       "grid_template_columns": null,
       "grid_template_rows": null,
       "height": null,
       "justify_content": null,
       "justify_items": null,
       "left": null,
       "margin": null,
       "max_height": null,
       "max_width": null,
       "min_height": null,
       "min_width": null,
       "object_fit": null,
       "object_position": null,
       "order": null,
       "overflow": null,
       "overflow_x": null,
       "overflow_y": null,
       "padding": null,
       "right": null,
       "top": null,
       "visibility": null,
       "width": null
      }
     },
     "6e3346aadd924090a29a5c041fbbd8ce": {
      "model_module": "@jupyter-widgets/controls",
      "model_module_version": "1.5.0",
      "model_name": "DescriptionStyleModel",
      "state": {
       "_model_module": "@jupyter-widgets/controls",
       "_model_module_version": "1.5.0",
       "_model_name": "DescriptionStyleModel",
       "_view_count": null,
       "_view_module": "@jupyter-widgets/base",
       "_view_module_version": "1.2.0",
       "_view_name": "StyleView",
       "description_width": ""
      }
     },
     "7177338a566a4f74a236aed4a30775a9": {
      "model_module": "@jupyter-widgets/controls",
      "model_module_version": "1.5.0",
      "model_name": "HBoxModel",
      "state": {
       "_dom_classes": [],
       "_model_module": "@jupyter-widgets/controls",
       "_model_module_version": "1.5.0",
       "_model_name": "HBoxModel",
       "_view_count": null,
       "_view_module": "@jupyter-widgets/controls",
       "_view_module_version": "1.5.0",
       "_view_name": "HBoxView",
       "box_style": "",
       "children": [
        "IPY_MODEL_297c9ad7973d4129aa609ec90e4d89ff",
        "IPY_MODEL_da1f322a6b0942ec9a3a221ec6805ed3",
        "IPY_MODEL_ce0f1ee0f23b4586bde83355281e3f1d"
       ],
       "layout": "IPY_MODEL_d721ab65114546668ea242173628d50a"
      }
     },
     "7243b4716ed74806b92f7e9c357a8f0b": {
      "model_module": "@jupyter-widgets/base",
      "model_module_version": "1.2.0",
      "model_name": "LayoutModel",
      "state": {
       "_model_module": "@jupyter-widgets/base",
       "_model_module_version": "1.2.0",
       "_model_name": "LayoutModel",
       "_view_count": null,
       "_view_module": "@jupyter-widgets/base",
       "_view_module_version": "1.2.0",
       "_view_name": "LayoutView",
       "align_content": null,
       "align_items": null,
       "align_self": null,
       "border": null,
       "bottom": null,
       "display": "inline-flex",
       "flex": null,
       "flex_flow": "row wrap",
       "grid_area": null,
       "grid_auto_columns": null,
       "grid_auto_flow": null,
       "grid_auto_rows": null,
       "grid_column": null,
       "grid_gap": null,
       "grid_row": null,
       "grid_template_areas": null,
       "grid_template_columns": null,
       "grid_template_rows": null,
       "height": null,
       "justify_content": null,
       "justify_items": null,
       "left": null,
       "margin": null,
       "max_height": null,
       "max_width": null,
       "min_height": null,
       "min_width": null,
       "object_fit": null,
       "object_position": null,
       "order": null,
       "overflow": null,
       "overflow_x": null,
       "overflow_y": null,
       "padding": null,
       "right": null,
       "top": null,
       "visibility": null,
       "width": "100%"
      }
     },
     "741aa6333dc7414dbb23dd5fe6aa24c4": {
      "model_module": "@jupyter-widgets/controls",
      "model_module_version": "1.5.0",
      "model_name": "FloatProgressModel",
      "state": {
       "_dom_classes": [],
       "_model_module": "@jupyter-widgets/controls",
       "_model_module_version": "1.5.0",
       "_model_name": "FloatProgressModel",
       "_view_count": null,
       "_view_module": "@jupyter-widgets/controls",
       "_view_module_version": "1.5.0",
       "_view_name": "ProgressView",
       "bar_style": "success",
       "description": "",
       "description_tooltip": null,
       "layout": "IPY_MODEL_46dc4ad032174e429c666154313c63f8",
       "max": 48.0,
       "min": 0.0,
       "orientation": "horizontal",
       "style": "IPY_MODEL_559a9f615e2b43a4985f53bb00614e32",
       "value": 48.0
      }
     },
     "74ef585921d848359b4abd6aede3b3b7": {
      "model_module": "@jupyter-widgets/controls",
      "model_module_version": "1.5.0",
      "model_name": "HTMLModel",
      "state": {
       "_dom_classes": [],
       "_model_module": "@jupyter-widgets/controls",
       "_model_module_version": "1.5.0",
       "_model_name": "HTMLModel",
       "_view_count": null,
       "_view_module": "@jupyter-widgets/controls",
       "_view_module_version": "1.5.0",
       "_view_name": "HTMLView",
       "description": "",
       "description_tooltip": null,
       "layout": "IPY_MODEL_4a37cdcc75c143e395a72eb9633add9f",
       "placeholder": "​",
       "style": "IPY_MODEL_eed4d8e6f158491a98d9cefce644e42c",
       "value": "config.json: 100%"
      }
     },
     "8099edc5fd7c4a6794afdaafe668b6b6": {
      "model_module": "@jupyter-widgets/controls",
      "model_module_version": "1.5.0",
      "model_name": "HTMLModel",
      "state": {
       "_dom_classes": [],
       "_model_module": "@jupyter-widgets/controls",
       "_model_module_version": "1.5.0",
       "_model_name": "HTMLModel",
       "_view_count": null,
       "_view_module": "@jupyter-widgets/controls",
       "_view_module_version": "1.5.0",
       "_view_name": "HTMLView",
       "description": "",
       "description_tooltip": null,
       "layout": "IPY_MODEL_d3b8fc2f3fb8468286fcb02a0342f9dd",
       "placeholder": "​",
       "style": "IPY_MODEL_342fdfba11764d86b3b4ebbcdb48966d",
       "value": "tokenizer.json: 100%"
      }
     },
     "8ca2a34797574d369ed663834d2d3060": {
      "model_module": "@jupyter-widgets/base",
      "model_module_version": "1.2.0",
      "model_name": "LayoutModel",
      "state": {
       "_model_module": "@jupyter-widgets/base",
       "_model_module_version": "1.2.0",
       "_model_name": "LayoutModel",
       "_view_count": null,
       "_view_module": "@jupyter-widgets/base",
       "_view_module_version": "1.2.0",
       "_view_name": "LayoutView",
       "align_content": null,
       "align_items": null,
       "align_self": null,
       "border": null,
       "bottom": null,
       "display": null,
       "flex": "2",
       "flex_flow": null,
       "grid_area": null,
       "grid_auto_columns": null,
       "grid_auto_flow": null,
       "grid_auto_rows": null,
       "grid_column": null,
       "grid_gap": null,
       "grid_row": null,
       "grid_template_areas": null,
       "grid_template_columns": null,
       "grid_template_rows": null,
       "height": null,
       "justify_content": null,
       "justify_items": null,
       "left": null,
       "margin": null,
       "max_height": null,
       "max_width": null,
       "min_height": null,
       "min_width": null,
       "object_fit": null,
       "object_position": null,
       "order": null,
       "overflow": null,
       "overflow_x": null,
       "overflow_y": null,
       "padding": null,
       "right": null,
       "top": null,
       "visibility": null,
       "width": null
      }
     },
     "8d98a55ac3eb48098c678f9c581466d8": {
      "model_module": "@jupyter-widgets/base",
      "model_module_version": "1.2.0",
      "model_name": "LayoutModel",
      "state": {
       "_model_module": "@jupyter-widgets/base",
       "_model_module_version": "1.2.0",
       "_model_name": "LayoutModel",
       "_view_count": null,
       "_view_module": "@jupyter-widgets/base",
       "_view_module_version": "1.2.0",
       "_view_name": "LayoutView",
       "align_content": null,
       "align_items": null,
       "align_self": null,
       "border": null,
       "bottom": null,
       "display": null,
       "flex": null,
       "flex_flow": null,
       "grid_area": null,
       "grid_auto_columns": null,
       "grid_auto_flow": null,
       "grid_auto_rows": null,
       "grid_column": null,
       "grid_gap": null,
       "grid_row": null,
       "grid_template_areas": null,
       "grid_template_columns": null,
       "grid_template_rows": null,
       "height": null,
       "justify_content": null,
       "justify_items": null,
       "left": null,
       "margin": null,
       "max_height": null,
       "max_width": null,
       "min_height": null,
       "min_width": null,
       "object_fit": null,
       "object_position": null,
       "order": null,
       "overflow": null,
       "overflow_x": null,
       "overflow_y": null,
       "padding": null,
       "right": null,
       "top": null,
       "visibility": null,
       "width": null
      }
     },
     "939f8989e1d64f2e85653c61b681f16d": {
      "model_module": "@jupyter-widgets/controls",
      "model_module_version": "1.5.0",
      "model_name": "DescriptionStyleModel",
      "state": {
       "_model_module": "@jupyter-widgets/controls",
       "_model_module_version": "1.5.0",
       "_model_name": "DescriptionStyleModel",
       "_view_count": null,
       "_view_module": "@jupyter-widgets/base",
       "_view_module_version": "1.2.0",
       "_view_name": "StyleView",
       "description_width": ""
      }
     },
     "96215fef4b01429aba53f55d37146531": {
      "model_module": "@jupyter-widgets/base",
      "model_module_version": "1.2.0",
      "model_name": "LayoutModel",
      "state": {
       "_model_module": "@jupyter-widgets/base",
       "_model_module_version": "1.2.0",
       "_model_name": "LayoutModel",
       "_view_count": null,
       "_view_module": "@jupyter-widgets/base",
       "_view_module_version": "1.2.0",
       "_view_name": "LayoutView",
       "align_content": null,
       "align_items": null,
       "align_self": null,
       "border": null,
       "bottom": null,
       "display": null,
       "flex": null,
       "flex_flow": null,
       "grid_area": null,
       "grid_auto_columns": null,
       "grid_auto_flow": null,
       "grid_auto_rows": null,
       "grid_column": null,
       "grid_gap": null,
       "grid_row": null,
       "grid_template_areas": null,
       "grid_template_columns": null,
       "grid_template_rows": null,
       "height": null,
       "justify_content": null,
       "justify_items": null,
       "left": null,
       "margin": null,
       "max_height": null,
       "max_width": null,
       "min_height": null,
       "min_width": null,
       "object_fit": null,
       "object_position": null,
       "order": null,
       "overflow": null,
       "overflow_x": null,
       "overflow_y": null,
       "padding": null,
       "right": null,
       "top": null,
       "visibility": null,
       "width": null
      }
     },
     "9f5a3a73de9c4973853d9febd41fb866": {
      "model_module": "@jupyter-widgets/base",
      "model_module_version": "1.2.0",
      "model_name": "LayoutModel",
      "state": {
       "_model_module": "@jupyter-widgets/base",
       "_model_module_version": "1.2.0",
       "_model_name": "LayoutModel",
       "_view_count": null,
       "_view_module": "@jupyter-widgets/base",
       "_view_module_version": "1.2.0",
       "_view_name": "LayoutView",
       "align_content": null,
       "align_items": null,
       "align_self": null,
       "border": null,
       "bottom": null,
       "display": null,
       "flex": null,
       "flex_flow": null,
       "grid_area": null,
       "grid_auto_columns": null,
       "grid_auto_flow": null,
       "grid_auto_rows": null,
       "grid_column": null,
       "grid_gap": null,
       "grid_row": null,
       "grid_template_areas": null,
       "grid_template_columns": null,
       "grid_template_rows": null,
       "height": null,
       "justify_content": null,
       "justify_items": null,
       "left": null,
       "margin": null,
       "max_height": null,
       "max_width": null,
       "min_height": null,
       "min_width": null,
       "object_fit": null,
       "object_position": null,
       "order": null,
       "overflow": null,
       "overflow_x": null,
       "overflow_y": null,
       "padding": null,
       "right": null,
       "top": null,
       "visibility": null,
       "width": null
      }
     },
     "9fd12935bf2543b0a63b5dbc63f12a89": {
      "model_module": "@jupyter-widgets/base",
      "model_module_version": "1.2.0",
      "model_name": "LayoutModel",
      "state": {
       "_model_module": "@jupyter-widgets/base",
       "_model_module_version": "1.2.0",
       "_model_name": "LayoutModel",
       "_view_count": null,
       "_view_module": "@jupyter-widgets/base",
       "_view_module_version": "1.2.0",
       "_view_name": "LayoutView",
       "align_content": null,
       "align_items": null,
       "align_self": null,
       "border": null,
       "bottom": null,
       "display": null,
       "flex": null,
       "flex_flow": null,
       "grid_area": null,
       "grid_auto_columns": null,
       "grid_auto_flow": null,
       "grid_auto_rows": null,
       "grid_column": null,
       "grid_gap": null,
       "grid_row": null,
       "grid_template_areas": null,
       "grid_template_columns": null,
       "grid_template_rows": null,
       "height": null,
       "justify_content": null,
       "justify_items": null,
       "left": null,
       "margin": null,
       "max_height": null,
       "max_width": null,
       "min_height": null,
       "min_width": null,
       "object_fit": null,
       "object_position": null,
       "order": null,
       "overflow": null,
       "overflow_x": null,
       "overflow_y": null,
       "padding": null,
       "right": null,
       "top": null,
       "visibility": null,
       "width": null
      }
     },
     "a02fc1651c4e49c1be254eced5a0f7ef": {
      "model_module": "@jupyter-widgets/controls",
      "model_module_version": "1.5.0",
      "model_name": "DescriptionStyleModel",
      "state": {
       "_model_module": "@jupyter-widgets/controls",
       "_model_module_version": "1.5.0",
       "_model_name": "DescriptionStyleModel",
       "_view_count": null,
       "_view_module": "@jupyter-widgets/base",
       "_view_module_version": "1.2.0",
       "_view_name": "StyleView",
       "description_width": ""
      }
     },
     "a710e5eec21145e9b412b529353cb998": {
      "model_module": "@jupyter-widgets/controls",
      "model_module_version": "1.5.0",
      "model_name": "DescriptionStyleModel",
      "state": {
       "_model_module": "@jupyter-widgets/controls",
       "_model_module_version": "1.5.0",
       "_model_name": "DescriptionStyleModel",
       "_view_count": null,
       "_view_module": "@jupyter-widgets/base",
       "_view_module_version": "1.2.0",
       "_view_name": "StyleView",
       "description_width": ""
      }
     },
     "ac425b1d46464432a5ae71cdb8b784b6": {
      "model_module": "@jupyter-widgets/base",
      "model_module_version": "1.2.0",
      "model_name": "LayoutModel",
      "state": {
       "_model_module": "@jupyter-widgets/base",
       "_model_module_version": "1.2.0",
       "_model_name": "LayoutModel",
       "_view_count": null,
       "_view_module": "@jupyter-widgets/base",
       "_view_module_version": "1.2.0",
       "_view_name": "LayoutView",
       "align_content": null,
       "align_items": null,
       "align_self": null,
       "border": null,
       "bottom": null,
       "display": null,
       "flex": null,
       "flex_flow": null,
       "grid_area": null,
       "grid_auto_columns": null,
       "grid_auto_flow": null,
       "grid_auto_rows": null,
       "grid_column": null,
       "grid_gap": null,
       "grid_row": null,
       "grid_template_areas": null,
       "grid_template_columns": null,
       "grid_template_rows": null,
       "height": null,
       "justify_content": null,
       "justify_items": null,
       "left": null,
       "margin": null,
       "max_height": null,
       "max_width": null,
       "min_height": null,
       "min_width": null,
       "object_fit": null,
       "object_position": null,
       "order": null,
       "overflow": null,
       "overflow_x": null,
       "overflow_y": null,
       "padding": null,
       "right": null,
       "top": null,
       "visibility": null,
       "width": null
      }
     },
     "af763249c34f4df5943ec4f65e7d96e8": {
      "model_module": "@jupyter-widgets/controls",
      "model_module_version": "1.5.0",
      "model_name": "FloatProgressModel",
      "state": {
       "_dom_classes": [],
       "_model_module": "@jupyter-widgets/controls",
       "_model_module_version": "1.5.0",
       "_model_name": "FloatProgressModel",
       "_view_count": null,
       "_view_module": "@jupyter-widgets/controls",
       "_view_module_version": "1.5.0",
       "_view_name": "ProgressView",
       "bar_style": "success",
       "description": "",
       "description_tooltip": null,
       "layout": "IPY_MODEL_9fd12935bf2543b0a63b5dbc63f12a89",
       "max": 570.0,
       "min": 0.0,
       "orientation": "horizontal",
       "style": "IPY_MODEL_ef10a4e2441944dc8961b8073534ae05",
       "value": 570.0
      }
     },
     "b138aa37ee6e4daa9b4c6e082282dc16": {
      "model_module": "@jupyter-widgets/controls",
      "model_module_version": "1.5.0",
      "model_name": "DescriptionStyleModel",
      "state": {
       "_model_module": "@jupyter-widgets/controls",
       "_model_module_version": "1.5.0",
       "_model_name": "DescriptionStyleModel",
       "_view_count": null,
       "_view_module": "@jupyter-widgets/base",
       "_view_module_version": "1.2.0",
       "_view_name": "StyleView",
       "description_width": ""
      }
     },
     "b4ee3af604b5475195f47a20af00dc56": {
      "model_module": "@jupyter-widgets/base",
      "model_module_version": "1.2.0",
      "model_name": "LayoutModel",
      "state": {
       "_model_module": "@jupyter-widgets/base",
       "_model_module_version": "1.2.0",
       "_model_name": "LayoutModel",
       "_view_count": null,
       "_view_module": "@jupyter-widgets/base",
       "_view_module_version": "1.2.0",
       "_view_name": "LayoutView",
       "align_content": null,
       "align_items": null,
       "align_self": null,
       "border": null,
       "bottom": null,
       "display": null,
       "flex": null,
       "flex_flow": null,
       "grid_area": null,
       "grid_auto_columns": null,
       "grid_auto_flow": null,
       "grid_auto_rows": null,
       "grid_column": null,
       "grid_gap": null,
       "grid_row": null,
       "grid_template_areas": null,
       "grid_template_columns": null,
       "grid_template_rows": null,
       "height": null,
       "justify_content": null,
       "justify_items": null,
       "left": null,
       "margin": null,
       "max_height": null,
       "max_width": null,
       "min_height": null,
       "min_width": null,
       "object_fit": null,
       "object_position": null,
       "order": null,
       "overflow": null,
       "overflow_x": null,
       "overflow_y": null,
       "padding": null,
       "right": null,
       "top": null,
       "visibility": null,
       "width": null
      }
     },
     "b68fb6f6af5b44e99c0213a47e220cec": {
      "model_module": "@jupyter-widgets/base",
      "model_module_version": "1.2.0",
      "model_name": "LayoutModel",
      "state": {
       "_model_module": "@jupyter-widgets/base",
       "_model_module_version": "1.2.0",
       "_model_name": "LayoutModel",
       "_view_count": null,
       "_view_module": "@jupyter-widgets/base",
       "_view_module_version": "1.2.0",
       "_view_name": "LayoutView",
       "align_content": null,
       "align_items": null,
       "align_self": null,
       "border": null,
       "bottom": null,
       "display": null,
       "flex": null,
       "flex_flow": null,
       "grid_area": null,
       "grid_auto_columns": null,
       "grid_auto_flow": null,
       "grid_auto_rows": null,
       "grid_column": null,
       "grid_gap": null,
       "grid_row": null,
       "grid_template_areas": null,
       "grid_template_columns": null,
       "grid_template_rows": null,
       "height": null,
       "justify_content": null,
       "justify_items": null,
       "left": null,
       "margin": null,
       "max_height": null,
       "max_width": null,
       "min_height": null,
       "min_width": null,
       "object_fit": null,
       "object_position": null,
       "order": null,
       "overflow": null,
       "overflow_x": null,
       "overflow_y": null,
       "padding": null,
       "right": null,
       "top": null,
       "visibility": null,
       "width": null
      }
     },
     "b6fc9be188ff4b2ca10c567a7409253a": {
      "model_module": "@jupyter-widgets/controls",
      "model_module_version": "1.5.0",
      "model_name": "FloatProgressModel",
      "state": {
       "_dom_classes": [],
       "_model_module": "@jupyter-widgets/controls",
       "_model_module_version": "1.5.0",
       "_model_name": "FloatProgressModel",
       "_view_count": null,
       "_view_module": "@jupyter-widgets/controls",
       "_view_module_version": "1.5.0",
       "_view_name": "ProgressView",
       "bar_style": "success",
       "description": "",
       "description_tooltip": null,
       "layout": "IPY_MODEL_b4ee3af604b5475195f47a20af00dc56",
       "max": 231508.0,
       "min": 0.0,
       "orientation": "horizontal",
       "style": "IPY_MODEL_b71d0ccb87eb4fda9f9e536e67a3cfc5",
       "value": 231508.0
      }
     },
     "b71d0ccb87eb4fda9f9e536e67a3cfc5": {
      "model_module": "@jupyter-widgets/controls",
      "model_module_version": "1.5.0",
      "model_name": "ProgressStyleModel",
      "state": {
       "_model_module": "@jupyter-widgets/controls",
       "_model_module_version": "1.5.0",
       "_model_name": "ProgressStyleModel",
       "_view_count": null,
       "_view_module": "@jupyter-widgets/base",
       "_view_module_version": "1.2.0",
       "_view_name": "StyleView",
       "bar_color": null,
       "description_width": ""
      }
     },
     "c0f90f612d974705a3d789c679cc3ebd": {
      "model_module": "@jupyter-widgets/controls",
      "model_module_version": "1.5.0",
      "model_name": "FloatProgressModel",
      "state": {
       "_dom_classes": [],
       "_model_module": "@jupyter-widgets/controls",
       "_model_module_version": "1.5.0",
       "_model_name": "FloatProgressModel",
       "_view_count": null,
       "_view_module": "@jupyter-widgets/controls",
       "_view_module_version": "1.5.0",
       "_view_name": "ProgressView",
       "bar_style": "success",
       "description": "",
       "description_tooltip": null,
       "layout": "IPY_MODEL_8ca2a34797574d369ed663834d2d3060",
       "max": 1.0,
       "min": 0.0,
       "orientation": "horizontal",
       "style": "IPY_MODEL_e60f01bc488a452b82c75689f35eaa2b",
       "value": 1.0
      }
     },
     "c3e4a5f497e74982b1e54bd3c9cf83e6": {
      "model_module": "@jupyter-widgets/base",
      "model_module_version": "1.2.0",
      "model_name": "LayoutModel",
      "state": {
       "_model_module": "@jupyter-widgets/base",
       "_model_module_version": "1.2.0",
       "_model_name": "LayoutModel",
       "_view_count": null,
       "_view_module": "@jupyter-widgets/base",
       "_view_module_version": "1.2.0",
       "_view_name": "LayoutView",
       "align_content": null,
       "align_items": null,
       "align_self": null,
       "border": null,
       "bottom": null,
       "display": null,
       "flex": null,
       "flex_flow": null,
       "grid_area": null,
       "grid_auto_columns": null,
       "grid_auto_flow": null,
       "grid_auto_rows": null,
       "grid_column": null,
       "grid_gap": null,
       "grid_row": null,
       "grid_template_areas": null,
       "grid_template_columns": null,
       "grid_template_rows": null,
       "height": null,
       "justify_content": null,
       "justify_items": null,
       "left": null,
       "margin": null,
       "max_height": null,
       "max_width": null,
       "min_height": null,
       "min_width": null,
       "object_fit": null,
       "object_position": null,
       "order": null,
       "overflow": null,
       "overflow_x": null,
       "overflow_y": null,
       "padding": null,
       "right": null,
       "top": null,
       "visibility": null,
       "width": null
      }
     },
     "c6bc85651a1e49569c4c49b82f82dc3d": {
      "model_module": "@jupyter-widgets/controls",
      "model_module_version": "1.5.0",
      "model_name": "HTMLModel",
      "state": {
       "_dom_classes": [],
       "_model_module": "@jupyter-widgets/controls",
       "_model_module_version": "1.5.0",
       "_model_name": "HTMLModel",
       "_view_count": null,
       "_view_module": "@jupyter-widgets/controls",
       "_view_module_version": "1.5.0",
       "_view_name": "HTMLView",
       "description": "",
       "description_tooltip": null,
       "layout": "IPY_MODEL_6cf7ab5a0d0449579550ce751a7e1e2c",
       "placeholder": "​",
       "style": "IPY_MODEL_939f8989e1d64f2e85653c61b681f16d",
       "value": "tokenizer_config.json: 100%"
      }
     },
     "ce0f1ee0f23b4586bde83355281e3f1d": {
      "model_module": "@jupyter-widgets/controls",
      "model_module_version": "1.5.0",
      "model_name": "HTMLModel",
      "state": {
       "_dom_classes": [],
       "_model_module": "@jupyter-widgets/controls",
       "_model_module_version": "1.5.0",
       "_model_name": "HTMLModel",
       "_view_count": null,
       "_view_module": "@jupyter-widgets/controls",
       "_view_module_version": "1.5.0",
       "_view_name": "HTMLView",
       "description": "",
       "description_tooltip": null,
       "layout": "IPY_MODEL_44b5eef1b1a04acd954452d6e3097608",
       "placeholder": "​",
       "style": "IPY_MODEL_6e3346aadd924090a29a5c041fbbd8ce",
       "value": " 440M/440M [00:02&lt;00:00, 244MB/s]"
      }
     },
     "d2a38d10d53c454ebca0c7f8358292d2": {
      "model_module": "@jupyter-widgets/controls",
      "model_module_version": "1.5.0",
      "model_name": "DescriptionStyleModel",
      "state": {
       "_model_module": "@jupyter-widgets/controls",
       "_model_module_version": "1.5.0",
       "_model_name": "DescriptionStyleModel",
       "_view_count": null,
       "_view_module": "@jupyter-widgets/base",
       "_view_module_version": "1.2.0",
       "_view_name": "StyleView",
       "description_width": ""
      }
     },
     "d3b8fc2f3fb8468286fcb02a0342f9dd": {
      "model_module": "@jupyter-widgets/base",
      "model_module_version": "1.2.0",
      "model_name": "LayoutModel",
      "state": {
       "_model_module": "@jupyter-widgets/base",
       "_model_module_version": "1.2.0",
       "_model_name": "LayoutModel",
       "_view_count": null,
       "_view_module": "@jupyter-widgets/base",
       "_view_module_version": "1.2.0",
       "_view_name": "LayoutView",
       "align_content": null,
       "align_items": null,
       "align_self": null,
       "border": null,
       "bottom": null,
       "display": null,
       "flex": null,
       "flex_flow": null,
       "grid_area": null,
       "grid_auto_columns": null,
       "grid_auto_flow": null,
       "grid_auto_rows": null,
       "grid_column": null,
       "grid_gap": null,
       "grid_row": null,
       "grid_template_areas": null,
       "grid_template_columns": null,
       "grid_template_rows": null,
       "height": null,
       "justify_content": null,
       "justify_items": null,
       "left": null,
       "margin": null,
       "max_height": null,
       "max_width": null,
       "min_height": null,
       "min_width": null,
       "object_fit": null,
       "object_position": null,
       "order": null,
       "overflow": null,
       "overflow_x": null,
       "overflow_y": null,
       "padding": null,
       "right": null,
       "top": null,
       "visibility": null,
       "width": null
      }
     },
     "d721ab65114546668ea242173628d50a": {
      "model_module": "@jupyter-widgets/base",
      "model_module_version": "1.2.0",
      "model_name": "LayoutModel",
      "state": {
       "_model_module": "@jupyter-widgets/base",
       "_model_module_version": "1.2.0",
       "_model_name": "LayoutModel",
       "_view_count": null,
       "_view_module": "@jupyter-widgets/base",
       "_view_module_version": "1.2.0",
       "_view_name": "LayoutView",
       "align_content": null,
       "align_items": null,
       "align_self": null,
       "border": null,
       "bottom": null,
       "display": null,
       "flex": null,
       "flex_flow": null,
       "grid_area": null,
       "grid_auto_columns": null,
       "grid_auto_flow": null,
       "grid_auto_rows": null,
       "grid_column": null,
       "grid_gap": null,
       "grid_row": null,
       "grid_template_areas": null,
       "grid_template_columns": null,
       "grid_template_rows": null,
       "height": null,
       "justify_content": null,
       "justify_items": null,
       "left": null,
       "margin": null,
       "max_height": null,
       "max_width": null,
       "min_height": null,
       "min_width": null,
       "object_fit": null,
       "object_position": null,
       "order": null,
       "overflow": null,
       "overflow_x": null,
       "overflow_y": null,
       "padding": null,
       "right": null,
       "top": null,
       "visibility": null,
       "width": null
      }
     },
     "d9a016234fa74790ab8530f9dee4a0ad": {
      "model_module": "@jupyter-widgets/controls",
      "model_module_version": "1.5.0",
      "model_name": "HBoxModel",
      "state": {
       "_dom_classes": [],
       "_model_module": "@jupyter-widgets/controls",
       "_model_module_version": "1.5.0",
       "_model_name": "HBoxModel",
       "_view_count": null,
       "_view_module": "@jupyter-widgets/controls",
       "_view_module_version": "1.5.0",
       "_view_name": "HBoxView",
       "box_style": "",
       "children": [
        "IPY_MODEL_c6bc85651a1e49569c4c49b82f82dc3d",
        "IPY_MODEL_741aa6333dc7414dbb23dd5fe6aa24c4",
        "IPY_MODEL_e82851382ac74adc803baa2f08b7bcf7"
       ],
       "layout": "IPY_MODEL_ac425b1d46464432a5ae71cdb8b784b6"
      }
     },
     "da1f322a6b0942ec9a3a221ec6805ed3": {
      "model_module": "@jupyter-widgets/controls",
      "model_module_version": "1.5.0",
      "model_name": "FloatProgressModel",
      "state": {
       "_dom_classes": [],
       "_model_module": "@jupyter-widgets/controls",
       "_model_module_version": "1.5.0",
       "_model_name": "FloatProgressModel",
       "_view_count": null,
       "_view_module": "@jupyter-widgets/controls",
       "_view_module_version": "1.5.0",
       "_view_name": "ProgressView",
       "bar_style": "success",
       "description": "",
       "description_tooltip": null,
       "layout": "IPY_MODEL_16df65359e3441649effad8ae4fc378a",
       "max": 440449768.0,
       "min": 0.0,
       "orientation": "horizontal",
       "style": "IPY_MODEL_f15337a55ada4bbcbaa471182f8d3260",
       "value": 440449768.0
      }
     },
     "da6aade4d9cc40939c2e8e2f924f5b2b": {
      "model_module": "@jupyter-widgets/controls",
      "model_module_version": "1.5.0",
      "model_name": "HTMLModel",
      "state": {
       "_dom_classes": [],
       "_model_module": "@jupyter-widgets/controls",
       "_model_module_version": "1.5.0",
       "_model_name": "HTMLModel",
       "_view_count": null,
       "_view_module": "@jupyter-widgets/controls",
       "_view_module_version": "1.5.0",
       "_view_name": "HTMLView",
       "description": "",
       "description_tooltip": null,
       "layout": "IPY_MODEL_c3e4a5f497e74982b1e54bd3c9cf83e6",
       "placeholder": "​",
       "style": "IPY_MODEL_fdcd7570d77a4e0686a53de55381f7ef",
       "value": " 232k/232k [00:00&lt;00:00, 1.70MB/s]"
      }
     },
     "dc6619daaac14bbe8afe0fad7c571c48": {
      "model_module": "@jupyter-widgets/base",
      "model_module_version": "1.2.0",
      "model_name": "LayoutModel",
      "state": {
       "_model_module": "@jupyter-widgets/base",
       "_model_module_version": "1.2.0",
       "_model_name": "LayoutModel",
       "_view_count": null,
       "_view_module": "@jupyter-widgets/base",
       "_view_module_version": "1.2.0",
       "_view_name": "LayoutView",
       "align_content": null,
       "align_items": null,
       "align_self": null,
       "border": null,
       "bottom": null,
       "display": null,
       "flex": null,
       "flex_flow": null,
       "grid_area": null,
       "grid_auto_columns": null,
       "grid_auto_flow": null,
       "grid_auto_rows": null,
       "grid_column": null,
       "grid_gap": null,
       "grid_row": null,
       "grid_template_areas": null,
       "grid_template_columns": null,
       "grid_template_rows": null,
       "height": null,
       "justify_content": null,
       "justify_items": null,
       "left": null,
       "margin": null,
       "max_height": null,
       "max_width": null,
       "min_height": null,
       "min_width": null,
       "object_fit": null,
       "object_position": null,
       "order": null,
       "overflow": null,
       "overflow_x": null,
       "overflow_y": null,
       "padding": null,
       "right": null,
       "top": null,
       "visibility": null,
       "width": null
      }
     },
     "e60f01bc488a452b82c75689f35eaa2b": {
      "model_module": "@jupyter-widgets/controls",
      "model_module_version": "1.5.0",
      "model_name": "ProgressStyleModel",
      "state": {
       "_model_module": "@jupyter-widgets/controls",
       "_model_module_version": "1.5.0",
       "_model_name": "ProgressStyleModel",
       "_view_count": null,
       "_view_module": "@jupyter-widgets/base",
       "_view_module_version": "1.2.0",
       "_view_name": "StyleView",
       "bar_color": null,
       "description_width": ""
      }
     },
     "e82851382ac74adc803baa2f08b7bcf7": {
      "model_module": "@jupyter-widgets/controls",
      "model_module_version": "1.5.0",
      "model_name": "HTMLModel",
      "state": {
       "_dom_classes": [],
       "_model_module": "@jupyter-widgets/controls",
       "_model_module_version": "1.5.0",
       "_model_name": "HTMLModel",
       "_view_count": null,
       "_view_module": "@jupyter-widgets/controls",
       "_view_module_version": "1.5.0",
       "_view_name": "HTMLView",
       "description": "",
       "description_tooltip": null,
       "layout": "IPY_MODEL_2251af3aeeb04d1cabb8ebab8b8cdcfc",
       "placeholder": "​",
       "style": "IPY_MODEL_d2a38d10d53c454ebca0c7f8358292d2",
       "value": " 48.0/48.0 [00:00&lt;00:00, 3.73kB/s]"
      }
     },
     "eed4d8e6f158491a98d9cefce644e42c": {
      "model_module": "@jupyter-widgets/controls",
      "model_module_version": "1.5.0",
      "model_name": "DescriptionStyleModel",
      "state": {
       "_model_module": "@jupyter-widgets/controls",
       "_model_module_version": "1.5.0",
       "_model_name": "DescriptionStyleModel",
       "_view_count": null,
       "_view_module": "@jupyter-widgets/base",
       "_view_module_version": "1.2.0",
       "_view_name": "StyleView",
       "description_width": ""
      }
     },
     "ef0b3829831b4fd1941d407e6b39ddfc": {
      "model_module": "@jupyter-widgets/controls",
      "model_module_version": "1.5.0",
      "model_name": "HBoxModel",
      "state": {
       "_dom_classes": [],
       "_model_module": "@jupyter-widgets/controls",
       "_model_module_version": "1.5.0",
       "_model_name": "HBoxModel",
       "_view_count": null,
       "_view_module": "@jupyter-widgets/controls",
       "_view_module_version": "1.5.0",
       "_view_name": "HBoxView",
       "box_style": "",
       "children": [
        "IPY_MODEL_688e9070fecd47e0b165dfbfa5f0f975",
        "IPY_MODEL_c0f90f612d974705a3d789c679cc3ebd",
        "IPY_MODEL_51d4c9f2506e4e0aa1dd6f1bd66bb449"
       ],
       "layout": "IPY_MODEL_7243b4716ed74806b92f7e9c357a8f0b"
      }
     },
     "ef10a4e2441944dc8961b8073534ae05": {
      "model_module": "@jupyter-widgets/controls",
      "model_module_version": "1.5.0",
      "model_name": "ProgressStyleModel",
      "state": {
       "_model_module": "@jupyter-widgets/controls",
       "_model_module_version": "1.5.0",
       "_model_name": "ProgressStyleModel",
       "_view_count": null,
       "_view_module": "@jupyter-widgets/base",
       "_view_module_version": "1.2.0",
       "_view_name": "StyleView",
       "bar_color": null,
       "description_width": ""
      }
     },
     "f15337a55ada4bbcbaa471182f8d3260": {
      "model_module": "@jupyter-widgets/controls",
      "model_module_version": "1.5.0",
      "model_name": "ProgressStyleModel",
      "state": {
       "_model_module": "@jupyter-widgets/controls",
       "_model_module_version": "1.5.0",
       "_model_name": "ProgressStyleModel",
       "_view_count": null,
       "_view_module": "@jupyter-widgets/base",
       "_view_module_version": "1.2.0",
       "_view_name": "StyleView",
       "bar_color": null,
       "description_width": ""
      }
     },
     "fdcd7570d77a4e0686a53de55381f7ef": {
      "model_module": "@jupyter-widgets/controls",
      "model_module_version": "1.5.0",
      "model_name": "DescriptionStyleModel",
      "state": {
       "_model_module": "@jupyter-widgets/controls",
       "_model_module_version": "1.5.0",
       "_model_name": "DescriptionStyleModel",
       "_view_count": null,
       "_view_module": "@jupyter-widgets/base",
       "_view_module_version": "1.2.0",
       "_view_name": "StyleView",
       "description_width": ""
      }
     },
     "ffaae6a5456c401894d74325b6bf2d84": {
      "model_module": "@jupyter-widgets/controls",
      "model_module_version": "1.5.0",
      "model_name": "FloatProgressModel",
      "state": {
       "_dom_classes": [],
       "_model_module": "@jupyter-widgets/controls",
       "_model_module_version": "1.5.0",
       "_model_name": "FloatProgressModel",
       "_view_count": null,
       "_view_module": "@jupyter-widgets/controls",
       "_view_module_version": "1.5.0",
       "_view_name": "ProgressView",
       "bar_style": "success",
       "description": "",
       "description_tooltip": null,
       "layout": "IPY_MODEL_58d7664422824c9f88de6f967c855d68",
       "max": 466062.0,
       "min": 0.0,
       "orientation": "horizontal",
       "style": "IPY_MODEL_6766f1d6976247b49aae2852244d67e4",
       "value": 466062.0
      }
     }
    },
    "version_major": 2,
    "version_minor": 0
   }
  }
 },
 "nbformat": 4,
 "nbformat_minor": 5
}
